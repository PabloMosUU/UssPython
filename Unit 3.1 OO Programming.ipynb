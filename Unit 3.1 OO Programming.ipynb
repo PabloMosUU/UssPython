{
 "cells": [
  {
   "cell_type": "markdown",
   "metadata": {},
   "source": [
    "# Unit 3.1: Object-Oriented Programming\n",
    "\n",
    "This notebook is based on Anna-Lena Lamprecht's CoTaPP repository (https://github.com/annalenalamprecht/CoTaPP). Some modifications were made."
   ]
  },
  {
   "cell_type": "markdown",
   "metadata": {},
   "source": [
    "Yesterday we discussed data structures (lists, tuples, dictionaries, sets) in Python that allow us to work with more powerful data items than just the individual numbers, strings and Booleans that we had used before.\n",
    "\n",
    "Today we will dive deeper into objects and object-oriented programming (**OOP**) in Python. We will see how to create and use classes."
   ]
  },
  {
   "cell_type": "markdown",
   "metadata": {},
   "source": [
    "## Objects and Styles of Programming\n",
    "\n",
    "First of all it is important to realize that we have worked with objects all the time, even though we were not so explicit about it until now. In Python anything used in a program is considered an object. Numbers, strings, complex data structures, functions, etc. They are all objects! In that sense, Python is a strongly object-oriented language.\n",
    "\n",
    "Nevertheless, we have used functions and modules to organize our different pieces of functionality that manipulate data. This style of programming works fine for small- to medium-size data analysis applications.\n",
    "\n",
    "When writing larger, more complex programs, however, it can be advantageous to follow an object-oriented programming style. Essentially, the idea is to define own, application-specific data types to represent the relevant data, and implement the corresponding functionality along with them rather than in stand-alone functions. This development style is also supported by Python."
   ]
  },
  {
   "cell_type": "markdown",
   "metadata": {},
   "source": [
    "## OOP Terminology\n",
    "Let’s introduce some terminology before we look at concrete examples:\n",
    "\n",
    "*\t**Classes** are basically pieces of code that represent entities of a domain. For example, if our application domain is university lectures, we might have classes to represent courses, lectures, students, teachers, etc. And all these classes have certain properties and behavior. *Classes are templates for objects.*\n",
    "*\t**Objects** are *instances of classes*. That might sound abstract, but we have seen that many times before. For example, when we create an empty set ```s = set()```, technically we create an instance of class ```Set```, so we have a set object afterwards.\n",
    "* **Fields** are variables that belong to a class or object.\n",
    "*  **Methods** are functions that belong to a class or object.\n",
    "*\t**Attributes** are fields and methods together.\n",
    "\n",
    "For example, in the university domain, a ```Student``` **class** could be used to represent students. An instance of the ```Student``` class would be an **object**, and it would represent a specific student. A student's name or ID would be stored as a **field**, and a function to list all of the courses a student is enrolled in would be a **method**.\n",
    "\n",
    "We will see concrete examples of all this in the following."
   ]
  },
  {
   "cell_type": "markdown",
   "metadata": {},
   "source": [
    "### Creating Classes in Python\n",
    "\n",
    "In Python classes can simply be created with the ```class``` statement. Here is an example with a class ```Course``` that does nothing (yet):"
   ]
  },
  {
   "cell_type": "code",
   "execution_count": null,
   "metadata": {},
   "outputs": [],
   "source": [
    "class Course:\n",
    "    pass #does nothing\n",
    "\n",
    "pc = Course()\n",
    "print(pc)"
   ]
  },
  {
   "cell_type": "markdown",
   "metadata": {},
   "source": [
    "The first line defines the new class. Below this class statement follows an indented block, which is the implementation of the class, which is basically empty in this example. Then a new instance of the class is created by using the name of the class and a pair of parentheses. The printout shows us that we have created an object of type ```Course```; the number is its address in memory."
   ]
  },
  {
   "cell_type": "markdown",
   "metadata": {},
   "source": [
    "### Attributes (methods and fields)\n",
    "\n",
    "Like the functions we have worked with before, methods for classes are defined with the ```def``` keyword. For example:"
   ]
  },
  {
   "cell_type": "code",
   "execution_count": null,
   "metadata": {},
   "outputs": [],
   "source": [
    "class Course:    \n",
    "    \n",
    "    def getCourseName(self):\n",
    "        return \"Programming with Python\"\n",
    "    \n",
    "    def getCourseCode(self):\n",
    "        return \"S17\"\n",
    "\n",
    "pc = Course()\n",
    "print(pc.getCourseName())\n",
    "print(pc.getCourseCode()) \n",
    "print(pc)"
   ]
  },
  {
   "cell_type": "markdown",
   "metadata": {},
   "source": [
    "There is one difference, though: the ```self``` parameter that is used in both methods, but that is apparently not set by the calling code. ```self``` is a special kind of parameter, which is needed as first parameter for all methods defined by a class. As its name suggests, it refers to the object itself, and essentially it is technically needed by the Python interpreter to associate the method call to the right object at runtime.\n",
    "\n",
    "There are a couple of predefined method names that have a specific meaning within Python classes (https://docs.python.org/3/reference/datamodel.html#special-method-names contains the full list).  An important one is the instantiation method ```__init__```, which is executed when an instance of the object is created. In the example above, we did not define an ```__init__``` method, so the default implementation was used, which creates a plain instance of the class. If we want to do something extra during instantiation, we can define an alternative ```__init__``` method; this is also called *overloading*. For example:"
   ]
  },
  {
   "cell_type": "code",
   "execution_count": null,
   "metadata": {},
   "outputs": [],
   "source": [
    "class Course:    \n",
    "    \n",
    "    def __init__(self, code, name):\n",
    "        self.course_code = code\n",
    "        self.course_name = name    \n",
    "    \n",
    "    def getCourseName(self):\n",
    "        return self.course_name\n",
    "    \n",
    "    def getCourseCode(self):\n",
    "        return self.course_code\n",
    "    \n",
    "pc = Course(\"S17\", \n",
    "            \"Programming with Python\")\n",
    "print(pc.getCourseName())\n",
    "print(pc.getCourseCode())\n",
    "\n",
    "mc = Course(\"INFOMSO\", \n",
    "            \"Modeling and System Development\")\n",
    "print(mc.getCourseName())\n",
    "print(mc.getCourseCode())"
   ]
  },
  {
   "cell_type": "markdown",
   "metadata": {},
   "source": [
    "The ```__init__``` method now has to be called with two additional arguments for setting the course code and name. They are then assigned to the instance variables ```course_code``` and ```course_name```, which are used by the class methods too. Now the ```Course``` class can be used for basically any course, not only for Programming with Python."
   ]
  },
  {
   "cell_type": "markdown",
   "metadata": {},
   "source": [
    "## Exercises"
   ]
  },
  {
   "cell_type": "markdown",
   "metadata": {},
   "source": [
    "### 0. Room Occupancy Revisited (Easy Version)\n",
    "\n",
    "In one of the exercises for Unit 2.3 you wrote a small program to manage the room occupancy of a small hotel. Back then you used dictionaries for keeping the data, which is a fair approach, but actually it is better style to define purpose-specific classes. Here is a slight variant of the exercise, following an object-oriented programming paradigm:\n",
    "\n",
    "Imagine a small hostel with four rooms (with the arbitrarily chosen numbers 101, 102, 201, and 202). You want to write a little program for the hostel staff to help them keep track of the room occupancy and checking guests in and out. You need to implement the class `Room` and its attributes.\n",
    "\n",
    "1) create a ```Room``` class\n",
    "\n",
    "2) create an ```__init__``` method\n",
    "\n",
    "3) add two fields: ```room_number```, ```max_occupancy```\n",
    "\n",
    "Use the following code to test your class:"
   ]
  },
  {
   "cell_type": "code",
   "execution_count": null,
   "metadata": {},
   "outputs": [],
   "source": [
    "room = Room(101, 4)\n",
    "print(room.room_number)      # Expected output: 101\n",
    "print(room.max_occupancy)    # Expected output: 4"
   ]
  },
  {
   "cell_type": "markdown",
   "metadata": {},
   "source": [
    "### 1. Room Occupancy Revisited (Hard Version) (★★★★☆)\n",
    "\n",
    "Following up on the previous exercise, we now have more code for the user interaction (see below), but you still need to implement the class `Room` and its attributes:\n",
    "\n",
    "* An `__init__` **method** that creates a new room (with an empty list of guests) given a room number and maximum number of guests.\n",
    "* An **instance method** `checkIn` to check in a guest to the room. If the chosen room is already full, a corresponding message should be printed. It is allowed to have multiple guests with the same name in one room. \n",
    "* An **instance method** `checkOut` to check out a guest from the room. If the guest is not checked into the room, a corresponding message should be printed.\n",
    "\n",
    "The following code shows how the class `Room` is used. You can also use it to test your implementation:"
   ]
  },
  {
   "cell_type": "code",
   "execution_count": null,
   "metadata": {},
   "outputs": [],
   "source": [
    "################\n",
    "# Main program #\n",
    "################\n",
    "\n",
    "# create some rooms\n",
    "all_rooms = set()\n",
    "all_rooms.add(Room(101, 4))\n",
    "all_rooms.add(Room(102, 2))\n",
    "all_rooms.add(Room(201, 3))\n",
    "all_rooms.add(Room(202, 2))\n",
    "\n",
    "# do things with the rooms\n",
    "while True:\n",
    "    print(\"These are your options:\")\n",
    "    print(\"1 - Print occupancy.\")\n",
    "    print(\"2 - Check guest in.\")\n",
    "    print(\"3 - Check guest out.\")\n",
    "    print(\"4 - Exit program.\")\n",
    "    choice = input(\"Please choose what you want to do: \") \n",
    "    if choice == \"1\":\n",
    "        for room in all_rooms:\n",
    "            print(f'Room {room.number}: {len(room.guests)} / {room.max_guests}')\n",
    "    elif choice == \"2\":\n",
    "        guest = input(\"Enter name of guest: \")\n",
    "        number = int(input(\"Enter room number: \"))\n",
    "        room = [r for r in all_rooms if r.number == number][0]\n",
    "        if room != None:\n",
    "            room.checkIn(guest)\n",
    "        else:\n",
    "            print(\"Not a valid room number.\")\n",
    "    elif choice == \"3\":\n",
    "        guest = input(\"Enter name of guest: \")\n",
    "        number = int(input(\"Enter room number: \"))\n",
    "        room = [r for r in all_rooms if r.number == number][0]\n",
    "        if room != None:\n",
    "            room.checkOut(guest)\n",
    "        else:\n",
    "            print(\"Not a valid room number.\")\n",
    "    elif choice == \"4\":\n",
    "        print(\"Goodbye!\")\n",
    "        break\n",
    "    else:\n",
    "        print(\"Invalid input, try again.\")"
   ]
  },
  {
   "cell_type": "markdown",
   "metadata": {},
   "source": [
    "### 2. People at the University (★★★★☆)\n",
    "\n",
    "Define and implement a set of classes for representing people at a university according to the UML Class Diagram below. \n",
    "\n",
    "![](img/uml_university.png)\n",
    "\n",
    "The base class `Person` provides a field `name` and a function to print information about the person (i.e., the name). The classes `Student` and `Lecturer` are derived from `Person`. A `Student` is a `Person` that in addition has a `university`, a study `program` and a number of `creditpoints`. The class `Student` also has a `printInfo` function, which displays information about the university and program in addition to the student’s name. With the functions `setCreditPoints` and `getCreditPoints` the credit points of the student can be set and retrieved. `BachelorStudent` and `MasterStudent` are subclasses of `Student`. Bachelor students have additional information about the place where they went to `school` before university. Master students have information about their Bachelor’s degree (field `bdegree`). Lecturers are affiliated with a `department` at a university. Their `printInfo` function includes this information, too.\n",
    "\n",
    "The real person models in UU’s IT systems are of course more complicated, but this gives you an idea of the things to think about when designing such systems. :)\n",
    "\n",
    "You can use the following code to test your classes:"
   ]
  },
  {
   "cell_type": "code",
   "execution_count": null,
   "metadata": {},
   "outputs": [],
   "source": [
    "## test program ##\n",
    "student1 = BachelorStudent(\"Alice\", \"UU\", \"Biology\", \"Amsterdam\")\n",
    "student2 = MasterStudent(\"Bob\", \"UU\", \"Chemistry\", \"Biophysics\")\n",
    "lecturer = Lecturer(\"Cindy\",\"UU\", \"Information and Computing Sciences\")\n",
    "\n",
    "student1.printInfo()\n",
    "student1.setCreditPoints(150)\n",
    "print(f\"{student1.name} has {student1.getCreditPoints()} points.\")\n",
    "student2.printInfo()\n",
    "student2.setCreditPoints(45)\n",
    "print(f\"{student2.name} has {student2.getCreditPoints()} points.\")\n",
    "lecturer.printInfo()"
   ]
  },
  {
   "cell_type": "markdown",
   "metadata": {},
   "source": [
    "The output should be something like:\n",
    "\n",
    "```\n",
    "I am Alice.\n",
    "I am a student at UU. I study Biology.\n",
    "I went to school in Amsterdam.\n",
    "Alice has 150 points.\n",
    "I am Bob.\n",
    "I am a student at UU. I study Chemistry.\n",
    "I have a Bachelor's degree in Biophysics.\n",
    "Bob has 45 points.\n",
    "I am Cindy.\n",
    "I am a lecturer at UU, Information and Computing Sciences.\n",
    "```"
   ]
  },
  {
   "cell_type": "code",
   "execution_count": null,
   "metadata": {},
   "outputs": [],
   "source": []
  }
 ],
 "metadata": {
  "kernelspec": {
   "display_name": "Python 3 (ipykernel)",
   "language": "python",
   "name": "python3"
  },
  "language_info": {
   "codemirror_mode": {
    "name": "ipython",
    "version": 3
   },
   "file_extension": ".py",
   "mimetype": "text/x-python",
   "name": "python",
   "nbconvert_exporter": "python",
   "pygments_lexer": "ipython3",
   "version": "3.12.3"
  }
 },
 "nbformat": 4,
 "nbformat_minor": 4
}
