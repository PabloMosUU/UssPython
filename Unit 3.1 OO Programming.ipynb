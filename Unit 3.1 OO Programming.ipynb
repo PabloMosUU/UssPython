{
 "cells": [
  {
   "cell_type": "markdown",
   "metadata": {},
   "source": [
    "# Unit 3.1: Object-Oriented Programming\n",
    "\n",
    "This notebook is based on Anna-Lena Lamprecht's CoTaPP repository (https://github.com/annalenalamprecht/CoTaPP). Some modifications were made."
   ]
  },
  {
   "cell_type": "markdown",
   "metadata": {},
   "source": [
    "Yesterday we discussed data structures (lists, tuples, dictionaries, sets) in Python that allow us to work with more powerful data items than just the individual numbers, strings and Booleans that we had used before.\n",
    "\n",
    "Today we will dive deeper into objects and have a very preliminary look at object-oriented programming (**OOP**) in Python. We will see how to use classes."
   ]
  },
  {
   "cell_type": "markdown",
   "metadata": {},
   "source": [
    "## Objects and Styles of Programming\n",
    "\n",
    "First of all it is important to realize that we have worked with objects all the time, even though we were not so explicit about it until now. In Python anything used in a program is considered an object. Numbers, strings, complex data structures, functions, etc. They are all objects! In that sense, Python is a strongly object-oriented language.\n",
    "\n",
    "Nevertheless, we have used functions and modules to organize our different pieces of functionality that manipulate data. This style of programming works fine for small- to medium-size data analysis applications.\n",
    "\n",
    "When writing larger, more complex programs, however, it can be advantageous to follow an object-oriented programming style. Essentially, the idea is to work with application-specific data types to represent the relevant data. These types implement the corresponding functionality along with them rather than in stand-alone functions. This development style is also supported by Python."
   ]
  },
  {
   "cell_type": "markdown",
   "metadata": {},
   "source": [
    "## OOP Terminology\n",
    "Let’s introduce some terminology before we look at concrete examples:\n",
    "\n",
    "*\t**Classes** are basically pieces of code that represent entities of a domain. For example, if our application domain is university lectures, we might have classes to represent courses, lectures, students, teachers, etc. And all these classes have certain properties and behavior. *Classes are templates for objects.*\n",
    "*\t**Objects** are *instances of classes*. That might sound abstract, but we have seen that many times before. For example, when we create an empty set ```s = set()```, technically we create an instance of class ```Set```, so we have a *set* object afterwards.\n",
    "\n",
    "For example, in the university domain, a ```Student``` **class** could be used to represent students. An instance of the ```Student``` class would be an **object**, and it would represent a specific student.\n",
    "We will see concrete examples of all this in the following."
   ]
  },
  {
   "cell_type": "markdown",
   "metadata": {},
   "source": [
    "### Creating Classes in Python\n",
    "\n",
    "It is very straightforward to create classes in Python. However, it is beyond the scope of this course. Therefore, we will study this from a user's perspective. What do classes and objects look like when we use them? This will help us a lot when working with tabular data using the Pandas library. And there are many more applications for classes. Here is an example for the creation of an object:"
   ]
  },
  {
   "cell_type": "code",
   "execution_count": null,
   "metadata": {},
   "outputs": [],
   "source": [
    "students = ['Katie Walsh', 'Genevieve Ferrell', 'Sergio Mcbride']\n",
    "print(students)"
   ]
  },
  {
   "cell_type": "markdown",
   "metadata": {},
   "source": [
    "We have created an instance of the **class** list (an **object**), and we have assigned it to a variable named ``students``. For all objects, we can easily learn what type they are (what class they belong to):"
   ]
  },
  {
   "cell_type": "code",
   "execution_count": null,
   "metadata": {},
   "outputs": [],
   "source": [
    "print(type(students))"
   ]
  },
  {
   "cell_type": "markdown",
   "metadata": {},
   "source": [
    "### Class functions and variables\n",
    "\n",
    "Classes can have functions and variables. \n",
    "\n",
    "#### Class functions \n",
    "\n",
    "We have been using class functions before, but now we can understand it better. For example, ``append`` is a function of the **class** ``list``:"
   ]
  },
  {
   "cell_type": "code",
   "execution_count": null,
   "metadata": {},
   "outputs": [],
   "source": [
    "students.append('Delmer Rice')\n",
    "print(students)"
   ]
  },
  {
   "cell_type": "markdown",
   "metadata": {},
   "source": [
    "The function ``append`` accepts an object of any class as an input, extends the list by one element, and places the input object into the new slot."
   ]
  },
  {
   "cell_type": "code",
   "execution_count": null,
   "metadata": {},
   "outputs": [],
   "source": [
    "index_of_gf = students.index('Genevieve Ferrell')\n",
    "print(index_of_gf)\n",
    "print(type(index_of_gf))"
   ]
  },
  {
   "cell_type": "markdown",
   "metadata": {},
   "source": [
    "The class function `index` belongs to the class `list`. It accepts an object of any class as an input (in this case, the string `'Genevieve Ferrell'`), iterates through the list looking for any object in the list that is equal to this string, and returns the index of the first element that fulfils that condition."
   ]
  },
  {
   "cell_type": "markdown",
   "metadata": {},
   "source": [
    "#### Class variables\n",
    "\n",
    "We have not yet encountered classes that contain useful variables. But we will see some of them later on. The type ``ndarray`` from the library ``numpy`` contains such a variable. ``ndarray`` is a more elaborate version of a ``list``. If you don't have `numpy` installed, you can first install it by running the following command:"
   ]
  },
  {
   "cell_type": "code",
   "execution_count": null,
   "metadata": {},
   "outputs": [],
   "source": [
    "!pip install numpy"
   ]
  },
  {
   "cell_type": "code",
   "execution_count": null,
   "metadata": {},
   "outputs": [],
   "source": [
    "import numpy as np\n",
    "\n",
    "a = np.array(students)\n",
    "print(type(a))\n",
    "print(a.shape)"
   ]
  },
  {
   "cell_type": "markdown",
   "metadata": {},
   "source": [
    "We have created an object ``a`` of the class ``ndarray``, and this object has a variable called ``shape``. We access this *information* in almost the same way as we access functions of a class, but we do not use parentheses. The value of the variable `shape` is the length of the list we passed to the `array` constructor (i.e., the length of `students`). Note that, had we created a list of a different length, we would have obtained a different result:"
   ]
  },
  {
   "cell_type": "code",
   "execution_count": null,
   "metadata": {},
   "outputs": [],
   "source": [
    "b = np.array([0, 4, 7])\n",
    "print(b.shape)"
   ]
  },
  {
   "cell_type": "markdown",
   "metadata": {},
   "source": [
    "The reason why the shape is returned as a tuple is that `ndarray` can represent not only 1-dimensional arrays (like lists), but also multi-dimensional arrays (such as a matrix, which is a 2-dimensional array)."
   ]
  },
  {
   "cell_type": "markdown",
   "metadata": {},
   "source": [
    "## Exercises"
   ]
  },
  {
   "cell_type": "markdown",
   "metadata": {},
   "source": [
    "### 0. Room Occupancy Revisited (★★☆☆☆)\n",
    "\n",
    "In one of the exercises for Unit 2.3 you wrote a small program to manage the room occupancy of a small hotel. Back then you used dictionaries for keeping the data, which is a fair approach, but actually it is better style to define purpose-specific classes. Here is a slight variant of the exercise, following an object-oriented programming paradigm:\n",
    "\n",
    "Imagine a small hostel with four rooms (with the arbitrarily chosen numbers 101, 102, 201, and 202). You want to write a little program for the hostel staff to help them keep track of the room occupancy and checking guests in and out. We have implemented a class `Room` and its variables: ```room_number```, ```max_occupancy```"
   ]
  },
  {
   "cell_type": "code",
   "execution_count": null,
   "metadata": {},
   "outputs": [],
   "source": [
    "from lib.oop import Room"
   ]
  },
  {
   "cell_type": "markdown",
   "metadata": {},
   "source": [
    "The following line of code will create an object of the class Room, with room number 101 and maximum number of guests equal to 4."
   ]
  },
  {
   "cell_type": "code",
   "execution_count": null,
   "metadata": {},
   "outputs": [],
   "source": [
    "room = Room(101, 4)\n",
    "print(type(room))"
   ]
  },
  {
   "cell_type": "markdown",
   "metadata": {},
   "source": [
    "Write two lines of code to print out the room number and the maximum occupancy of the object ``room``. The output should look like this:\n",
    "\n",
    "``101``  <br>\n",
    "``4``"
   ]
  },
  {
   "cell_type": "markdown",
   "metadata": {},
   "source": [
    "### 1. Room Occupancy Revisited (Hard Version) (★★★★☆)\n",
    "\n",
    "Following up on the previous exercise, we now have two functions:\n",
    "\n",
    "* A class function `checkIn` to check in a guest to the room. If the chosen room is already full, a corresponding message will be printed. It is allowed to have multiple guests with the same name in one room. \n",
    "* A class function `checkOut` to check out a guest from the room. If the guest is not checked into the room, a corresponding message will be printed.\n",
    "\n",
    "We are now going to use a new class called `HardRoom`, which is a more complex version of Room."
   ]
  },
  {
   "cell_type": "code",
   "execution_count": null,
   "metadata": {},
   "outputs": [],
   "source": [
    "from lib.oop import HardRoom"
   ]
  },
  {
   "cell_type": "markdown",
   "metadata": {},
   "source": [
    "`HardRoom` contains three variables:\n",
    "\n",
    "* `number`: the room number\n",
    "* `guests`: the list of guests\n",
    "* `max_guests`: the maximum number of guests allowed in the room"
   ]
  },
  {
   "cell_type": "markdown",
   "metadata": {},
   "source": [
    "You could also have learned this by instantiating an object of the class HardRoom:\n",
    "\n",
    "`a = HardRoom(101, 4)`\n",
    "\n",
    "and then typing `a.` and hitting the *tab* key. This will list all functions and variables of the class that `a` belongs to (`HardRoom`). Note, howeve"
   ]
  },
  {
   "cell_type": "markdown",
   "metadata": {},
   "source": [
    "Create a set containing four rooms with the following occupancies:\n",
    "\n",
    "* 101: 4\n",
    "* 102: 2\n",
    "* 201: 3\n",
    "* 202: 2\n",
    "\n",
    "Then write code that does all of the following:\n",
    "\n",
    "1. Print occupancy of all of the rooms\n",
    "2. Check a new guest into one of the rooms\n",
    "3. Check a guest out of a room\n",
    "\n",
    "Ideally use the ``input`` function to ask the user to enter values, rather than hard-coding them.\n",
    "\n",
    "If you want an extra challenge, define each of the 3 steps above as separate functions, and then write a program that asks the user which of the 3 they want to do. Add an option to exit the program gracefully.\n",
    "\n",
    "Your output might look like this:"
   ]
  },
  {
   "cell_type": "markdown",
   "metadata": {},
   "source": [
    "```\n",
    "Please choose what you want to do (1-print occupancy/2-check in/3-check out/4-exit program):  1\n",
    "Room 101: 0 / 4\n",
    "Room 202: 0 / 2\n",
    "Room 201: 0 / 3\n",
    "Room 102: 0 / 2\n",
    "Please choose what you want to do (1-print occupancy/2-check in/3-check out/4-exit program):  2\n",
    "Enter name of guest:  Pablo\n",
    "Enter room number:  101\n",
    "Please choose what you want to do (1-print occupancy/2-check in/3-check out/4-exit program):  1\n",
    "Room 101: 1 / 4\n",
    "Room 202: 0 / 2\n",
    "Room 201: 0 / 3\n",
    "Room 102: 0 / 2\n",
    "Please choose what you want to do (1-print occupancy/2-check in/3-check out/4-exit program):  3\n",
    "Enter name of guest:  Pablo\n",
    "Enter room number:  101\n",
    "Please choose what you want to do (1-print occupancy/2-check in/3-check out/4-exit program):  1\n",
    "Room 101: 0 / 4\n",
    "Room 202: 0 / 2\n",
    "Room 201: 0 / 3\n",
    "Room 102: 0 / 2\n",
    "Please choose what you want to do (1-print occupancy/2-check in/3-check out/4-exit program):  4\n",
    "Goodbye!\n",
    "```"
   ]
  },
  {
   "cell_type": "markdown",
   "metadata": {},
   "source": [
    "### 2. People at the University (★★★★★)\n",
    "\n",
    "#### Inheritance\n",
    "\n",
    "With the concept of inheritance, object-oriented programming offers another elegant way of reusing code. The idea is basically to establish and exploit a type-subtype relationship between classes. To give a real-world example: trees, flowers and vegetables are all plants. That is, they have things in common (e.g. they have roots and leaves, they grow) and things that are different (e.g. trees have trunks, flowers have blossoms, and vegetables can be used as food). \n",
    "\n",
    "In this example, plant is the *base type* or *base class*, and trees, flowers and vegetables are its *subtypes* or *subclasses*. Conversely, we can also say that plant is the *superclass* of the classes tree, flower and vegetable. Also, the latter might have further subclasses, for different kinds of trees, flowers, and vegetables. A class *inherits* the functions and variables of its superclass, that is, everything that holds for the superclass will also hold for the class itself. In terms of Python classes, it means that the variables and functions defined for a class will also be available for all of its subclasses, which might however define further functions and variables.\n",
    "\n",
    "#### UML Activity diagrams\n",
    "\n",
    "UML Activity Diagrams describe the control-flow structure of processes. UML comprises several kinds of diagrams. One of them, the Class Diagrams, have been designed as a means for representing the relationship of classes in object-oriented programs. Below is the UML Class Diagram for a series of classes relevant to the university context:\n",
    "\n",
    "![](img/uml_university.png)\n",
    "\n",
    "Each box is a class, where the top row is the name of the class, and the rows below define the functions and variables of the class. The base class `Person` provides a variable `name` and a function to print information about the person. The classes `Student` and `Lecturer` are derived from `Person`. A `Student` is a `Person` that in addition has a `university`, a study `program` and a number of `creditpoints`. The class `Student` also has a `printInfo` function, which displays information about the university and program in addition to the student’s name. With the functions `setCreditPoints` and `getCreditPoints` the credit points of the student can be set and retrieved. `BachelorStudent` and `MasterStudent` are subclasses of `Student`. Bachelor students have additional information about the place where they went to `school` before university. Master students have information about their Bachelor’s degree (variable `bdegree`). Lecturers are affiliated with a `department` at a university. Their `printInfo` function includes this information, too.\n",
    "\n",
    "We have implemented these classes in Python. Below you should write code that does the following:\n",
    "\n",
    "1. Create a bachelor student, a master student, and a lecturer\n",
    "2. Add some credit points to the students\n",
    "3. Print all the people's personal information\n",
    "4. Print the credit points of the students"
   ]
  },
  {
   "cell_type": "code",
   "execution_count": null,
   "metadata": {},
   "outputs": [],
   "source": [
    "from lib.oop import Person, Student, Lecturer, BachelorStudent, MasterStudent"
   ]
  },
  {
   "cell_type": "markdown",
   "metadata": {},
   "source": [
    "The output should be something like:\n",
    "\n",
    "```\n",
    "I am Alice.\n",
    "I am a student at UU. I study Biology.\n",
    "I went to school in Amsterdam.\n",
    "Alice has 150 points.\n",
    "I am Bob.\n",
    "I am a student at UU. I study Chemistry.\n",
    "I have a Bachelor's degree in Biophysics.\n",
    "Bob has 45 points.\n",
    "I am Cindy.\n",
    "I am a lecturer at UU, Information and Computing Sciences.\n",
    "```"
   ]
  },
  {
   "cell_type": "code",
   "execution_count": null,
   "metadata": {},
   "outputs": [],
   "source": []
  }
 ],
 "metadata": {
  "kernelspec": {
   "display_name": "Python 3 (ipykernel)",
   "language": "python",
   "name": "python3"
  },
  "language_info": {
   "codemirror_mode": {
    "name": "ipython",
    "version": 3
   },
   "file_extension": ".py",
   "mimetype": "text/x-python",
   "name": "python",
   "nbconvert_exporter": "python",
   "pygments_lexer": "ipython3",
   "version": "3.12.3"
  }
 },
 "nbformat": 4,
 "nbformat_minor": 4
}
