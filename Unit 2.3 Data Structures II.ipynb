{
 "cells": [
  {
   "cell_type": "markdown",
   "metadata": {},
   "source": [
    "# Unit 2.3: Data Structures II\n",
    "\n",
    "This notebook is based on Anna-Lena Lamprecht's CoTaPP repository (https://github.com/annalenalamprecht/CoTaPP). Some modifications were made."
   ]
  },
  {
   "cell_type": "markdown",
   "metadata": {},
   "source": [
    "Last time we discussed recursion and two fundamental data structures in Python: the list and the tuple.\n",
    "\n",
    "In this unit we discuss more data structures (dictionaries and sets).\n",
    "\n",
    "Tomorrow we will dive deeper into the concepts of object orientation and object-oriented programming in Python."
   ]
  },
  {
   "cell_type": "markdown",
   "metadata": {},
   "source": [
    "## Data Structures in Python \n",
    "\n",
    "| Data Structure | Ordered | Mutable | Unique | Iterable |\n",
    "|----------------|:-------:|:-------:|:------:|:--------:|\n",
    "| List           |   Yes   |   Yes   |   No   |    Yes   |\n",
    "| Tuple          |   Yes   |    No   |   No   |    Yes   |\n",
    "| Dictionary     |    No   |   Yes   |  Yes*  |    Yes   |\n",
    "| Set            |    No   |   Yes   |   Yes  |    Yes   |\n",
    "\n",
    "*Keys are unique, while values can be repeated (more on this below)"
   ]
  },
  {
   "cell_type": "markdown",
   "metadata": {},
   "source": [
    "### Dictionaries\n",
    "\n",
    "Dictionaries are a complex data structure in Python that can be used to store several values, or more precisely key-value pairs. Keys must be unique and immutable (to be safe it is best to only use simple data types such as strings or numbers as keys), while values can occur repeatedly and be any kind of data type. Dictionaries can be defined as follows:\n",
    "\n",
    "```\n",
    "<dictionary_name> = {<key1>:<value1>,… ,<keyN>:<valueN>}\n",
    "```\n",
    "\n",
    "For example:"
   ]
  },
  {
   "cell_type": "code",
   "execution_count": null,
   "metadata": {},
   "outputs": [],
   "source": [
    "person_details = {\"First name\":\"Bob\", \"Last name\":\"Smith\", \"Building\":\"BBG\", \"Room\":223} "
   ]
  },
  {
   "cell_type": "markdown",
   "metadata": {},
   "source": [
    "The ```print()``` function can also print out dictionaries, for example:"
   ]
  },
  {
   "cell_type": "code",
   "execution_count": null,
   "metadata": {},
   "outputs": [],
   "source": [
    "print(person_details)"
   ]
  },
  {
   "cell_type": "markdown",
   "metadata": {},
   "source": [
    "While in lists and tuples a numerical index is used to access the element at a certain position, with dictionaries the key is used to access a particular value. The basic syntax for accessing a value is:\n",
    "\n",
    "```\n",
    "<dictionary_name>[<key>]\n",
    "```\n",
    "    \n",
    "For example, to print out the first name of the person, we can use the following code:"
   ]
  },
  {
   "cell_type": "code",
   "execution_count": null,
   "metadata": {},
   "outputs": [],
   "source": [
    "print(f\"First name:\" + person_details[\"First name\"])"
   ]
  },
  {
   "cell_type": "markdown",
   "metadata": {},
   "source": [
    "To change the value for a key or to add a new key-value pair to a dictionary, the assignment statement can be used, for example:"
   ]
  },
  {
   "cell_type": "code",
   "execution_count": null,
   "metadata": {},
   "outputs": [],
   "source": [
    "person_details[\"Last name\"] = \"Tailor\"\n",
    "person_details[\"Phone\"] = 1234"
   ]
  },
  {
   "cell_type": "markdown",
   "metadata": {},
   "source": [
    "Resulting in a changed dictionary:"
   ]
  },
  {
   "cell_type": "code",
   "execution_count": null,
   "metadata": {},
   "outputs": [],
   "source": [
    "print(person_details)"
   ]
  },
  {
   "cell_type": "markdown",
   "metadata": {},
   "source": [
    "Elements can be deleted from a dictionary also via their key, for example:"
   ]
  },
  {
   "cell_type": "code",
   "execution_count": null,
   "metadata": {},
   "outputs": [],
   "source": [
    "del person_details[\"Building\"]\n",
    "del person_details[\"Room\"]"
   ]
  },
  {
   "cell_type": "markdown",
   "metadata": {},
   "source": [
    "Resulting in:"
   ]
  },
  {
   "cell_type": "code",
   "execution_count": null,
   "metadata": {},
   "outputs": [],
   "source": [
    "print(person_details)"
   ]
  },
  {
   "cell_type": "markdown",
   "metadata": {},
   "source": [
    "Just as lists, also dictionaries know their length, that is, the number of key-value pairs in them:"
   ]
  },
  {
   "cell_type": "code",
   "execution_count": null,
   "metadata": {},
   "outputs": [],
   "source": [
    "print(len(person_details))"
   ]
  },
  {
   "cell_type": "markdown",
   "metadata": {},
   "source": [
    "The operators ```in``` and ```not in``` can be used to check if a **key** is contained in a dictionary (or not):"
   ]
  },
  {
   "cell_type": "code",
   "execution_count": null,
   "metadata": {},
   "outputs": [],
   "source": [
    "print(\"First name\" in person_details)\n",
    "print(\"Bob\" in person_details)"
   ]
  },
  {
   "cell_type": "markdown",
   "metadata": {},
   "source": [
    "Now let's look at a more comprehensive example with dictionaries. The following small program lets the user enter a number of term-definition pairs for a glossary, then prints the glossary alphabetically sorted by the terms:"
   ]
  },
  {
   "cell_type": "code",
   "execution_count": null,
   "metadata": {},
   "outputs": [],
   "source": [
    "glossary = {}\n",
    "\n",
    "while True:\n",
    "    new_key = input(\"Please enter term: \")\n",
    "    new_value = input(\"Please enter definition: \")\n",
    "    glossary[new_key] = new_value\n",
    "    more_entries = input(\"Do you want to add another entry? (y/n) \")\n",
    "    if more_entries != \"y\":\n",
    "        break\n",
    "        \n",
    "keys = list(glossary.keys())\n",
    "keys.sort()\n",
    "\n",
    "for key in keys:\n",
    "    print(f\"{key}: {glossary[key]}\")"
   ]
  },
  {
   "cell_type": "markdown",
   "metadata": {},
   "source": [
    "As with lists, also with dictionaries there is a difference between:\n",
    "\n",
    "* assignment\n",
    "\n",
    "* shallow copy\n",
    "\n",
    "* deep copy"
   ]
  },
  {
   "cell_type": "code",
   "execution_count": null,
   "metadata": {},
   "outputs": [],
   "source": [
    "from copy import deepcopy\n",
    "\n",
    "orig_dict = {'a': 1, 'b': [1, 2, 3]}\n",
    "assigned_dict = orig_dict\n",
    "orig_dict['a'] = 2\n",
    "orig_dict['b'][1] = 0\n",
    "print('orig_dict =', orig_dict)\n",
    "print('assigned_dict =', assigned_dict)\n",
    "print()\n",
    "\n",
    "copied_dict = orig_dict.copy()\n",
    "orig_dict['a'] = 3\n",
    "orig_dict['b'][2] = 0\n",
    "print('orig_dict =', orig_dict)\n",
    "print('copied_dict = ', copied_dict)\n",
    "print()\n",
    "\n",
    "deep_copied_dict = deepcopy(orig_dict)\n",
    "orig_dict['a'] = 4\n",
    "orig_dict['b'][0] = 0\n",
    "print('orig_dict =', orig_dict)\n",
    "print('deep_copied_dict = ', deep_copied_dict)"
   ]
  },
  {
   "cell_type": "markdown",
   "metadata": {},
   "source": [
    "### Sets\n",
    "\n",
    "Sets in Python correspond to sets in mathematics. They contain each element only once, and set operations like union and intersection can be performed on them. Sets support membership tests (```in```, ```not in```), but they are unordered and have no index to access individual elements. Sets can be defined as in the following example:"
   ]
  },
  {
   "cell_type": "code",
   "execution_count": null,
   "metadata": {},
   "outputs": [],
   "source": [
    "set1 = {3,1,2}\n",
    "set2 = set([5,6,4])\n",
    "set3 = {\"a\", \"ab\", \"b\"}"
   ]
  },
  {
   "cell_type": "markdown",
   "metadata": {},
   "source": [
    "That is, a list of elements in curly braces defines a set. An empty pair of curly braces is however already reserved for creating an empty dictionary, so alternatively a set can be created as shown in the second line,  but calling the set function with a (possibly empty) list to create a new set.\n",
    "\n",
    "Sets define no order themselves, but commands like print might order the elements:"
   ]
  },
  {
   "cell_type": "code",
   "execution_count": null,
   "metadata": {},
   "outputs": [],
   "source": [
    "print(set1)\n",
    "print(set2)\n",
    "print(set3)"
   ]
  },
  {
   "cell_type": "markdown",
   "metadata": {},
   "source": [
    "Elements can be added and removed from sets with the corresponding functions. Adding and element to a set that is already contained in it will simply have no effect:"
   ]
  },
  {
   "cell_type": "code",
   "execution_count": null,
   "metadata": {},
   "outputs": [],
   "source": [
    "set1.add(1)\n",
    "print(set1)\n",
    "set1.add(4)\n",
    "print(set1)"
   ]
  },
  {
   "cell_type": "markdown",
   "metadata": {},
   "source": [
    "The operators |, &, - and ^ can be used to compute the union, intersection, difference and symmetric difference between sets, respectively:"
   ]
  },
  {
   "cell_type": "code",
   "execution_count": null,
   "metadata": {},
   "outputs": [],
   "source": [
    "print(set1 | set2)\n",
    "print(set1 & set2)\n",
    "print(set2 - set1) \n",
    "print(set2 ^ set1)  "
   ]
  },
  {
   "cell_type": "markdown",
   "metadata": {},
   "source": [
    "### Mutability\n",
    "\n",
    "Remember we said sets are immutable, so this will result in an error:"
   ]
  },
  {
   "cell_type": "code",
   "execution_count": null,
   "metadata": {},
   "outputs": [],
   "source": [
    "c = ('a', 'b')\n",
    "\n",
    "c[0] = 't'"
   ]
  },
  {
   "cell_type": "markdown",
   "metadata": {},
   "source": [
    "That means that the tuple stored in the variable `c` cannot be modified. But a new value can ber assigned to the variable `c`:"
   ]
  },
  {
   "cell_type": "code",
   "execution_count": null,
   "metadata": {},
   "outputs": [],
   "source": [
    "c = -1\n",
    "print(c)"
   ]
  },
  {
   "cell_type": "markdown",
   "metadata": {},
   "source": [
    "Strings are also immutable, so this will result in an error:"
   ]
  },
  {
   "cell_type": "code",
   "execution_count": null,
   "metadata": {},
   "outputs": [],
   "source": [
    "d = 'dog'\n",
    "d[1] = 'i'"
   ]
  },
  {
   "cell_type": "markdown",
   "metadata": {},
   "source": [
    "But you can still assign a new value to the variable `d`, potentially after applying a function such as `str.replace`:"
   ]
  },
  {
   "cell_type": "code",
   "execution_count": null,
   "metadata": {},
   "outputs": [],
   "source": [
    "d = d.replace('o', 'i')\n",
    "print(d)"
   ]
  },
  {
   "cell_type": "markdown",
   "metadata": {},
   "source": [
    "## Exercises"
   ]
  },
  {
   "cell_type": "markdown",
   "metadata": {},
   "source": [
    "### 1. Small programs (★★☆☆☆)\n",
    "Write small pieces of code for the following tasks:\n",
    "1. Reverse a tuple\n",
    "2. Check if all items in a tuple are the same\n",
    "3. Convert two lists into a dictionary\n",
    "\n",
    "For example:\n",
    "\n",
    "```keys = ['Ten', 'Twenty', 'Thirty']```\n",
    "\n",
    "```values = [10, 20, 30]```\n",
    "\n",
    "Expected output:\n",
    "```{'Ten': 10, 'Twenty': 20, 'Thirty': 30}```\n",
    "\n",
    "4. Write a Python function to check if a set is a subset of another set (without using ```<=```)"
   ]
  },
  {
   "cell_type": "markdown",
   "metadata": {},
   "source": [
    "### 2. Anagram Test (★★★★☆)\n",
    "An anagram is a word or phrase that is made by rearranging the letters of another word or phrase. For example, \"secure\" is an anagram of \"rescue\".  Write a function is_anagram(word1,word2) that checks if the two words are anagrams of each other. If so, the function should return True, and False otherwise. You can use the following code to test your function:\n",
    "```\n",
    "# Test program\n",
    "print(is_anagram(\"rescue\", \"secure\"))\n",
    "print(is_anagram(\"Rescue\", \"Secure\"))\n",
    "print(is_anagram(\"Rescue\", \"Anchor\"))\n",
    "print(is_anagram(\"Ship\", \"Secure\"))\n",
    "```\n",
    "The output should be:\n",
    "```\n",
    "True\n",
    "True\n",
    "False\n",
    "False\n",
    "```\n",
    "That is, the function should **not** distinguish between upper- and lower-case letters.\n"
   ]
  },
  {
   "cell_type": "markdown",
   "metadata": {},
   "source": [
    "### 3. Room Occupancy (★★★★☆)\n",
    "Imagine a small hostel with four four-bed rooms (with the arbitrarily chosen numbers 101, 102, 201, and 202). You want to write a little program for the hostel staff to help them keep track of the room occupancy and checking guests in and out. The code for the user interaction already exists (see below), but you still need to implement the missing functions:\n",
    "* `print_occupancy` should simply print out a list of all rooms and the guests that are currently checked in.\n",
    "* `check_in` should add a guest to a room. If a non-existing room number is given or if the chosen room is already full, a corresponding message should be printed. It is allowed to have two (or more) guests with the same name in one room. \n",
    "* `check_out` should remove a guest from a room. If a wrong room number or guest name is passed, a corresponding message should be printed. \n",
    "\n",
    "The following code shows how the functions are used. You can also use it to test your implementation:\n",
    "\n",
    "```\n",
    "# Main program\n",
    "room_occupancy = {101:[], 102:[], 201:[], 202:[]} \n",
    "while True:\n",
    "    print(\"These are your options:\")\n",
    "    print(\"1 - View current room occupancy.\")\n",
    "    print(\"2 - Check guest in.\")\n",
    "    print(\"3 - Check guest out.\")\n",
    "    print(\"4 - Exit program.\")\n",
    "    choice = input(\"Please choose what you want to do: \") \n",
    "    if choice == \"1\":\n",
    "        print_occupancy(room_occupancy)\n",
    "    elif choice == \"2\":\n",
    "        guest = input(\"Enter name of guest: \")\n",
    "        room = int(input(\"Enter room number: \"))\n",
    "        check_in(room_occupancy, guest, room)\n",
    "    elif choice == \"3\":\n",
    "        guest = input(\"Enter name of guest: \")\n",
    "        room = int(input(\"Enter room number: \"))\n",
    "        check_out(room_occupancy, guest, room)\n",
    "    elif choice == \"4\":\n",
    "        print(\"Goodbye!\")\n",
    "        break\n",
    "    else:\n",
    "        print(\"Invalid input, try again.\")\n",
    "```"
   ]
  }
 ],
 "metadata": {
  "kernelspec": {
   "display_name": "Python 3 (ipykernel)",
   "language": "python",
   "name": "python3"
  },
  "language_info": {
   "codemirror_mode": {
    "name": "ipython",
    "version": 3
   },
   "file_extension": ".py",
   "mimetype": "text/x-python",
   "name": "python",
   "nbconvert_exporter": "python",
   "pygments_lexer": "ipython3",
   "version": "3.12.3"
  }
 },
 "nbformat": 4,
 "nbformat_minor": 4
}
