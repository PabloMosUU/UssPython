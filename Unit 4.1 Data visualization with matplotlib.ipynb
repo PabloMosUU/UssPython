{
 "cells": [
  {
   "cell_type": "markdown",
   "id": "69a86b51",
   "metadata": {},
   "source": [
    "# Unit 4.1: Data visualization with matplotlib\n",
    "\n",
    "This notebook is based on Anna-Lena Lamprecht's CoTaPP repository (https://github.com/annalenalamprecht/CoTaPP). Some modifications were made.\n",
    "\n",
    "Last time we discussed one of the most popular Python libraries for data science applications: Pandas (continued). We were able to manipulate data frames to compute complex quantities from data. In this unit, we look at the data visually using `matplotlib`.\n",
    "\n",
    "Next time we will learn about working with dates and times."
   ]
  },
  {
   "cell_type": "markdown",
   "id": "16a8f5f6",
   "metadata": {},
   "source": [
    "### Matplotlib\n",
    "\n",
    "Matplotlib (https://matplotlib.org/) is Python's 2D plotting library. A number of plotting functions in other libraries, for example the Pandas plotting functions, are actually wrappers around the respective Matplotlib functions. Here is a first simple example with random data:\n"
   ]
  },
  {
   "cell_type": "code",
   "execution_count": null,
   "id": "8bbc99be",
   "metadata": {},
   "outputs": [],
   "source": [
    "import matplotlib.pyplot as plt\n",
    "\n",
    "x = [1,2,3,4,5,6,7,8,9,10]\n",
    "y = [34,53,64,10,60,40,73,23,49,10]\n",
    "\n",
    "plt.plot(x,y)\n",
    "plt.show()"
   ]
  },
  {
   "cell_type": "markdown",
   "id": "c44b8fbe",
   "metadata": {},
   "source": [
    "First the ```matplotlib.pyplot``` module (https://matplotlib.org/api/_as_gen/matplotlib.pyplot.html) is imported and given the shorter name ```plt```. Then two lists x and y of same length are created. X contains a sequence of ascending numbers, and y the same number of random values. The simplest plot is to plot x against y, which is done with the ```plt.plot(x,y)``` statement. ```plt.show()``` then shows the plot.\n",
    "\n",
    "Instead of or in addition to displaying the plots to the user, they can also be saved into raster or vector files for later use with the ```savefig``` function. See the following code for an example that also uses further parameters of the plot function to change the color and add markers to the plotted line:\n"
   ]
  },
  {
   "cell_type": "code",
   "execution_count": null,
   "id": "1738b95a",
   "metadata": {},
   "outputs": [],
   "source": [
    "plt.plot(x,y, color=\"r\", marker=\"o\")\n",
    "plt.savefig(\"img/plot.png\")\n",
    "plt.savefig(\"img/plot.pdf\")"
   ]
  },
  {
   "cell_type": "markdown",
   "id": "a3f56d6c",
   "metadata": {},
   "source": [
    "Resulting Files:\n",
    "\n",
    "![](img/plot_png_file.png)![](img/plot_pdf_file.png)"
   ]
  },
  {
   "cell_type": "markdown",
   "id": "46423a77",
   "metadata": {},
   "source": [
    "As another example, consider again the Dutch municipalities data set that we worked with earlier. We can create histograms of population numbers with the following code:"
   ]
  },
  {
   "cell_type": "code",
   "execution_count": null,
   "id": "61b55731",
   "metadata": {},
   "outputs": [],
   "source": [
    "import pandas as pd\n",
    "\n",
    "df = pd.read_csv(\"data/dutch_municipalities.csv\", sep=\"\\t\")\n",
    "plt.hist(df[\"population\"])\n",
    "plt.show()\n",
    "\n",
    "plt.hist(df[\"population\"], bins=50)\n",
    "plt.title(\"Size of Municipalities\")\n",
    "plt.xlabel(\"inhabitants\")\n",
    "plt.ylabel(\"# municipalities\")\n",
    "plt.show() "
   ]
  },
  {
   "cell_type": "markdown",
   "id": "f311ee31",
   "metadata": {},
   "source": [
    "In principle the functions in Matplotlib all work according to the same principles, but it is always crucial to refer to their specific documentation and understand their parameters in order to use them proficiently in own context. If you would like to see more examples, you can for example go to https://matplotlib.org/tutorials/introductory/sample_plots.html#sphx-glr-tutorials-introductory-sample-plots-py for further introductory examples of 2D plotting,  https://pythonprogramming.net/matplotlib-intro-tutorial/ for video lectures on Matplotlib, or https://pandas.pydata.org/pandas-docs/stable/user_guide/visualization.html for visualization using the Pandas package."
   ]
  },
  {
   "cell_type": "markdown",
   "id": "d2fe10b6",
   "metadata": {},
   "source": [
    "## Exercise: Analysis of the McDonald’s Menu (★★★★☆)\n",
    "This exercise is a variation of one that Dr. Adrien Melquiond (Utrecht Bioinformatics Center) developed in the scope of another Python course. It uses the Pandas and NumPy libraries to analyze the dataset in the file `mcdonalds_menu.csv`, which provides a nutrition analysis of every menu item on the US McDonald's menu (including breakfast, beef burgers, chicken and fish sandwiches, fries, salads, soda, coffee and tea, milkshakes, and desserts). These data have been scraped from the McDonald's website. The assignment is basically about exploring how much fat and other nutrients contained in McDonald’s food. \n",
    "\n",
    "Write a program that reads the content of the file into a data frame, displays simple descriptive statistics about the numerical values in the data frame, and then answers the following questions (you might need Google’s help for some, and number 2 is probably the most difficult one).\n",
    "\n",
    "Please use Quarterfall to submit and check your answers. "
   ]
  },
  {
   "cell_type": "markdown",
   "id": "3ec43805",
   "metadata": {},
   "source": [
    "### 1. What do we have on the menu? \n",
    "How many different items do we have on the menu? Using a barplot, display the number of items per category. Which category is the most represented in this menu?\n",
    "\n",
    "The output should look something like:\n",
    "\n",
    "![](img/mcdo_q1.png)"
   ]
  },
  {
   "cell_type": "markdown",
   "id": "3bb0e2b5",
   "metadata": {},
   "source": [
    "### 2. What is the most fatty item for each category?\n",
    "Background information: When it comes to fat, trans fats are really the ones to avoid. Trans fat is a byproduct of a process called hydrogenation that is used to turn healthy oils into solids and to prevent them from becoming rancid. It increases the amount of harmful LDL cholesterol in the bloodstream. Cholesterol can be either good (HDL) or bad (LDL) but chances are slim that we are talking about the good one here. Saturated fat is not necessarily bad, but diet rich in saturated fat can drive up total cholesterol, with increased risk of clogged arteries. Unsaturated fat are not reported in this table.\n",
    "\n",
    "First, use a boxplot to show the spread of 'Total Fat (% Daily Value)' values per category. \n",
    "\n",
    "Then create a subset data frame, called `grp_by_category`, that lists per category the maximal amount of 'Total Fat (% Daily Value)','Trans Fat','Saturated Fat (% Daily Value)' and 'Cholesterol (% Daily Value)'. Merge the data frames `menu` and `grp_by_category` and create a mask to select the items that correspond to the maximal 'Total Fat (% Daily Value)'. Be careful, you may end up with more than one fattest item per category. Repeating the same process, extract now the fattest item in 'Trans fat' (make sure to select only items with Trans fat > 0). Sort them by decreasing order of Trans fat, display the resulting data frame.\n",
    "\n",
    "The output should look something like:\n",
    "\n",
    "![](img/mcdo_q2.png)"
   ]
  },
  {
   "cell_type": "markdown",
   "id": "524d5cd8",
   "metadata": {},
   "source": [
    "### 3. What are the 10 items that have the highest content of Vitamin C?\n",
    "Citrus fruits are the high source of Vitamin C. For adults, the recommended dietary reference intake for vitamin C is 65 to 90 milligrams (mg) a day, and the upper limit is 2,000 mg a day. Using pandas' function `pivot_table()`, make a barplot that shows the 'Vitamin C (% Daily Value)' for the ten items that contain the highest amount of vitamin C.\n",
    "\n",
    "The output should look something like:\n",
    "\n",
    "![](img/mcdo_q4.png)"
   ]
  },
  {
   "cell_type": "markdown",
   "id": "a7b02143",
   "metadata": {},
   "source": [
    "### 4. How do the nutrition features compare to each other?\n",
    "Let's finally take a look at how one feature feeds into the other. Using `pandas.plotting.scatter_matrix()`, we can plot multiple scatterplots and get a quick feel for the data. Plot a multiple scatterplot for all the following columns in your dataframe: 'Calories', 'Total Fat', 'Saturated Fat', 'Cholesterol', 'Sodium', 'Carbohydrates', 'Sugars', 'Protein'. What can you observe from the (anti)correlations of the nutritional metrics?\n",
    "\n",
    "The output should look something like:\n",
    "\n",
    "![](img/mcdo_q6.png)"
   ]
  },
  {
   "cell_type": "code",
   "execution_count": null,
   "id": "6e86294e-61a3-4dea-b7b3-6be7a590505f",
   "metadata": {},
   "outputs": [],
   "source": []
  }
 ],
 "metadata": {
  "kernelspec": {
   "display_name": "Python 3 (ipykernel)",
   "language": "python",
   "name": "python3"
  },
  "language_info": {
   "codemirror_mode": {
    "name": "ipython",
    "version": 3
   },
   "file_extension": ".py",
   "mimetype": "text/x-python",
   "name": "python",
   "nbconvert_exporter": "python",
   "pygments_lexer": "ipython3",
   "version": "3.12.3"
  }
 },
 "nbformat": 4,
 "nbformat_minor": 5
}
