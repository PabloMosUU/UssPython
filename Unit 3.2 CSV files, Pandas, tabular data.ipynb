{
 "cells": [
  {
   "cell_type": "markdown",
   "metadata": {},
   "source": [
    "# Unit 3.2: CSV files, Pandas, tabular data\n",
    "\n",
    "This notebook is based on Anna-Lena Lamprecht's CoTaPP repository (https://github.com/annalenalamprecht/CoTaPP). Some modifications were made."
   ]
  },
  {
   "cell_type": "markdown",
   "metadata": {},
   "source": [
    "Last time we dove deeper into objects and object-oriented programming (OOP) in Python. We saw how to create own classes, discussed the concept of inheritance, and had a quick look at UML class diagrams.\n",
    "\n",
    "We will now leave the relatively secluded, controlled environment that we were in so far and look at how to read and write data from and to files. \n",
    "\n",
    "In particular, we will cover how to read and write CSV files.\n",
    "\n",
    "In the next unit we will have a deeper look at operations on data frames. "
   ]
  },
  {
   "cell_type": "markdown",
   "metadata": {},
   "source": [
    "## Opening and closing files\n",
    "\n",
    "Suppose you have a list of students enrolled in a class, and you want to randomly draw a name from the list in order to ask this student to give a presentation to their peers. The names are stored in a text file called `data/students.txt`, one per line. Let's break down the necessary steps:\n",
    "\n",
    "1. Read all the names from the file\n",
    "2. Put them in a list\n",
    "3. Randomly draw one of the names from the list"
   ]
  },
  {
   "cell_type": "code",
   "execution_count": null,
   "metadata": {},
   "outputs": [],
   "source": [
    "# 1. Read all the names from the file\n",
    "with open('data/students.txt') as f:\n",
    "    lines = f.readlines()"
   ]
  },
  {
   "cell_type": "markdown",
   "metadata": {},
   "source": [
    "Now we see that, thanks to the `readlines` function, step 2 in our process is already done for us."
   ]
  },
  {
   "cell_type": "code",
   "execution_count": null,
   "metadata": {},
   "outputs": [],
   "source": [
    "# 3. Randomly draw one of the names from the list\n",
    "import random\n",
    "print(random.choice(lines))"
   ]
  },
  {
   "cell_type": "markdown",
   "metadata": {},
   "source": [
    "### Challenge!\n",
    "\n",
    "Open the file `data/teachers.txt` and retrieve the name of the third teacher on the list.\n",
    "\n",
    "![](img/activity_small.png) "
   ]
  },
  {
   "cell_type": "markdown",
   "metadata": {},
   "source": [
    "That was pretty simple! Unfortunately, we are often interested in tabular data, i.e., data that contains multiple *columns*, like a spreadsheet. We now turn to such datasets."
   ]
  },
  {
   "cell_type": "markdown",
   "metadata": {},
   "source": [
    "## Dealing With CSV Files\n",
    "\n",
    "Let's look a special kind of text file, that you will frequently come across when working on data science problems: CSV files. CSV stands for *comma-separated values*; commas are used to separate the values in a line from each other. Sometimes also other characters are used as separators, such as the tabulator \"\\t\" or the semicolon \";\", so don't be confused if you see that. As such, CSV files are a simple means to represent tabular data. The following example is based on the [Dutch municipalities data set from Kaggle](https://www.kaggle.com/justinboon/municipalities-of-the-netherlands/data), stored in the file `dutch_municipalities.csv` in the `data` directory. We can open and read this file using a text editor and see that the file starts like this:\n",
    "\n",
    "```\n",
    "municipality,province,latitude,longitude,surface_km2,population,avg_household_income_2012,avg_woz_2014,university\n",
    "Aa en Hunze,Drenthe,53.010.485,6.749.528,278.9,25243,35500,225000,0\n",
    "Aalburg,Noord-Brabant,51.751.294,5.057.085,53.17,12859,39100,249000,0\n",
    "Aalsmeer,Noord-Holland,52.262.164,4.761.922,32.29,30792,40900,276000,0\n",
    "Aalten,Gelderland,51.926.667,6.580.678,96.57,27030,33300,194000,0\n",
    "Achtkarspelen,Friesland,53.210.357,6.153.565,103.98,28002,30500,165000,0\n",
    "Alblasserdam,Zuid-Holland,51.870.337,4.670.202,10.06,19822,35500,195000,0\n",
    "```"
   ]
  },
  {
   "cell_type": "markdown",
   "metadata": {},
   "source": [
    "In this form the content of the CSV file is of course not of too much use, as it is difficult to access individual elements from it. You could also read the file using a spreadsheet program (such as LibreOffice, Excel, or Numbers), but then you would lose the power of Python. Luckily, however, CSV files are so common that there is a package called ```Pandas``` that provides this and other frequently needed functionality for working with CSV files."
   ]
  },
  {
   "cell_type": "markdown",
   "metadata": {},
   "source": [
    "### Pandas"
   ]
  },
  {
   "cell_type": "markdown",
   "metadata": {},
   "source": [
    "[Pandas](http://pandas.pydata.org/) allows you to do advanced things with data from CSV files, such as joining or concatenating tables from different CSV files. Pandas has a function for reading CSV files, which returns the result as a so-called data frame, as shown in the following example:"
   ]
  },
  {
   "cell_type": "code",
   "execution_count": null,
   "metadata": {},
   "outputs": [],
   "source": [
    "import pandas as pd\n",
    "\n",
    "df = pd.read_csv('data/dutch_municipalities.csv')\n",
    "print(df)"
   ]
  },
  {
   "cell_type": "markdown",
   "metadata": {},
   "source": [
    "Data frames are two-dimensional labeled data structures, very much like tables. The rows are labeled by an index (typically ascending from 0), and the columns are labeled by the column names, corresponding to the kind of data that is contained in them. See https://pandas.pydata.org/pandas-docs/stable/dsintro.html#dataframe for further details.\n",
    "\n"
   ]
  },
  {
   "cell_type": "markdown",
   "metadata": {},
   "source": [
    "<figure>\n",
    "  <img src=\"https://www.w3resource.com/w3r_images/pandas-data-frame.svg\" alt=\"Pandas data frame\" style=\"width:45%\">\n",
    "    <figcaption><i>Image source</i>: <a href=\"https://www.w3resource.com\">https://www.w3resource.com/</a></figcaption>\n",
    "</figure>"
   ]
  },
  {
   "cell_type": "markdown",
   "metadata": {},
   "source": [
    "The ```head(n)``` method return the first ```n``` rows (default 5) of a data frame. It is useful for quickly testing if your object has the right type of data in it."
   ]
  },
  {
   "cell_type": "code",
   "execution_count": null,
   "metadata": {},
   "outputs": [],
   "source": [
    "df.head()"
   ]
  },
  {
   "cell_type": "markdown",
   "metadata": {},
   "source": [
    "Data frames have a number of attributes, such as the column labels, the row indices and the types of the data in the columns (see a full list at https://pandas.pydata.org/pandas-docs/stable/reference/api/pandas.DataFrame.html), that can be accessed as illustrated below:"
   ]
  },
  {
   "cell_type": "code",
   "execution_count": null,
   "metadata": {},
   "outputs": [],
   "source": [
    "print(df.index)\n",
    "print(\"----------\")\n",
    "print(df.columns)\n",
    "print(\"----------\")\n",
    "print(df.dtypes)"
   ]
  },
  {
   "cell_type": "markdown",
   "metadata": {},
   "source": [
    "The ```info()``` method prints a concise summary of a DataFrame:"
   ]
  },
  {
   "cell_type": "code",
   "execution_count": null,
   "metadata": {},
   "outputs": [],
   "source": [
    "print(df.info())"
   ]
  },
  {
   "cell_type": "markdown",
   "metadata": {},
   "source": [
    "Via the ```iloc``` attribute we can access a row by its index, for example:"
   ]
  },
  {
   "cell_type": "code",
   "execution_count": null,
   "metadata": {},
   "outputs": [],
   "source": [
    "print(df.iloc[39])\n",
    "print(\"----------\")\n",
    "print(type(df.iloc[39]))"
   ]
  },
  {
   "cell_type": "markdown",
   "metadata": {},
   "source": [
    "Apparently, such single row of a data frame is of type ```Series``` (see https://pandas.pydata.org/pandas-docs/stable/reference/series.html for full reference), which basically means a one-dimensional labeled data structure. Series are iterable. Many functions in pandas and other libraries take ```Series``` as input, and this is one way to get them.\n",
    "\n",
    "Slicing works with ```iloc```, too, so a range of indices can be used to access several rows at a time. The result is of type ```DataFrame``` again:"
   ]
  },
  {
   "cell_type": "code",
   "execution_count": null,
   "metadata": {},
   "outputs": [],
   "source": [
    "print(df.iloc[39:42])\n",
    "print(\"----------\")\n",
    "print(type(df.iloc[39:42]))"
   ]
  },
  {
   "cell_type": "markdown",
   "metadata": {},
   "source": [
    "Similarly, a list of indices (not necessarily a range) can be used:"
   ]
  },
  {
   "cell_type": "code",
   "execution_count": null,
   "metadata": {},
   "outputs": [],
   "source": [
    "print(df.iloc[[38,40,42]]) \n",
    "print(\"----------\")\n",
    "print(type(df.iloc[[38,40,42]]))"
   ]
  },
  {
   "cell_type": "markdown",
   "metadata": {},
   "source": [
    "The ```iloc``` access can also be used for indexing at both axes of the data frame, including accessing a single element (note the different resulting data types):"
   ]
  },
  {
   "cell_type": "code",
   "execution_count": null,
   "metadata": {},
   "outputs": [],
   "source": [
    "print(df.iloc[1:3,1:3])\n",
    "print(\"----------\")\n",
    "print(type(df.iloc[1:3,1:3]))\n",
    "print(\"----------\")\n",
    "print(df.iloc[3,3])\n",
    "print(\"----------\")\n",
    "print(type(df.iloc[3,3]))"
   ]
  },
  {
   "cell_type": "markdown",
   "metadata": {},
   "source": [
    "Very similar to ```iloc```, the ```loc``` attribute can be used to access (groups of) rows and columns by their labels. For example (note the difference in the interpretation of the range now that the labels of the indexes are used):"
   ]
  },
  {
   "cell_type": "code",
   "execution_count": null,
   "metadata": {},
   "outputs": [],
   "source": [
    "print(df.loc[1:3,\"population\"])\n",
    "print(\"----------\")\n",
    "print(type(df.loc[1:3,\"population\"]))"
   ]
  },
  {
   "cell_type": "markdown",
   "metadata": {},
   "source": [
    "Without using any attributes, just in pairs of square brackets, columns in a dataframe can be addressed by their name. For example, to access the “murders_2014” column of our example data frame, it’s name can be used as reference:"
   ]
  },
  {
   "cell_type": "code",
   "execution_count": null,
   "metadata": {},
   "outputs": [],
   "source": [
    "print(df[\"population\"])\n",
    "print(\"----------\")\n",
    "print(type(df[\"population\"]))"
   ]
  },
  {
   "cell_type": "markdown",
   "metadata": {},
   "source": [
    "Again, the output is a ```Series```, so this is another way to get this data structure."
   ]
  },
  {
   "cell_type": "markdown",
   "metadata": {},
   "source": [
    "### Challenge!\n",
    "\n",
    "What is the diference between ```df[39]``` and ```df.iloc[39]```?"
   ]
  },
  {
   "cell_type": "markdown",
   "metadata": {},
   "source": [
    "![](img/activity_small.png) "
   ]
  },
  {
   "cell_type": "markdown",
   "metadata": {},
   "source": [
    "\n",
    "\n",
    "Accessing several columns at once is also possible, the result is a data frame:"
   ]
  },
  {
   "cell_type": "code",
   "execution_count": null,
   "metadata": {},
   "outputs": [],
   "source": [
    "print(df[[\"municipality\",\"population\"]])\n",
    "print(\"----------\")\n",
    "print(type(df[[\"municipality\",\"population\"]]))"
   ]
  },
  {
   "cell_type": "markdown",
   "metadata": {},
   "source": [
    "Another handy feature is to filter data frames based on certain criteria. For example, we might only want to see the data of municipalities with at least 150,000 inhabitants:"
   ]
  },
  {
   "cell_type": "code",
   "execution_count": null,
   "metadata": {},
   "outputs": [],
   "source": [
    "print(df[df[\"population\"]>=150000])"
   ]
  },
  {
   "cell_type": "markdown",
   "metadata": {},
   "source": [
    "Or the data for the province of Utrecht:"
   ]
  },
  {
   "cell_type": "code",
   "execution_count": null,
   "metadata": {},
   "outputs": [],
   "source": [
    "print(df[df[\"province\"]==\"Utrecht\"])"
   ]
  },
  {
   "cell_type": "markdown",
   "metadata": {},
   "source": [
    "Or for the municipalities in the province of Utrecht with at least 150,000 inhabitants:"
   ]
  },
  {
   "cell_type": "code",
   "execution_count": null,
   "metadata": {},
   "outputs": [],
   "source": [
    "print(df[ (df[\"province\"]==\"Utrecht\") & (df[\"population\"]>=150000) ])"
   ]
  },
  {
   "cell_type": "markdown",
   "metadata": {},
   "source": [
    "Note that are several other clever ways to access (ranges of) values in data frames, but discussing them all would be out of scope for this lecture. We will see some of them in the examples later on, but if you are interested in digging deeper into this, please refer to the official [“Indexing and Selecting Data” guide](http://pandas.pydata.org/pandas-docs/stable/user_guide/indexing.html) or ask Google if you are looking for hints how to index best in a specific situation.\n",
    "\n",
    "In the following we will look at a few methods that pandas data frames provide. This selection is by no means complete, either, but you can find the full list at https://pandas.pydata.org/pandas-docs/stable/reference/api/pandas.DataFrame.html.\n",
    "\n",
    "For example, there are methods to easily sum up values, or get basic statistic information like the max, min, mean and median values. Just to show a few:"
   ]
  },
  {
   "cell_type": "code",
   "execution_count": null,
   "metadata": {},
   "outputs": [],
   "source": [
    "print('Population in total:', df['population'].sum())\n",
    "print('The maximum population in a municipality was:', df['population'].max())\n",
    "print('The average population per municipality was:', df['population'].mean())\n",
    "print('The average population per municipality with at least 1 university was:', df[df['university']>=1]['population'].mean())"
   ]
  },
  {
   "cell_type": "markdown",
   "metadata": {},
   "source": [
    "The ```hist``` method can be used to plot simple histograms from data:"
   ]
  },
  {
   "cell_type": "code",
   "execution_count": null,
   "metadata": {},
   "outputs": [],
   "source": [
    "print(df[\"avg_household_income_2012\"].hist())"
   ]
  },
  {
   "cell_type": "markdown",
   "metadata": {},
   "source": [
    "Or, with a larger number of bins:"
   ]
  },
  {
   "cell_type": "code",
   "execution_count": null,
   "metadata": {},
   "outputs": [],
   "source": [
    "print(df[\"avg_household_income_2012\"].hist(bins=20))"
   ]
  },
  {
   "cell_type": "markdown",
   "metadata": {},
   "source": [
    "If a data frame contains several columns with numeric values, the ```hist``` method will create histograms for all of them. For example, when called on the whole data frame:"
   ]
  },
  {
   "cell_type": "code",
   "execution_count": null,
   "metadata": {},
   "outputs": [],
   "source": [
    "print(df.hist())"
   ]
  },
  {
   "cell_type": "markdown",
   "metadata": {},
   "source": [
    "The possibilities for making histograms with ```hist()``` more “beautiful” are a bit limited, so other libraries should be used when a better design is wanted. However, for a quick check of the distribution of data in a data frame it is very suitable.\n",
    "\n",
    "As a last example for today, we want to sort the data in the data frame according to average household income (descending), instead of having them sorted by municipality, like it is now. The ```sort_values()``` method is what we need:"
   ]
  },
  {
   "cell_type": "code",
   "execution_count": null,
   "metadata": {},
   "outputs": [],
   "source": [
    "sorted_df = df.sort_values(\"avg_household_income_2012\", ascending=False)\n",
    "print(sorted_df[[\"municipality\", \"avg_household_income_2012\"]])"
   ]
  },
  {
   "cell_type": "markdown",
   "metadata": {},
   "source": [
    "Note that the index column was sorted with the rest of the data, too. So, if we want to have indices there running up from 0, we need to reset the index:"
   ]
  },
  {
   "cell_type": "code",
   "execution_count": null,
   "metadata": {},
   "outputs": [],
   "source": [
    "sorted_reindexed_df = sorted_df.reset_index(drop=True)\n",
    "print(sorted_reindexed_df[[\"municipality\", \"avg_household_income_2012\"]])"
   ]
  },
  {
   "cell_type": "markdown",
   "metadata": {},
   "source": [
    "Finally, note that data frames can easily be saved as CSV files with the ```to_csv()``` method. For example:"
   ]
  },
  {
   "cell_type": "code",
   "execution_count": null,
   "metadata": {},
   "outputs": [],
   "source": [
    "sorted_reindexed_df.to_csv('data/dutch_municipalities_sorted.csv')"
   ]
  },
  {
   "cell_type": "markdown",
   "metadata": {},
   "source": [
    "We will see more about data frames in the following lectures."
   ]
  },
  {
   "cell_type": "markdown",
   "metadata": {},
   "source": [
    "#### Creating new columns out of old ones\n",
    "\n",
    "Sometimes you want to take the value in one column and create a new column by adapting that value. For example, you might want a lowercased version of that column."
   ]
  },
  {
   "cell_type": "code",
   "execution_count": null,
   "metadata": {},
   "outputs": [],
   "source": [
    "def lowercase(text):\n",
    "    return text.lower()\n",
    "\n",
    "df['lowercased_province'] = df['province'].apply(lowercase)\n",
    "df.head()"
   ]
  },
  {
   "cell_type": "markdown",
   "metadata": {},
   "source": [
    "Now you have a new column that consists of the same text contained in the 'province' column, but all in lowercase."
   ]
  },
  {
   "cell_type": "markdown",
   "metadata": {},
   "source": [
    "#### Missing values\n",
    "\n",
    "How can you select the rows that have missing values? We saw above that, for example, 'avg_household_income_2012' has some missing values (see df.info() and how the number of non-null rows is not the same as the number of rows in the dataframe). How can we see those rows only?"
   ]
  },
  {
   "cell_type": "code",
   "execution_count": null,
   "metadata": {},
   "outputs": [],
   "source": [
    "df[df['avg_household_income_2012'].isnull()]"
   ]
  },
  {
   "cell_type": "markdown",
   "metadata": {},
   "source": [
    "This displays only the rows for which avg_household_income_2012 is null. We will see how to handle missing values in the next unit."
   ]
  },
  {
   "cell_type": "markdown",
   "metadata": {},
   "source": [
    "#### Extra: Lambdas\n",
    "\n",
    "Lambdas are a convenient way of applying a function to some column without having to specifically define that function in Python. Suppose, for example, that you want to convert 'avg_household_income_2012', which is displayed in euros, to kEuros, that is, you want to display the income in thousands of euros:"
   ]
  },
  {
   "cell_type": "code",
   "execution_count": null,
   "metadata": {},
   "outputs": [],
   "source": [
    "df['avg_household_income_2012 (kEur)'] = df['avg_household_income_2012'].apply(lambda x: x / 1000)\n",
    "df[['municipality', 'avg_household_income_2012 (kEur)']].head()"
   ]
  },
  {
   "cell_type": "markdown",
   "metadata": {},
   "source": [
    "An equivalent way of doing this is to first define a function and then apply it:"
   ]
  },
  {
   "cell_type": "code",
   "execution_count": null,
   "metadata": {},
   "outputs": [],
   "source": [
    "def to_thousands(value):\n",
    "    return value / 1000\n",
    "\n",
    "df['avg_household_income_2012 (kEur)'] = df['avg_household_income_2012'].apply(to_thousands)\n",
    "df[['municipality', 'avg_household_income_2012 (kEur)']].head()"
   ]
  },
  {
   "cell_type": "markdown",
   "metadata": {},
   "source": [
    "## Exercises"
   ]
  },
  {
   "cell_type": "markdown",
   "metadata": {},
   "source": [
    "### 1. Interview Anonymization (★★★★☆)\n",
    "Imagine you are a journalist, and you have written a text about an interview with somebody. Because the person wants to remain unrecognized, you have to replace their name through a fictive one everywhere in the text before it gets published. The interview has been split into sentences and each sentence, along with an identifier ```id``` identifying the sentence, is stored in ```data/interview-with-a-syrian-refugee.csv```. Write a Python program that reads the file containing the interview text, replaces all occurrences of the original name by a new one (the `str.replace()` function can be used here), and saves the changed text in a new file."
   ]
  },
  {
   "cell_type": "markdown",
   "metadata": {},
   "source": [
    "### 2. Longest Word (★★★★☆)\n",
    "Create a function that finds the longest word in a string. Use it to find the longest word in each of the sentences from exercise 1 above. Save the output to a new file."
   ]
  },
  {
   "cell_type": "markdown",
   "metadata": {},
   "source": [
    "### 3. Randomized Story-Telling (★★★★☆)\n",
    "One of the simple pen-and-paper games I remember from my childhood days goes as follows: A paper sheet is divided into four columns for the questions “Who?”, “Does what?”, “How?” and “Where?”. The first player would write down a person in the first column, then fold it away, the second would fill in a verb, fold it away, etc. After the fourth column has been filled, the complete sentence is read out. It could then be something like “My brother is showering excessively at the gas station.”\n",
    "\n",
    "Write a program that creates a user-defined number of such random sentences. The file `“inputs.csv”` contains a list of possible answers to all of the four questions. Take the values from there. Feel free to add further words to the CSV file to create more variation. The output of the program should be something like:\n",
    "```\n",
    "How many sentences do you want to create? 3\n",
    "My granny is dancing massively at the fair.\n",
    "The butcher is travelling aggressively in bed.\n",
    "My grandpa is reading nicely in the bathroom.\n",
    "```"
   ]
  },
  {
   "cell_type": "markdown",
   "metadata": {},
   "source": [
    "### 4. Population and Universities per Province (★★★★☆)\n",
    "Write a Python program that reads in the CSV file `\"dutch_municipalities.csv\"` that we already used in the lecture. Sum up the population and universities for each province and write the result into a new CSV file `“dutch_provinces.csv”`, in alphabetical order of the province names. Its content should look like:\n",
    "```\n",
    "province,population,universities\n",
    "Drenthe,488892.0,0\n",
    "Flevoland,400179.0,0\n",
    "Friesland,580537.0,0\n",
    "Gelderland,1993851.0,2\n",
    "Groningen,495508.0,1\n",
    "Limburg,1119751.0,1\n",
    "Noord-Brabant,2390214.0,2\n",
    "Noord-Holland,2766854.0,2\n",
    "Overijssel,1139754.0,1\n",
    "Utrecht,1254034.0,1\n",
    "Zeeland,380619.0,0\n",
    "Zuid-Holland,3579503.0,3\n",
    "```"
   ]
  }
 ],
 "metadata": {
  "kernelspec": {
   "display_name": "Python 3 (ipykernel)",
   "language": "python",
   "name": "python3"
  },
  "language_info": {
   "codemirror_mode": {
    "name": "ipython",
    "version": 3
   },
   "file_extension": ".py",
   "mimetype": "text/x-python",
   "name": "python",
   "nbconvert_exporter": "python",
   "pygments_lexer": "ipython3",
   "version": "3.12.3"
  }
 },
 "nbformat": 4,
 "nbformat_minor": 4
}
