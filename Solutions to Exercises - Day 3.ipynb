{
 "cells": [
  {
   "cell_type": "markdown",
   "id": "0474803f",
   "metadata": {},
   "source": [
    "# Solutions to Exercises\n",
    "\n",
    "This notebook is based on Anna-Lena Lamprecht's CoTaPP repository (https://github.com/annalenalamprecht/CoTaPP). Some modifications were made."
   ]
  },
  {
   "cell_type": "markdown",
   "id": "7eb4bae9",
   "metadata": {},
   "source": [
    "## Unit 3.1: Object-Oriented Programming"
   ]
  },
  {
   "cell_type": "markdown",
   "id": "0ed050d2",
   "metadata": {},
   "source": [
    "### 0. Room Occupancy Revisited (Easy Version)"
   ]
  },
  {
   "cell_type": "code",
   "execution_count": null,
   "id": "a6387ed7",
   "metadata": {},
   "outputs": [],
   "source": [
    "from oop import Room\n",
    "        \n",
    "room = Room(101, 4)\n",
    "print(room.room_number)      # Expected output: 101\n",
    "print(room.max_occupancy)    # Expected output: 4"
   ]
  },
  {
   "cell_type": "markdown",
   "id": "4e6ba87a",
   "metadata": {},
   "source": [
    "### 1. Room Occupancy Revisited (Hard Version)"
   ]
  },
  {
   "cell_type": "code",
   "execution_count": null,
   "id": "0fce7125",
   "metadata": {},
   "outputs": [],
   "source": [
    "from oop import HardRoom\n",
    "            \n",
    "    \n",
    "################\n",
    "# Main program #\n",
    "################\n",
    "\n",
    "# create some rooms\n",
    "all_rooms = set()\n",
    "all_rooms.add(HardRoom(101, 4))\n",
    "all_rooms.add(HardRoom(102, 2))\n",
    "all_rooms.add(HardRoom(201, 3))\n",
    "all_rooms.add(HardRoom(202, 2))\n",
    "\n",
    "# 1 - Print occupancy\n",
    "def print_occupancy():\n",
    "    for room in all_rooms:\n",
    "        print(f'Room {room.number}: {len(room.guests)} / {room.max_guests}')\n",
    "# 2 - Check guest in\n",
    "def check_in():\n",
    "    guest = input(\"Enter name of guest: \")\n",
    "    number = int(input(\"Enter room number: \"))\n",
    "    room = [r for r in all_rooms if r.number == number][0]\n",
    "    if room != None:\n",
    "        room.checkIn(guest)\n",
    "    else:\n",
    "        print(\"Not a valid room number.\")\n",
    "# 3 - Check guest out\n",
    "def check_out():\n",
    "    guest = input(\"Enter name of guest: \")\n",
    "    number = int(input(\"Enter room number: \"))\n",
    "    room = [r for r in all_rooms if r.number == number][0]\n",
    "    if room != None:\n",
    "        room.checkOut(guest)\n",
    "    else:\n",
    "        print(\"Not a valid room number.\")\n",
    "\n",
    "# Wrapper program\n",
    "while True:\n",
    "    choice = input(\"Please choose what you want to do (1-print occupancy/2-check in/3-check out/4-exit program: \") \n",
    "    if choice == \"1\":\n",
    "        print_occupancy()\n",
    "    elif choice == \"2\":\n",
    "        check_in()\n",
    "    elif choice == \"3\":\n",
    "        check_out()\n",
    "    elif choice == \"4\":\n",
    "        print(\"Goodbye!\")\n",
    "        break\n",
    "    else:\n",
    "        print(\"Invalid input, try again.\")"
   ]
  },
  {
   "cell_type": "markdown",
   "id": "d311ee55",
   "metadata": {},
   "source": [
    "### 2. People at the University"
   ]
  },
  {
   "cell_type": "code",
   "execution_count": null,
   "id": "9568534b",
   "metadata": {},
   "outputs": [],
   "source": [
    "from oop import Person, Student, Lecturer, BachelorStudent, MasterStudent\n",
    "\n",
    "student1 = BachelorStudent(\"Alice\", \"UU\", \"Biology\", \"Amsterdam\")\n",
    "student2 = MasterStudent(\"Bob\", \"UU\", \"Chemistry\", \"Biophysics\")\n",
    "lecturer = Lecturer(\"Cindy\",\"UU\", \"Information and Computing Sciences\")\n",
    "\n",
    "student1.printInfo()\n",
    "student1.setCreditPoints(150)\n",
    "print(f\"{student1.name} has {student1.getCreditPoints()} points.\")\n",
    "student2.printInfo()\n",
    "student2.setCreditPoints(45)\n",
    "print(f\"{student2.name} has {student2.getCreditPoints()} points.\")\n",
    "lecturer.printInfo()"
   ]
  },
  {
   "cell_type": "markdown",
   "id": "f60da678",
   "metadata": {},
   "source": [
    "## Unit 3.2: CSV files, Pandas, tabular data"
   ]
  },
  {
   "cell_type": "markdown",
   "id": "99bd4cbc-729b-4259-ab49-199ea1105b1c",
   "metadata": {},
   "source": [
    "### In-class challenge"
   ]
  },
  {
   "cell_type": "code",
   "execution_count": null,
   "id": "be769a9a-2be1-45fe-88ea-1814176f7fe4",
   "metadata": {},
   "outputs": [],
   "source": [
    "def get_third_teacher():\n",
    "    with open('data/teachers.txt') as f:\n",
    "        lines = f.readlines()\n",
    "    return lines[2]\n",
    "\n",
    "print(get_third_teacher())"
   ]
  },
  {
   "cell_type": "markdown",
   "id": "4e0431fb",
   "metadata": {},
   "source": [
    "### 1. Interview Anonymization"
   ]
  },
  {
   "cell_type": "code",
   "execution_count": null,
   "id": "16ddb688",
   "metadata": {},
   "outputs": [],
   "source": [
    "import pandas as pd\n",
    "\n",
    "interview_file = \"data/interview-with-a-syrian-refugee.csv\"\n",
    "new_file = \"data/interview-with-a-syrian-refugee-anonymized.csv\"\n",
    "\n",
    "def anonymize(sentence):\n",
    "    return sentence.replace('Samira', 'ANONYMOUS')\n",
    "\n",
    "df = pd.read_csv(interview_file)\n",
    "df['anonymized_sentence'] = df['sentence'].apply(anonymize)\n",
    "df[['anonymized_sentence', 'id']].to_csv(new_file)"
   ]
  },
  {
   "cell_type": "markdown",
   "id": "e4fefc81",
   "metadata": {},
   "source": [
    "### 2. Longest Word"
   ]
  },
  {
   "cell_type": "code",
   "execution_count": null,
   "id": "b43bc0ac",
   "metadata": {},
   "outputs": [],
   "source": [
    "import pandas as pd\n",
    "\n",
    "interview_file = \"data/interview-with-a-syrian-refugee.csv\"\n",
    "new_file = \"data/interview-with-a-syrian-refugee-longest-word.csv\"\n",
    "\n",
    "def find_longest_word(string):\n",
    "    \n",
    "    # Create longest word and length\n",
    "    longest_word = ''\n",
    "    longest_length = 0\n",
    "    \n",
    "    # Split the string in words\n",
    "    words = string.split() # By default any whitespace is a separator\n",
    "    \n",
    "    # Loop over the words\n",
    "    for word in words:\n",
    "        if word.isalpha():  #Only for alphabetic strings:\n",
    "            if len(word) > longest_length: #Als de lengte van het woord groter is dan langste lenge\n",
    "                longest_word = word # Voeg woord toe aan langste woord\n",
    "                longest_length = len(word) # Voeg de lengte van dat woord toe aan de langste lengte\n",
    "            \n",
    "    return longest_word\n",
    "\n",
    "df = pd.read_csv(interview_file)\n",
    "df['longest_word'] = df['sentence'].apply(find_longest_word)\n",
    "df[['longest_word', 'id']].to_csv(new_file)"
   ]
  },
  {
   "cell_type": "markdown",
   "id": "ee7ca78a",
   "metadata": {},
   "source": [
    "### 3. Randomized Story-Telling"
   ]
  },
  {
   "cell_type": "code",
   "execution_count": null,
   "id": "f750dd95",
   "metadata": {},
   "outputs": [],
   "source": [
    "import pandas as pd\n",
    "import sys\n",
    "import random\n",
    "\n",
    "# set path to input file\n",
    "infile = \"data/inputs.csv\"\n",
    "\n",
    "try:\n",
    "    # read input file as dataframe\n",
    "    df_in = pd.read_csv(infile, sep=\",\")\n",
    "\n",
    "# for any error, display the exception message\n",
    "except Exception as err:\n",
    "    print(\"Something went wrong...\")\n",
    "    print(err) \n",
    "    sys.exit()\n",
    "\n",
    "\n",
    "# ask user how many sentences should be created\n",
    "while True:\n",
    "    try:\n",
    "        number = int(input(\"How many sentences do you want to create? \"))\n",
    "        break\n",
    "    except ValueError:\n",
    "        print(\"That was no valid number. Try again.\") \n",
    "    \n",
    "# create the desired number of sentences\n",
    "while number > 0:\n",
    "\n",
    "    # select a random value for each of the four sentence elements\n",
    "    who = df_in.loc[random.randint(0,df_in[\"who\"].size-1),\"who\"]\n",
    "    does_what = df_in.loc[random.randint(0,df_in[\"does what\"].size-1),\"does what\"]\n",
    "    how = df_in.loc[random.randint(0,df_in[\"how\"].size-1),\"how\"]\n",
    "    where = df_in.loc[random.randint(0,df_in[\"where\"].size-1),\"where\"]\n",
    "    \n",
    "    print(f\"{who} {does_what} {how} {where}.\")\n",
    "\n",
    "    number -= 1"
   ]
  },
  {
   "cell_type": "markdown",
   "id": "997c8c15",
   "metadata": {},
   "source": [
    "### 4. Population and Universities per Province"
   ]
  },
  {
   "cell_type": "code",
   "execution_count": null,
   "id": "eff1e7dc",
   "metadata": {},
   "outputs": [],
   "source": [
    "import pandas as pd\n",
    "import sys\n",
    "\n",
    "# set paths to input and output file\n",
    "infile = \"data/dutch_municipalities.csv\"\n",
    "outfile = \"data/dutch_provinces.csv\"\n",
    "\n",
    "\n",
    "try:\n",
    "    # read input file as dataframe\n",
    "    df_in = pd.read_csv(infile)\n",
    "\n",
    "# for any error, display the exception message\n",
    "except Exception as err:\n",
    "    print(\"Something went wrong...\")\n",
    "    print(err) \n",
    "    sys.exit()\n",
    "\n",
    "# init new empty dataframe with the wanted columns\n",
    "df_out = pd.DataFrame(columns=[\"province\", \"population\", \"universities\"])\n",
    "\n",
    "# get province names (as sorted set)\n",
    "provinces = sorted(set(df_in[\"province\"]))\n",
    "\n",
    "# for all provinces ...\n",
    "for province in provinces:\n",
    "    # get the part of the dataframe for the province\n",
    "    df_province = df_in[df_in[\"province\"]==province]\n",
    "    \n",
    "    # sum up universities and population and add to new data frame\n",
    "    df_out = df_out.append({\"province\":province,\\\n",
    "                            \"population\":df_province[\"population\"].sum(),\\\n",
    "                            \"universities\":df_province[\"university\"].sum()},\\\n",
    "                            ignore_index=True)\n",
    "  \n",
    "try:\n",
    "    # save new dataframe as csv file\n",
    "    df_out.to_csv(outfile, index=False)\n",
    "\n",
    "# for any error, display the exception message\n",
    "except Exception as err:\n",
    "    print(\"Something went wrong...\")\n",
    "    print(err) \n",
    "    sys.exit()\n",
    "    \n",
    "\n",
    "# Another possible, but longer solution is with the csv package and \n",
    "# dictionaries, as shown below (without try/except error handling).\n",
    "#\n",
    "# import csv\n",
    "#\n",
    "## create two empty dictionaries to collect the aggregated data\n",
    "#universities_per_province = {}\n",
    "#population_per_province = {}\n",
    "#\n",
    "## read in the data and iterate over all rows, adding up\n",
    "## population and university numbers per province\n",
    "#with open(\"dutch_municipalities.csv\", \"r\") as csvfile:\n",
    "#    csvreader = csv.DictReader(csvfile, delimiter=',')\n",
    "#    for row in csvreader:\n",
    "#        if row[\"province\"] not in universities_per_province:\n",
    "#            universities_per_province[row[\"province\"]] = int(row[\"university\"])"
   ]
  },
  {
   "cell_type": "markdown",
   "id": "627d02c1",
   "metadata": {},
   "source": [
    "## Unit 3.3: Join two dataframes, group by and correlations of variables"
   ]
  },
  {
   "cell_type": "markdown",
   "id": "2bd1b0d9",
   "metadata": {},
   "source": [
    "### 1. Analysis of the McDonald’s Menu"
   ]
  },
  {
   "cell_type": "markdown",
   "id": "bfe899bf",
   "metadata": {},
   "source": [
    "#### Question a"
   ]
  },
  {
   "cell_type": "code",
   "execution_count": null,
   "id": "78149372",
   "metadata": {},
   "outputs": [],
   "source": [
    "import pandas as pd\n",
    "\n",
    "# import menu and display the first two rows of the dataframe\n",
    "menu = pd.read_csv(\"data/mcdonalds_menu.csv\")\n",
    "\n",
    "# determine number of items and create barplot\n",
    "print(\"Total number of items:\", len(menu.Item.unique()))\n",
    "print(menu.groupby('Category')['Item'].count())"
   ]
  },
  {
   "cell_type": "markdown",
   "id": "768144db",
   "metadata": {},
   "source": [
    "The most represented category is \"Coffee & Tea\""
   ]
  },
  {
   "cell_type": "markdown",
   "id": "ca07009b",
   "metadata": {},
   "source": [
    "#### Question b"
   ]
  },
  {
   "cell_type": "code",
   "execution_count": null,
   "id": "f92a208e",
   "metadata": {},
   "outputs": [],
   "source": [
    "# analysis fat per category\n",
    "grp_by_category = menu[['Category', 'Total Fat (% Daily Value)','Trans Fat','Saturated Fat (% Daily Value)', 'Cholesterol (% Daily Value)' ]].groupby(['Category']).max() #extracting the wanted columns, grouping by categories and calculating the max\n",
    "grp_by_category.reset_index(inplace=True) #resetting the index (otherwise category is the new index and it messes up with merge)\n",
    "grp_by_category.columns=['Category', 'Max_Fat', 'Max_Trans_Fat', 'Max_Sat_Fat', 'Max_Cholestrol'] #renaming the columns\n",
    "print(grp_by_category) #displaying the new dataframe\n",
    "\n",
    "df = menu.merge(grp_by_category) #merging the two dataframes by the only common column (\"Category\")\n",
    "mask = df['Total Fat (% Daily Value)'] == df.Max_Fat #creating the mask that will be used for the selection\n",
    "fatty_menu = df.loc[mask, ['Category','Item','Total Fat (% Daily Value)','Cholesterol (% Daily Value)']] #selection the items that correspond to the max of total fat (%daily value) per category\n",
    "print(fatty_menu) #displaying the dataframe\n",
    "\n",
    "trans_menu = df.loc[(df['Trans Fat'] == df.Max_Trans_Fat) & (df['Trans Fat']>0)][['Category','Item','Total Fat (% Daily Value)','Trans Fat','Saturated Fat (% Daily Value)','Cholesterol (% Daily Value)']] #creating a new filter\n",
    "print(trans_menu.sort_values(by='Trans Fat',ascending=False)) #displaying the dataframe sorted by Trans Fat (decreasing order)"
   ]
  },
  {
   "cell_type": "markdown",
   "id": "d20b8d8f",
   "metadata": {},
   "source": [
    "#### Question c"
   ]
  },
  {
   "cell_type": "code",
   "execution_count": null,
   "id": "cf488b10",
   "metadata": {},
   "outputs": [],
   "source": [
    "# anything healthy?\n",
    "healthy = df.loc[(df['Trans Fat']==0) & (df['Sugars']<20) & (df['Total Fat (% Daily Value)']<=20) & (df['Cholesterol (% Daily Value)']==0), ['Category','Item','Calories']].sort_values('Calories', ascending=False)\n",
    "print(healthy[(healthy['Category']!=\"Beverages\") & (healthy['Category']!=\"Coffee & Tea\")])"
   ]
  },
  {
   "cell_type": "markdown",
   "id": "40bdfac1",
   "metadata": {},
   "source": [
    "#### Question d"
   ]
  },
  {
   "cell_type": "code",
   "execution_count": null,
   "id": "0092c314",
   "metadata": {},
   "outputs": [],
   "source": [
    "# top 10 vitamin C\n",
    "print(\"Question 4:\")\n",
    "print(pd.pivot_table(menu, index=['Item'], values=['Vitamin C (% Daily Value)']).sort_values(['Vitamin C (% Daily Value)'], ascending=False)[:10])"
   ]
  },
  {
   "cell_type": "markdown",
   "id": "4d42d1af",
   "metadata": {},
   "source": [
    "#### Question e"
   ]
  },
  {
   "cell_type": "code",
   "execution_count": null,
   "id": "82af7547",
   "metadata": {},
   "outputs": [],
   "source": [
    "# nutrition feature comparison\n",
    "selection = menu.loc[:,['Calories', 'Total Fat', 'Saturated Fat', 'Cholesterol', 'Sodium', 'Carbohydrates', 'Sugars', 'Protein']]\n",
    "print(selection.corr())"
   ]
  }
 ],
 "metadata": {
  "kernelspec": {
   "display_name": "Python 3 (ipykernel)",
   "language": "python",
   "name": "python3"
  },
  "language_info": {
   "codemirror_mode": {
    "name": "ipython",
    "version": 3
   },
   "file_extension": ".py",
   "mimetype": "text/x-python",
   "name": "python",
   "nbconvert_exporter": "python",
   "pygments_lexer": "ipython3",
   "version": "3.12.3"
  }
 },
 "nbformat": 4,
 "nbformat_minor": 5
}
