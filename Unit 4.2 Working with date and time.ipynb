{
 "cells": [
  {
   "cell_type": "markdown",
   "metadata": {},
   "source": [
    "# Unit 4.2: Working with date and time\n",
    "This notebook is based on Anna-Lena Lamprecht's CoTaPP repository (https://github.com/annalenalamprecht/CoTaPP). Some modifications were made."
   ]
  },
  {
   "cell_type": "markdown",
   "metadata": {},
   "source": [
    "Last time we discussed `matplotlib`, which can be extremely useful for visualization.\n",
    "\n",
    "Now we will dive deeper into objects in the `datetime` library. We will see how to get the current date, differentiate between dates and times, and work with time differences. We will see how this ties in with our experience with Pandas.\n",
    "\n",
    "Next time we will learn about matrix computations."
   ]
  },
  {
   "cell_type": "markdown",
   "metadata": {},
   "source": [
    "## The `date` class"
   ]
  },
  {
   "cell_type": "markdown",
   "metadata": {},
   "source": [
    "Suppose you want to know the current year without having to enter it manually."
   ]
  },
  {
   "cell_type": "code",
   "execution_count": null,
   "metadata": {},
   "outputs": [],
   "source": [
    "from datetime import date\n",
    "\n",
    "print(date.today().year)"
   ]
  },
  {
   "cell_type": "markdown",
   "metadata": {},
   "source": [
    "### Other attributes of date\n",
    "\n",
    "First, note the difference between `datetime` (a library in Python) and `date` (a class). The class function `today()` returns a `date` object representing the current date. In the above example, we retrieved the year by invoking the variable `year`. There are other variables corresponding to the day and month, as expected:"
   ]
  },
  {
   "cell_type": "code",
   "execution_count": null,
   "metadata": {},
   "outputs": [],
   "source": [
    "today = date.today()\n",
    "print('Day:', today.day)\n",
    "print('Month:', today.month)"
   ]
  },
  {
   "cell_type": "markdown",
   "metadata": {},
   "source": [
    "## The `datetime` class\n",
    "\n",
    "The `datetime` library has a class called `date` that represents dates. What about dates with associated times? Those are represented by the class `datetime` (it is unfortunate that it has the same name as the library!)"
   ]
  },
  {
   "cell_type": "code",
   "execution_count": null,
   "metadata": {},
   "outputs": [],
   "source": [
    "from datetime import datetime\n",
    "\n",
    "print(datetime.now())"
   ]
  },
  {
   "cell_type": "markdown",
   "metadata": {},
   "source": [
    "We have seen how to work with dates and with dates with associated times. What is a natural next step?\n",
    "\n",
    "![](img/activity_small.png) "
   ]
  },
  {
   "cell_type": "markdown",
   "metadata": {},
   "source": [
    "## The `timedelta` class"
   ]
  },
  {
   "cell_type": "code",
   "execution_count": null,
   "metadata": {},
   "outputs": [],
   "source": [
    "from datetime import timedelta\n",
    "\n",
    "time_difference = timedelta(days=2)\n",
    "print(time_difference)"
   ]
  },
  {
   "cell_type": "code",
   "execution_count": null,
   "metadata": {},
   "outputs": [],
   "source": [
    "print(datetime.now() + time_difference)"
   ]
  },
  {
   "cell_type": "markdown",
   "metadata": {},
   "source": [
    "## More date manipulations\n",
    "\n",
    "The `datetime` library is extremely powerful. What we mean by this is that there are loads of functionalities that cannot possibly be covered in a lecture. Here is the documentation:\n",
    "\n",
    "https://docs.python.org/3/library/datetime.html\n",
    "\n",
    "Let's work on three questions:\n",
    "\n",
    "1. How do we create a `date` object using a string? I.e., how do we create the date object that corresponds to '1785-01-07'?\n",
    "\n",
    "2. How do I create a `date` object that is exactly like an existing `date` object, but with a different month? For example, let's say you have `date(1785,1,7)` and you want to get a new object with the same date but for the current year?\n",
    "\n",
    "3. What day of the week were you born?\n",
    "\n",
    "![](img/activity_small.png) "
   ]
  },
  {
   "cell_type": "markdown",
   "metadata": {},
   "source": [
    "## Dates in Pandas\n",
    "\n",
    "Let's suppose that you have a dataset of winning proposals for a research grant. The file is called `data/grant_winners.csv`."
   ]
  },
  {
   "cell_type": "code",
   "execution_count": null,
   "metadata": {},
   "outputs": [],
   "source": [
    "import pandas as pd\n",
    "\n",
    "df = pd.read_csv('data/grant_winners.csv', sep=';')\n",
    "df.head()"
   ]
  },
  {
   "cell_type": "markdown",
   "metadata": {},
   "source": [
    "Note that one of the columns represents the date when the grant was awarded. What is the type of the values in that column?"
   ]
  },
  {
   "cell_type": "code",
   "execution_count": null,
   "metadata": {},
   "outputs": [],
   "source": [
    "print(type(df['Award date'].tolist()[0]))"
   ]
  },
  {
   "cell_type": "markdown",
   "metadata": {},
   "source": [
    "The dates were parsed as strings. What if we wanted to select grants awarded in a specific date range? It would be handy if the dates were parsed as `datetime` objects, so that we could work with them in the way we learned above. Fortunately, the `read_csv` [documentation](https://pandas.pydata.org/pandas-docs/stable/reference/api/pandas.read_csv.html) says how to parse dates automatically. Alternatively, we can convert the strings to `date` objects using `fromisoformat` ([documentation](https://docs.python.org/3/library/datetime.html#datetime.date.fromisoformat)).\n",
    "\n",
    "![](img/activity_small.png) "
   ]
  },
  {
   "cell_type": "markdown",
   "metadata": {},
   "source": [
    "## Exercises\n",
    "\n",
    "### 1. Print a date in a the following format:\n",
    "\n",
    "`Day_name  Day_number  Month_name  Year`\n",
    "\n",
    "Note that we did not cover the necessary function above, but part of the importance of working with dates and times is being able to look through the documentation. If you need a hint, ask the instructor what the necessary function is."
   ]
  },
  {
   "cell_type": "code",
   "execution_count": null,
   "metadata": {},
   "outputs": [],
   "source": [
    "given_date = datetime(2020, 2, 25)"
   ]
  },
  {
   "cell_type": "markdown",
   "metadata": {},
   "source": [
    "Expected output:\n",
    "\n",
    "`Tuesday 25 February 2020`"
   ]
  },
  {
   "cell_type": "markdown",
   "metadata": {},
   "source": [
    "### 2. Print current time in milliseconds\n",
    "\n",
    "So far we have used *normal* parts of days and times: year, month, day, hour, minute, second. But what if you want a different unit?"
   ]
  },
  {
   "cell_type": "markdown",
   "metadata": {},
   "source": [
    "### 3. Calculate number of days between two given dates"
   ]
  },
  {
   "cell_type": "code",
   "execution_count": null,
   "metadata": {},
   "outputs": [],
   "source": [
    "# 2020-02-25\n",
    "date_1 = datetime(2020, 2, 25)\n",
    "\n",
    "# 2020-09-17\n",
    "date_2 = datetime(2020, 9, 17)"
   ]
  },
  {
   "cell_type": "markdown",
   "metadata": {},
   "source": [
    "Expected output:\n",
    "\n",
    "`205 days`"
   ]
  },
  {
   "cell_type": "markdown",
   "metadata": {},
   "source": [
    "### 4. Select data from a given date range\n",
    "\n",
    "Using `data/grant_winners.csv`, print the names of all grants that were awarded in the academic years 2022-2023 and 2023-2024 (i.e., from 1 September 2022 until 31 August 2024)."
   ]
  },
  {
   "cell_type": "code",
   "execution_count": null,
   "metadata": {},
   "outputs": [],
   "source": []
  }
 ],
 "metadata": {
  "kernelspec": {
   "display_name": "Python 3 (ipykernel)",
   "language": "python",
   "name": "python3"
  },
  "language_info": {
   "codemirror_mode": {
    "name": "ipython",
    "version": 3
   },
   "file_extension": ".py",
   "mimetype": "text/x-python",
   "name": "python",
   "nbconvert_exporter": "python",
   "pygments_lexer": "ipython3",
   "version": "3.12.3"
  }
 },
 "nbformat": 4,
 "nbformat_minor": 4
}
