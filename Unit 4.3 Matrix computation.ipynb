{
 "cells": [
  {
   "cell_type": "markdown",
   "id": "69a86b51",
   "metadata": {},
   "source": [
    "# Unit 4.3: Unit 4.3: Matrix computation\n",
    "This notebook is based on Anna-Lena Lamprecht's CoTaPP repository (https://github.com/annalenalamprecht/CoTaPP). Some modifications were made."
   ]
  },
  {
   "cell_type": "markdown",
   "id": "c7a64d8a",
   "metadata": {},
   "source": [
    "Last time we discussed date and time manipulations.\n",
    "\n",
    "Now we have a look at one of the most popular Python libraries for data science applications: NumPy. Keep in mind that in the lecture we can only discuss a few selected examples, so refer to the respective online [documentation](https://numpy.org/) for full reference.\n",
    "\n",
    "Next time we will learn about error handling."
   ]
  },
  {
   "cell_type": "markdown",
   "id": "9454fbcb-2c75-4190-8968-af5e6b61bd8b",
   "metadata": {},
   "source": [
    "## Recap: lists\n",
    "\n",
    "We already learned how to represent arrays of numbers using lists. Here's an example: you have a vector in three-dimensional space, representing the position of a fly in this room:"
   ]
  },
  {
   "cell_type": "code",
   "execution_count": null,
   "id": "4470d6c5-40a4-40ce-b969-66fb4e3986f1",
   "metadata": {},
   "outputs": [],
   "source": [
    "v_1 = [0.5, 3, 2.5]"
   ]
  },
  {
   "cell_type": "markdown",
   "id": "bd4389bc-49ee-4c93-a0f8-f6962a98e9fa",
   "metadata": {},
   "source": [
    "Now suppose there is another fly at a different location:"
   ]
  },
  {
   "cell_type": "code",
   "execution_count": null,
   "id": "51b05927-e54f-4bdc-a7cd-65bf0f87b3c9",
   "metadata": {},
   "outputs": [],
   "source": [
    "v_2 = [-1, 3.5, 2]"
   ]
  },
  {
   "cell_type": "markdown",
   "id": "26fd4b31-b0a0-4a8d-b290-9cdbba800372",
   "metadata": {},
   "source": [
    "What are some of the operations we can perform on these lists?\n",
    "\n",
    "![](img/activity_small.png) "
   ]
  },
  {
   "cell_type": "markdown",
   "id": "4a52d265-bd48-4da8-875b-9cb75eb735c2",
   "metadata": {},
   "source": [
    "Let's say you want to find the distance between the two flies. The sequence of steps should be:\n",
    "\n",
    "1. find the difference between the two vectors: $\\vec{v}_{\\rm diff} = \\vec{v}_1 - \\vec{v}_2$\n",
    "\n",
    "2. take the absolute value of that vector $|\\vec{v}_{\\rm diff}|$\n",
    "\n",
    "Can we do it with lists?"
   ]
  },
  {
   "cell_type": "code",
   "execution_count": null,
   "id": "f45aeac6-db83-433e-bf98-35b2829034f4",
   "metadata": {},
   "outputs": [],
   "source": [
    "try:\n",
    "    v_diff = v_1 - v_2\n",
    "    print(v_diff)\n",
    "except TypeError as e:\n",
    "    print('ERROR:', e)\n",
    "\n",
    "# These operations also return mathematically unexpected results\n",
    "print(v_1 + v_2)\n",
    "print(v_1 * 3)"
   ]
  },
  {
   "cell_type": "markdown",
   "id": "0c2a125e",
   "metadata": {},
   "source": [
    "## NumPy\n",
    "\n",
    "The [NumPy library](http://www.numpy.org/) has been designed to provide specific support for numerical mathematics in Python. In particular, it provides a data structure for n-dimensional arrays/matrices (the `ndarray`) and operations for working with it. Note that Pandas, which focuses on functionality for data-science applications, has been built on top of NumPy.\n",
    "\n",
    "Here is a small basic NumPy example that shows some of many different ways to create ndarrays:"
   ]
  },
  {
   "cell_type": "code",
   "execution_count": null,
   "id": "f693f4d3-0f29-41f6-9404-7c40487b76b9",
   "metadata": {},
   "outputs": [],
   "source": [
    "!pip install numpy"
   ]
  },
  {
   "cell_type": "code",
   "execution_count": null,
   "id": "21c2a90d",
   "metadata": {},
   "outputs": [],
   "source": [
    "import numpy as np\n",
    "a_list = [[1,5,6],[6,7,6],[5,4,3]]\n",
    "a = np.array(a_list)\n",
    "b = np.zeros((3,3))\n",
    "c = np.ones((3,3))\n",
    "d = np.identity(3)\n",
    "print(a)\n",
    "print(\"----------\")\n",
    "print(b)\n",
    "print(\"----------\")\n",
    "print(c)\n",
    "print(\"----------\")\n",
    "print(d)"
   ]
  },
  {
   "cell_type": "markdown",
   "id": "aa7d6f5a",
   "metadata": {},
   "source": [
    "Example of Numpy arrays:\n",
    "\n",
    "<figure>\n",
    "  <img src=\"https://predictivehacks.com/wp-content/uploads/2020/08/numpy_arrays-1024x572.png\" alt=\"Ilustration of arrays in Numpy\" style=\"width:45%\">\n",
    "  <figcaption>Source: https://predictivehacks.com/tips-about-numpy-arrays/</figcaption>\n",
    "</figure>"
   ]
  },
  {
   "cell_type": "markdown",
   "id": "f70b5f1b",
   "metadata": {},
   "source": [
    "Indexing etc. basically works as with lists, data frames and other collection data structures that we have seen before. Note, however, that ndarrays are homogeneously typed, that is, all contained elements must be of the same type, and that they are usually fixed-size, that is, all rows in a dimension must be of the same length. Also appending new rows or columns to ndarrays is not as easy as with the aforementioned data types, so ideally they are created directly with the size and number of dimensions needed, and values filled in later in the program if needed. The advantage of ndarrays is that numerical operations on large matrices run much faster on them then on the dynamic collection data structures.\n",
    "\n",
    "### Operations on all elements of a matrix\n",
    "\n",
    "Python’s standard arithmetic operations can be used on ndarrays, and will be executed elementwise. For example:"
   ]
  },
  {
   "cell_type": "code",
   "execution_count": null,
   "id": "85f5e893-106f-40d6-932b-85801112ef86",
   "metadata": {},
   "outputs": [],
   "source": [
    "print(a)\n",
    "print(\"----------\")\n",
    "print(a+1)"
   ]
  },
  {
   "cell_type": "markdown",
   "id": "b7c2c4c0-a5f7-4d61-8d42-3045f7907df4",
   "metadata": {},
   "source": [
    "Note that all default operations are element-wise. This means that applying the `*` operator on two matrices really does element-by-element multiplication:"
   ]
  },
  {
   "cell_type": "code",
   "execution_count": null,
   "id": "fbdfaacd",
   "metadata": {},
   "outputs": [],
   "source": [
    "print(a+c)\n",
    "print(\"----------\")\n",
    "print(a*a)\n",
    "print(\"----------\")\n",
    "print((a-c)<=b)"
   ]
  },
  {
   "cell_type": "markdown",
   "id": "e5ae4759-8df4-417a-b0bf-e9cd6b46fb89",
   "metadata": {},
   "source": [
    "#### Visualization\n",
    "\n",
    "![](img/activity_small.png) "
   ]
  },
  {
   "cell_type": "markdown",
   "id": "3f2e5e8c",
   "metadata": {},
   "source": [
    "### Linear algebra operations\n",
    "\n",
    "For matrix-specific operations, own functionality has been defined, for example for matrix multiplication and transposition:"
   ]
  },
  {
   "cell_type": "code",
   "execution_count": null,
   "id": "f7068433",
   "metadata": {},
   "outputs": [],
   "source": [
    "print(a@a) \n",
    "print(a.T)"
   ]
  },
  {
   "cell_type": "markdown",
   "id": "f7c493b1",
   "metadata": {},
   "source": [
    "### An example\n",
    "\n",
    "Here is now an example (largely taken from https://www.geeksforgeeks.org/check-given-matrix-is-magic-square-or-not/) that actually does something more useful with ndarrays: A *magic square* is a $n\\times n$ matrix all of whose row sums, column sums and the sums of the two diagonals are the same. The function ```is_magic(matrix)``` in the program below checks if a ndarray represents a magic square:"
   ]
  },
  {
   "cell_type": "markdown",
   "id": "3ec714e4",
   "metadata": {},
   "source": [
    "<figure>\n",
    "  <img src=\"https://www.researchgate.net/profile/Jun-Li-Li/publication/336146871/figure/fig1/AS:809032759668738@1569899849864/The-3-3-magic-square-In-classical-magic-square-the-row-column-and-diagonal-all-sum_W640.jpg\" alt=\"Magic square example\" style=\"width:30%\">\n",
    "  <figcaption>Source: https://www.researchgate.net/publication/336146871_Characterizing_the_Quantum_Non-locality_by_the_Mathematics_of_Magic_Square</figcaption>\n",
    "</figure>"
   ]
  },
  {
   "cell_type": "code",
   "execution_count": null,
   "id": "dfd99978",
   "metadata": {},
   "outputs": [],
   "source": [
    "import numpy as np\n",
    "\n",
    "def is_magic(matrix):\n",
    "    # check if matrix is nxn\n",
    "    dim = matrix.shape\n",
    "    if len(dim)!=2 or dim[0] != dim[1]: \n",
    "        return False\n",
    "    N = dim[0]        \n",
    "    \n",
    "    # calculate the sum of the prime diagonal \n",
    "    s = 0\n",
    "    for i in range(0, N): \n",
    "        s = s + matrix[i][i]      \n",
    "        \n",
    "    # calculate the sum of the other diagonal\n",
    "    s2 = 0\n",
    "    for i in range(0,N):\n",
    "        s2 = s2 + matrix[i][N-i-1]\n",
    "        \n",
    "    if (s != s2): \n",
    "        return False\n",
    "    \n",
    "    # For sums of Rows\n",
    "    for i in range(0, N):\n",
    "        rowSum = 0    \n",
    "        for j in range(0, N): \n",
    "            rowSum += matrix[i][j]   \n",
    "            \n",
    "        # check if every row sum is equal to prime diagonal sum \n",
    "        if (rowSum != s): \n",
    "            return False\n",
    "        \n",
    "    # For sums of Columns \n",
    "    for i in range(0, N): \n",
    "        colSum = 0\n",
    "        for j in range(0, N): \n",
    "            colSum += matrix[j][i]   \n",
    "            \n",
    "        # check if every column sum is equal to prime diagonal sum\n",
    "        if (s != colSum):\n",
    "            return False\n",
    "        \n",
    "    # if all yes, return true\n",
    "    return True\n",
    "\n",
    "# test program:\n",
    "A = np.array([[4,9,2],\n",
    "             [3,5,7],\n",
    "             [8,1,6]])\n",
    "B = np.array([[3,9,2],\n",
    "              [4,5,7],\n",
    "              [8,1,6]])\n",
    "\n",
    "print(\"Is A magic?\", is_magic(A))\n",
    "print(\"Is B magic?\", is_magic(B))"
   ]
  },
  {
   "cell_type": "markdown",
   "id": "d2fe10b6",
   "metadata": {},
   "source": [
    "## Exercises\n",
    "\n",
    "### 0. Simple manipulations (★★☆☆☆)\n",
    "\n",
    "Let's warm up with some simple matrix operations:\n",
    "\n",
    "1. Using the two vectors `v_1` and `v_2` at the beginning of this notebook, create a matrix `m` whose rows are `v_1` and `v_2`. Expected output:\n",
    "\n",
    "`[[ 0.5  3.   2.5]\n",
    " [-1.   3.5  2. ]]`\n",
    "\n",
    "2. Print the average position of all flies in the room (i.e., the average of `v_1` and `v_2`). Do it directly on `m`. Expected output:\n",
    "\n",
    "`[-0.25  3.25  2.25]`\n",
    "\n",
    "3. Print the distance between the two flies (you may use `m` or `v_1` and `v_2`). Expected output:\n",
    "\n",
    "`1.6583123951777`\n",
    "\n",
    "### 1. What is the best “muscle food” on the McDonald’s menu? (★★★★☆)\n",
    "This exercise is a variation of one that Dr. Adrien Melquiond (Utrecht Bioinformatics Center) developed in the scope of another Python course. It uses the Pandas and NumPy libraries to analyze the dataset in the file `mcdonalds_menu.csv`, which provides a nutrition analysis of every menu item on the US McDonald's menu (including breakfast, beef burgers, chicken and fish sandwiches, fries, salads, soda, coffee and tea, milkshakes, and desserts). These data have been scraped from the McDonald's website. The assignment is basically about exploring how much fat and other nutrients contained in McDonald’s food. \n",
    "\n",
    "Write a program that reads the content of the file into a data frame, displays simple descriptive statistics about the numerical values in the data frame, and then answers the following question. \n",
    "\n",
    "Let's assume we want to get a lot of proteins but as little sugar as possible. Identify the top three items based on their protein/sugars ratio.\n",
    "\n",
    "*Hint*: use the NumPy function `where`.\n",
    "\n",
    "The output should look something like:\n",
    "\n",
    "![](img/mcdo_q5.png)"
   ]
  },
  {
   "cell_type": "code",
   "execution_count": null,
   "id": "c4715e4a-e872-4b9b-a5d1-7aa92d2fbeb0",
   "metadata": {},
   "outputs": [],
   "source": []
  },
  {
   "cell_type": "code",
   "execution_count": null,
   "id": "86a26a68-a50c-4d21-addf-3e49cafe9212",
   "metadata": {},
   "outputs": [],
   "source": []
  }
 ],
 "metadata": {
  "kernelspec": {
   "display_name": "Python 3 (ipykernel)",
   "language": "python",
   "name": "python3"
  },
  "language_info": {
   "codemirror_mode": {
    "name": "ipython",
    "version": 3
   },
   "file_extension": ".py",
   "mimetype": "text/x-python",
   "name": "python",
   "nbconvert_exporter": "python",
   "pygments_lexer": "ipython3",
   "version": "3.12.3"
  }
 },
 "nbformat": 4,
 "nbformat_minor": 5
}
