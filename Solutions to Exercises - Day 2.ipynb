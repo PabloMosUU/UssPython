{
 "cells": [
  {
   "cell_type": "markdown",
   "id": "13b45865",
   "metadata": {},
   "source": [
    "# Solutions to Exercises\n",
    "\n",
    "This notebook is based on Anna-Lena Lamprecht's CoTaPP repository (https://github.com/annalenalamprecht/CoTaPP). Some modifications were made."
   ]
  },
  {
   "cell_type": "markdown",
   "id": "e0ef513a",
   "metadata": {},
   "source": [
    "## Unit 2.1: Functions, Modules, Packages"
   ]
  },
  {
   "cell_type": "markdown",
   "id": "1d914738",
   "metadata": {},
   "source": [
    "### 1. Leap Years "
   ]
  },
  {
   "cell_type": "code",
   "execution_count": null,
   "id": "ba48611a",
   "metadata": {},
   "outputs": [],
   "source": [
    "# function that checks if the given year is a leap year\n",
    "def is_leap_year(year):\n",
    "    return year%4==0 and not year%100==0 or \\\n",
    "           year%4==0 and year%100==0 and year%400==0\n",
    "\n",
    "# test program\n",
    "tests = [1900, 1984, 1985, 2000, 2018]\n",
    "for test in tests:\n",
    "    if is_leap_year(test):\n",
    "        print(f\"{test} is a leap year\")\n",
    "    else:\n",
    "        print(f\"{test} is not a leap year\")"
   ]
  },
  {
   "cell_type": "markdown",
   "id": "1855c038",
   "metadata": {},
   "source": [
    "### 2. Calculator"
   ]
  },
  {
   "cell_type": "code",
   "execution_count": null,
   "id": "6625785a",
   "metadata": {},
   "outputs": [],
   "source": [
    "# This function adds two numbers \n",
    "def add(x, y):\n",
    "   return x + y\n",
    "\n",
    "# This function subtracts two numbers \n",
    "def subtract(x, y):\n",
    "   return x - y\n",
    "\n",
    "# This function multiplies two numbers\n",
    "def multiply(x, y):\n",
    "   return x * y\n",
    "\n",
    "# This function divides two numbers\n",
    "def divide(x, y):\n",
    "   return x / y\n",
    "\n",
    "# Display options\n",
    "print(\"Select operation.\")\n",
    "print(\"1.Add\")\n",
    "print(\"2.Subtract\")\n",
    "print(\"3.Multiply\")\n",
    "print(\"4.Divide\")\n",
    "\n",
    "# Take input from the user \n",
    "choice = input(\"Enter choice(1/2/3/4):\")\n",
    "num1 = int(input(\"Enter first number: \"))\n",
    "num2 = int(input(\"Enter second number: \"))\n",
    "\n",
    "if choice == '1':\n",
    "   print(f\"{num1} + {num2} = {add(num1,num2)}\")\n",
    "\n",
    "elif choice == '2':\n",
    "   print(f\"{num1} - {num2} = {subtract(num1,num2)}\")\n",
    "\n",
    "elif choice == '3':\n",
    "   print(f\"{num1} * {num2} = {multiply(num1,num2)}\")\n",
    "\n",
    "elif choice == '4':\n",
    "   print(f\"{num1} / {num2} = {divide(num1,num2)}\")\n",
    "\n",
    "else:\n",
    "   print(\"Invalid input\")"
   ]
  },
  {
   "cell_type": "markdown",
   "id": "9cc39033",
   "metadata": {},
   "source": [
    "### 3. Password Generator"
   ]
  },
  {
   "cell_type": "code",
   "execution_count": null,
   "id": "652eb74f",
   "metadata": {},
   "outputs": [],
   "source": [
    "# import the random package (needed to randomize the password)\n",
    "import random\n",
    "\n",
    "# function for creating a password of a given length\n",
    "def create_password(length):\n",
    "    # character set (string) that contains the letters and numbers allowed in our passwords\n",
    "    char_set = \"ABCDEFGHIJKLMNOPQRSTUVWXYZabcdefghijklmnopqrstuvwxyz0123456789\"\n",
    "    \n",
    "    # if the given length is too short, refuse to create (insecure) password\n",
    "    if length < 8:\n",
    "       print(\"Too short, please create longer password.\")\n",
    "       return None\n",
    "    # otherwise, create password as described\n",
    "    else:\n",
    "        # init empty password string\n",
    "        password = \"\"\n",
    "        # for requested number of characters ...\n",
    "        for i in range(0,length):\n",
    "            # ... add a random character from the character set\n",
    "            password += random.choice(char_set)\n",
    "        \n",
    "    # return created password        \n",
    "    return password\n",
    "\n",
    "# test program:\n",
    "print(create_password(4))\n",
    "print(create_password(8))\n",
    "print(create_password(12))\n",
    "print(create_password(16))"
   ]
  },
  {
   "cell_type": "markdown",
   "id": "8278699d",
   "metadata": {},
   "source": [
    "### 4. Basic Statistics"
   ]
  },
  {
   "cell_type": "code",
   "execution_count": null,
   "id": "111180b2",
   "metadata": {},
   "outputs": [],
   "source": [
    "# import the statistics package\n",
    "import statistics\n",
    "\n",
    "# Function that prints basic statistics for a sequence of numbers. Optionally,\n",
    "# the desired output can be specified (mean, median, sd, var). Default is to\n",
    "# to print all of them.\n",
    "def print_basic_statistics(*numbers, output=\"all\"):\n",
    "    if output == \"all\":\n",
    "        print(f\"The mean of {numbers} is {statistics.mean(numbers):.1f}.\")\n",
    "        print(f\"The median of {numbers} is {statistics.median(numbers):.1f}.\")\n",
    "        print(f\"The standard deviation of {numbers} is {statistics.stdev(numbers):.1f}.\")\n",
    "        print(f\"The variance of {numbers} is {statistics.variance(numbers):.1f}.\")\n",
    "    elif output == \"mean\":\n",
    "        print(f\"The mean of {numbers} is {statistics.mean(numbers):.1f}.\")\n",
    "    elif output == \"median\":\n",
    "        print(f\"The median of {numbers} is {statistics.median(numbers):.1f}.\")\n",
    "    elif output == \"sd\":\n",
    "        print(f\"The standard deviation of {numbers} is {statistics.stdev(numbers):.1f}.\")\n",
    "    elif output == \"var\":\n",
    "        print(f\"The variance of {numbers} is {statistics.variance(numbers):.1f}.\")\n",
    "    else:\n",
    "        print(\"Unknown parameter.\")\n",
    "\n",
    "\n",
    "# test program\n",
    "print_basic_statistics(91,82,19,13,44)\n",
    "print_basic_statistics(91,82,19,13,44,73,18,95,17,65, output=\"median\")"
   ]
  },
  {
   "cell_type": "markdown",
   "id": "69f05988",
   "metadata": {},
   "source": [
    "## Unit 2.2: Data Structures I"
   ]
  },
  {
   "cell_type": "markdown",
   "id": "a0d14514",
   "metadata": {},
   "source": [
    "### 1. Skip"
   ]
  },
  {
   "cell_type": "markdown",
   "id": "704e2088",
   "metadata": {},
   "source": [
    "### 2. String Reverse"
   ]
  },
  {
   "cell_type": "code",
   "execution_count": null,
   "id": "8d2b22b0",
   "metadata": {},
   "outputs": [],
   "source": [
    "# function for reversing a string recursively\n",
    "# (Idea: If the string consists only of one letter, the reverse is trivial.\n",
    "# If the string is longer, reverse the string from the second character to\n",
    "# the end, append the first character to that.)\n",
    "# NOTE: we did not cover recursion in this class, \n",
    "#       but I leave this solution here in case you are interested\n",
    "def reverse_recursive(string):\n",
    "    if len(string) > 1:\n",
    "        return reverse_recursive(string[1:len(string)]) + string[0]\n",
    "    else:\n",
    "        return string\n",
    "\n",
    "# function for reversing a string with a while-loop\n",
    "# (Idea: Iterate over the characters of the string with a while-loop, \n",
    "# in each iteration adding the current letter to the beginning of the \n",
    "# reversed string.)\n",
    "def reverse_while(string):\n",
    "    i = 0\n",
    "    reversed_string = \"\"\n",
    "    while i < len(string):\n",
    "        reversed_string = string[i] + reversed_string\n",
    "        i = i+1\n",
    "    return reversed_string\n",
    "\n",
    "# function for reversing a string with a for-loop\n",
    "# (Idea: Same as with the while-loop, but less index management needed.)\n",
    "def reverse_for(string):\n",
    "    reversed_string = \"\"\n",
    "    for s in string:\n",
    "        reversed_string = s + reversed_string\n",
    "    return reversed_string\n",
    "\n",
    "# test program\n",
    "string_to_reverse = \"This is just a test.\"\n",
    "print(reverse_recursive(string_to_reverse))\n",
    "print(reverse_while(string_to_reverse))\n",
    "print(reverse_for(string_to_reverse))\n",
    "\n",
    "print(reverse_recursive(string_to_reverse) == reverse_while(string_to_reverse) == reverse_for(string_to_reverse))"
   ]
  },
  {
   "cell_type": "markdown",
   "id": "77969d7c",
   "metadata": {},
   "source": [
    "### 3. Irish League"
   ]
  },
  {
   "cell_type": "code",
   "execution_count": null,
   "id": "58ca7b33",
   "metadata": {},
   "outputs": [],
   "source": [
    "# list containing teams and match dates\n",
    "teams = [\"Connacht\", \"Ulster\", \"Munster\", \"Leinster\"] \n",
    "dates = [\"June 1\", \"June 2\", \"June 3\", \"June 4\", \"June 5\", \"June 6\", \\\n",
    "         \"June 7\", \"June 8\", \"June 9\", \"June 10\", \"June 11\", \"June 12\"]\n",
    "\n",
    "# print all match pairings and dates\n",
    "i = 0\n",
    "for home in teams: \n",
    "    for guest in teams: \n",
    "        if home != guest: \n",
    "            print(f\"{home} : {guest} ({dates[i]})\")\n",
    "            i += 1"
   ]
  },
  {
   "cell_type": "markdown",
   "id": "f7275db9",
   "metadata": {},
   "source": [
    "### 4. List of Fibonacci Numbers"
   ]
  },
  {
   "cell_type": "code",
   "execution_count": null,
   "id": "8ebf2bb2",
   "metadata": {},
   "outputs": [],
   "source": [
    "# function that writes the first n fibonacci numbers into a list\n",
    "def fib(n):\n",
    "    if n == 0:\n",
    "        return [1]\n",
    "    elif n == 1:\n",
    "        return [1,1]\n",
    "    elif n > 1:\n",
    "        numbers = [1,1]\n",
    "        next_index = 2\n",
    "        while next_index <= n:\n",
    "            numbers.append(numbers[next_index-1]+numbers[next_index-2])\n",
    "            next_index = next_index + 1\n",
    "        return numbers\n",
    "    else:\n",
    "        print(f\"Cannot compute Fibonacci number for {n}.\")\n",
    "        return None\n",
    "\n",
    "# test program\n",
    "print(fib(0))\n",
    "print(fib(1))\n",
    "print(fib(2))\n",
    "print(fib(12))\n",
    "print(fib(-1))"
   ]
  },
  {
   "cell_type": "markdown",
   "id": "d89ace0f",
   "metadata": {},
   "source": [
    "### 5. List versus tuple"
   ]
  },
  {
   "cell_type": "code",
   "execution_count": null,
   "id": "f272b883",
   "metadata": {},
   "outputs": [],
   "source": [
    "def modify_elements(sequence):\n",
    "    if isinstance(sequence, list):\n",
    "        for i in range(len(sequence)):\n",
    "            sequence[i] *= 2\n",
    "    else:\n",
    "        print(\"Cannot modify elements of a tuple.\")"
   ]
  },
  {
   "cell_type": "markdown",
   "id": "12f45d8f",
   "metadata": {},
   "source": [
    "The ```modify_elements``` function first checks if the input sequence is a list using the ```isinstance``` function. If it's a list, it loops through the elements and multiplies them by 2 to modify them in-place. If the input sequence is a tuple, it prints a message indicating that elements of a tuple cannot be modified.\n",
    "\n",
    "You can now test the function with different input sequences, such as lists and tuples, to observe the difference in behavior."
   ]
  },
  {
   "cell_type": "markdown",
   "id": "31717ebf",
   "metadata": {},
   "source": [
    "### 6. Extract Even Numbers"
   ]
  },
  {
   "cell_type": "code",
   "execution_count": null,
   "id": "87066a84",
   "metadata": {},
   "outputs": [],
   "source": [
    "def extract_even(numbers):\n",
    "    return [num for num in numbers if num % 2 == 0]"
   ]
  },
  {
   "cell_type": "markdown",
   "id": "612bfb4f",
   "metadata": {},
   "source": [
    "## Unit 2.3: Data Structures II"
   ]
  },
  {
   "cell_type": "markdown",
   "id": "4853ccf8",
   "metadata": {},
   "source": [
    "### 1. Small programs"
   ]
  },
  {
   "cell_type": "code",
   "execution_count": null,
   "id": "44e2b45d",
   "metadata": {},
   "outputs": [],
   "source": [
    "def reverse_tuple(t):\n",
    "    reversed = []\n",
    "    for i in range(len(t)):\n",
    "        reversed.append(t[len(t) - i - 1])\n",
    "    return tuple(reversed)\n",
    "\n",
    "def all_items_same(t):\n",
    "    if len(t) < 2:\n",
    "        return True\n",
    "    for el in t[1:]:\n",
    "        if el != t[0]:\n",
    "            return False\n",
    "    return True\n",
    "\n",
    "def lists_to_dictionary(keys, values):\n",
    "    my_dict = {}\n",
    "    for i in range(len(keys)):\n",
    "        my_dict[keys[i]] = values[i]\n",
    "    return my_dict\n",
    "\n",
    "def is_subset(set1, set2):\n",
    "    for el in set1:\n",
    "        if el not in set2:\n",
    "            return False\n",
    "    return True\n",
    "\n",
    "print(\"1. Reverse a tuple:\")\n",
    "print(reverse_tuple((1, 2, 3)))\n",
    "print()\n",
    "print(\"2. Check if all items in a tuple are the same:\")\n",
    "print(all_items_same((1, 2, 3)))\n",
    "print(all_items_same((2, 2)))\n",
    "print()\n",
    "print(\"3. Convert two lists into a dictionary:\")\n",
    "keys = ['Ten', 'Twenty', 'Thirty']\n",
    "values = [10, 20, 30]\n",
    "print(lists_to_dictionary(keys, values))\n",
    "print()\n",
    "print(\"4. Check whether a set is a subset of another set:\")\n",
    "set1 = {1, 2, 3}\n",
    "set2 = {1, 2, 3, 4, 5}\n",
    "print(is_subset(set1, set2))  # Output: True\n",
    "set3 = {4, 5, 6}\n",
    "print(is_subset(set1, set3))  # Output: False"
   ]
  },
  {
   "cell_type": "markdown",
   "id": "d6d5277d",
   "metadata": {},
   "source": [
    "### 2. Anagram Test"
   ]
  },
  {
   "cell_type": "code",
   "execution_count": null,
   "id": "36857780",
   "metadata": {},
   "outputs": [],
   "source": [
    "# Function to test if two words are anagrams.\n",
    "# Basic idea: count the number of occurrences of each\n",
    "# letter in two dictionaries, then compare if they are the same.\n",
    "def is_anagram(word1,word2):\n",
    "    counts1 = {}\n",
    "    for w in word1.lower():\n",
    "        if w in counts1:\n",
    "            counts1[w] += 1\n",
    "        else:\n",
    "            counts1[w] = 1\n",
    "\n",
    "    counts2 = {}\n",
    "    for w in word2.lower():\n",
    "        if w in counts2:\n",
    "            counts2[w] += 1\n",
    "        else:\n",
    "            counts2[w] = 1\n",
    "\n",
    "    return counts1 == counts2\n",
    "\n",
    "# Test program\n",
    "print(is_anagram(\"rescue\", \"secure\")) # should be True\n",
    "print(is_anagram(\"Rescue\", \"Secure\")) # should be True\n",
    "print(is_anagram(\"Rescue\", \"Anchor\")) # should be False\n",
    "print(is_anagram(\"Ship\", \"Secure\")) # should be False"
   ]
  },
  {
   "cell_type": "markdown",
   "id": "5d63f5ec",
   "metadata": {},
   "source": [
    " An alternative solution would be to simply sort the strings and compare if they are equal then. "
   ]
  },
  {
   "cell_type": "markdown",
   "id": "d960e637",
   "metadata": {},
   "source": [
    "### 3. Room Occupancy"
   ]
  },
  {
   "cell_type": "code",
   "execution_count": null,
   "id": "c21bd877",
   "metadata": {},
   "outputs": [],
   "source": [
    "# function that prints the given room occupancy\n",
    "def print_occupancy(ro):\n",
    "    rooms = list(ro.keys())\n",
    "    rooms.sort()\n",
    "    for room in rooms:\n",
    "        print(f\"{room}: {ro[room]}\")\n",
    "\n",
    "# function for checking in a guest to a room\n",
    "def check_in(ro, guest, room):\n",
    "    if room in ro:\n",
    "        if len(ro[room]) < 4:\n",
    "            ro[room].append(guest)\n",
    "        else:\n",
    "            print(f\"Room {room} is already full.\")\n",
    "    else:\n",
    "        print(\"Room {room} does not exist.\")\n",
    "\n",
    "# function for checking out a guest from a room\n",
    "def check_out(ro, guest, room):\n",
    "    if room in ro:\n",
    "        if guest in ro[room]:\n",
    "            ro[room].remove(guest)\n",
    "        else:\n",
    "            print(f\"{guest} is not a guest in room {room}.\")\n",
    "    else:\n",
    "        print(\"Room {room} does not exist.\")\n",
    "\n",
    "\n",
    "# Main program\n",
    "room_occupancy = {101:[], 102:[], 201:[], 202:[]}\n",
    "\n",
    "while True:\n",
    "    print(\"These are your options:\")\n",
    "    print(\"1 - View current room occupancy.\")\n",
    "    print(\"2 - Check guest in.\")\n",
    "    print(\"3 - Check guest out.\")\n",
    "    print(\"4 - Exit program.\")\n",
    "    choice = input(\"Please choose what you want to do: \")\n",
    "\n",
    "    if choice == \"1\":\n",
    "        print_occupancy(room_occupancy)\n",
    "    elif choice == \"2\":\n",
    "        guest = input(\"Enter name of guest: \")\n",
    "        room = int(input(\"Enter room number: \"))\n",
    "        check_in(room_occupancy, guest, room)\n",
    "    elif choice == \"3\":\n",
    "        guest = input(\"Enter name of guest: \")\n",
    "        room = int(input(\"Enter room number: \"))\n",
    "        check_out(room_occupancy, guest, room)\n",
    "    elif choice == \"4\":\n",
    "        print(\"Goodbye!\")\n",
    "        break\n",
    "    else:\n",
    "        print(\"Invalid input, try again.\")"
   ]
  }
 ],
 "metadata": {
  "kernelspec": {
   "display_name": "Python 3 (ipykernel)",
   "language": "python",
   "name": "python3"
  },
  "language_info": {
   "codemirror_mode": {
    "name": "ipython",
    "version": 3
   },
   "file_extension": ".py",
   "mimetype": "text/x-python",
   "name": "python",
   "nbconvert_exporter": "python",
   "pygments_lexer": "ipython3",
   "version": "3.8.12"
  }
 },
 "nbformat": 4,
 "nbformat_minor": 5
}
