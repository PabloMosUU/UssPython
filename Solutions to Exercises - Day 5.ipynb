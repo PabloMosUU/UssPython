{
 "cells": [
  {
   "cell_type": "markdown",
   "id": "89119a83",
   "metadata": {},
   "source": [
    "# Solutions to Exercises\n",
    "\n",
    "This notebook is based on Anna-Lena Lamprecht's CoTaPP repository (https://github.com/annalenalamprecht/CoTaPP). Some modifications were made."
   ]
  },
  {
   "cell_type": "markdown",
   "id": "fb4e9f41-06b9-42ab-a81a-92e1fb0c795c",
   "metadata": {},
   "source": [
    "## Unit 5.1: Error Handling"
   ]
  },
  {
   "cell_type": "markdown",
   "id": "cc7d99a7-1bcb-40e6-8d9c-7ddffae2dc7d",
   "metadata": {},
   "source": [
    "### Challenge"
   ]
  },
  {
   "cell_type": "code",
   "execution_count": null,
   "id": "f08bb6c5-427e-4fd3-aa4d-f75fefe6fda8",
   "metadata": {},
   "outputs": [],
   "source": [
    "import csv\n",
    "\n",
    "def print_selected_municipalities():\n",
    "    with open(\"data/dutch_municipalities.csv\", \"r\") as csvfile:\n",
    "        csvreader = csv.DictReader(csvfile, delimiter='\\t')\n",
    "        for row in csvreader:\n",
    "            try: \n",
    "                if int(row[\"avg_household_income_2012\"]) > 40000:\n",
    "                    print(f'{row[\"municipality\"]}: {row[\"province\"]}')\n",
    "            except ValueError:\n",
    "                print(f'No INCOME for --> {row[\"municipality\"]}: {row[\"province\"]}')"
   ]
  },
  {
   "cell_type": "code",
   "execution_count": null,
   "id": "73496d54-91bd-426a-b888-8bb212d31dce",
   "metadata": {},
   "outputs": [],
   "source": [
    "print_selected_municipalities()"
   ]
  },
  {
   "cell_type": "markdown",
   "id": "6bbf30c6",
   "metadata": {},
   "source": [
    "### 1. Interview Anonymization"
   ]
  },
  {
   "cell_type": "code",
   "execution_count": null,
   "id": "738e4a51",
   "metadata": {},
   "outputs": [],
   "source": [
    "interview_file = \"data/interview-with-a-syrian-refugee.txt\"\n",
    "new_file = \"data/interview-with-a-syrian-refugee-anonymized.txt\"\n",
    "\n",
    "try:\n",
    "    # read original interview text from file\n",
    "    with open(interview_file, \"r\") as file:\n",
    "        text = file.read()\n",
    "\n",
    "    # write obfuscated interview text to file\n",
    "    with open(new_file, \"w\") as file:\n",
    "        file.write(text.replace(\"Samira\",\"Amal\"))\n",
    "\n",
    "# if interview file is not found, inform user accordingly\n",
    "except FileNotFoundError:\n",
    "    print(f\"File {interview_file} not found.\")\n",
    "\n",
    "# for any other error, display the exception message\n",
    "except Exception as err:\n",
    "    print(\"Something went wrong...\")\n",
    "    print(err)"
   ]
  },
  {
   "cell_type": "markdown",
   "id": "48a08b89",
   "metadata": {},
   "source": [
    "### 2. Randomized Story-Telling"
   ]
  },
  {
   "cell_type": "code",
   "execution_count": null,
   "id": "679ef43b",
   "metadata": {},
   "outputs": [],
   "source": [
    "import pandas as pd\n",
    "import sys\n",
    "import random\n",
    "\n",
    "# set path to input file\n",
    "infile = \"data/inputs.csv\"\n",
    "\n",
    "try:\n",
    "    # read input file as dataframe\n",
    "    df_in = pd.read_csv(infile, sep=\",\")\n",
    "\n",
    "# for any error, display the exception message\n",
    "except Exception as err:\n",
    "    print(\"Something went wrong...\")\n",
    "    print(err) \n",
    "    sys.exit()\n",
    "\n",
    "\n",
    "# ask user how many sentences should be created\n",
    "while True:\n",
    "    try:\n",
    "        number = int(input(\"How many sentences do you want to create? \"))\n",
    "        break\n",
    "    except ValueError:\n",
    "        print(\"That was no valid number. Try again.\") \n",
    "    \n",
    "# create the desired number of sentences\n",
    "while number > 0:\n",
    "\n",
    "    # select a random value for each of the four sentence elements\n",
    "    who = df_in.loc[random.randint(0,df_in[\"who\"].size-1),\"who\"]\n",
    "    does_what = df_in.loc[random.randint(0,df_in[\"does what\"].size-1),\"does what\"]\n",
    "    how = df_in.loc[random.randint(0,df_in[\"how\"].size-1),\"how\"]\n",
    "    where = df_in.loc[random.randint(0,df_in[\"where\"].size-1),\"where\"]\n",
    "    \n",
    "    print(f\"{who} {does_what} {how} {where}.\")\n",
    "\n",
    "    number -= 1"
   ]
  },
  {
   "cell_type": "markdown",
   "id": "b4f7741f",
   "metadata": {},
   "source": [
    "### 3. Population and Universities per Province"
   ]
  },
  {
   "cell_type": "code",
   "execution_count": null,
   "id": "dd6ae115",
   "metadata": {},
   "outputs": [],
   "source": [
    "import pandas as pd\n",
    "import sys\n",
    "\n",
    "# set paths to input and output file\n",
    "infile = \"data/dutch_municipalities.csv\"\n",
    "outfile = \"data/dutch_provinces.csv\"\n",
    "\n",
    "\n",
    "try:\n",
    "    # read input file as dataframe\n",
    "    df_in = pd.read_csv(infile, sep=\"\\t\")\n",
    "\n",
    "# for any error, display the exception message\n",
    "except Exception as err:\n",
    "    print(\"Something went wrong...\")\n",
    "    print(err) \n",
    "    sys.exit()\n",
    "\n",
    "# init new empty dataframe with the wanted columns\n",
    "df_out = pd.DataFrame(columns=[\"province\", \"population\", \"universities\"])\n",
    "\n",
    "# get province names (as sorted set)\n",
    "provinces = sorted(set(df_in[\"province\"]))\n",
    "\n",
    "# for all provinces ...\n",
    "for province in provinces:\n",
    "    # get the part of the dataframe for the province\n",
    "    df_province = df_in[df_in[\"province\"]==province]\n",
    "    \n",
    "    # sum up universities and population and add to new data frame\n",
    "    df_out = df_out.append({\"province\":province,\\\n",
    "                            \"population\":df_province[\"population\"].sum(),\\\n",
    "                            \"universities\":df_province[\"university\"].sum()},\\\n",
    "                            ignore_index=True)\n",
    "  \n",
    "try:\n",
    "    # save new dataframe as csv file\n",
    "    df_out.to_csv(outfile, index=False)\n",
    "\n",
    "# for any error, display the exception message\n",
    "except Exception as err:\n",
    "    print(\"Something went wrong...\")\n",
    "    print(err) \n",
    "    sys.exit()\n",
    "    \n",
    "\n",
    "# Another possible, but longer solution is with the csv package and \n",
    "# dictionaries, as shown below (without try/except error handling).\n",
    "#\n",
    "# import csv\n",
    "#\n",
    "## create two empty dictionaries to collect the aggregated data\n",
    "#universities_per_province = {}\n",
    "#population_per_province = {}\n",
    "#\n",
    "## read in the data and iterate over all rows, adding up\n",
    "## population and university numbers per province\n",
    "#with open(\"dutch_municipalities.csv\", \"r\") as csvfile:\n",
    "#    csvreader = csv.DictReader(csvfile, delimiter='\\t')\n",
    "#    for row in csvreader:\n",
    "#        if row[\"province\"] not in universities_per_province:\n",
    "#            universities_per_province[row[\"province\"]] = int(row[\"university\"])"
   ]
  }
 ],
 "metadata": {
  "kernelspec": {
   "display_name": "Python 3 (ipykernel)",
   "language": "python",
   "name": "python3"
  },
  "language_info": {
   "codemirror_mode": {
    "name": "ipython",
    "version": 3
   },
   "file_extension": ".py",
   "mimetype": "text/x-python",
   "name": "python",
   "nbconvert_exporter": "python",
   "pygments_lexer": "ipython3",
   "version": "3.12.3"
  }
 },
 "nbformat": 4,
 "nbformat_minor": 5
}
