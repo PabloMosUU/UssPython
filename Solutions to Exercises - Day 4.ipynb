{
 "cells": [
  {
   "cell_type": "markdown",
   "id": "89119a83",
   "metadata": {},
   "source": [
    "# Solutions to Exercises"
   ]
  },
  {
   "cell_type": "markdown",
   "id": "cf4e28bc",
   "metadata": {},
   "source": [
    "## Unit 4.1: Data visualization with matplotlib\n",
    "\n",
    "### Challenge"
   ]
  },
  {
   "cell_type": "code",
   "execution_count": null,
   "id": "5851a0e8-361c-44a1-b813-732e08323f29",
   "metadata": {},
   "outputs": [],
   "source": [
    "import matplotlib.pyplot as plt\n",
    "import pandas as pd\n",
    "\n",
    "df = pd.read_csv(\"data/dutch_municipalities.csv\", sep=';')\n",
    "\n",
    "plt.hist(df[df['population'] >= 20000][\"population\"], bins=50)\n",
    "plt.title(\"Size of Municipalities\")\n",
    "plt.xlabel(\"inhabitants\")\n",
    "plt.ylabel(\"# municipalities\")\n",
    "plt.show()\n",
    "\n",
    "plt.hist(df[\"population\"], bins=50)\n",
    "plt.title(\"Size of Municipalities\")\n",
    "plt.xlabel(\"inhabitants\")\n",
    "plt.ylabel(\"# municipalities\")\n",
    "plt.xlim(20000) # BEWARE: it doesn't change the distribution\n",
    "plt.show()\n",
    "\n",
    "plt.hist(df[\"population\"], bins=50, range=(20000, 1000000)) # DOWNSIDE: you need to explicitly set the upper end of the domain\n",
    "plt.title(\"Size of Municipalities\")\n",
    "plt.xlabel(\"inhabitants\")\n",
    "plt.ylabel(\"# municipalities\")\n",
    "plt.show()"
   ]
  },
  {
   "cell_type": "markdown",
   "id": "36139d74-dfc1-47d0-b40f-c6aecf75e186",
   "metadata": {},
   "source": [
    "### Question 0"
   ]
  },
  {
   "cell_type": "code",
   "execution_count": null,
   "id": "8eab1d40-ffd1-4f71-98bd-470ea7026009",
   "metadata": {},
   "outputs": [],
   "source": [
    "import pandas as pd\n",
    "import matplotlib.pyplot as plt\n",
    "\n",
    "# import menu and display the first two rows of the dataframe\n",
    "menu = pd.read_csv(\"data/mcdonalds_menu.csv\", sep=';')\n",
    "\n",
    "# determine number of items and create barplot\n",
    "print(\"Question 0:\")\n",
    "print(\"Distribution of the calories:\")\n",
    "plt.hist(menu['Calories'])\n",
    "plt.xlabel('Calories')\n",
    "plt.ylabel('Items')\n",
    "plt.show()"
   ]
  },
  {
   "cell_type": "markdown",
   "id": "c108ba07",
   "metadata": {},
   "source": [
    "### Question 1"
   ]
  },
  {
   "cell_type": "code",
   "execution_count": null,
   "id": "10e15332",
   "metadata": {},
   "outputs": [],
   "source": [
    "import pandas as pd\n",
    "import matplotlib.pyplot as plt\n",
    "\n",
    "# import menu and display the first two rows of the dataframe\n",
    "menu = pd.read_csv(\"data/mcdonalds_menu.csv\", sep=';')\n",
    "print(menu.head(5))\n",
    "\n",
    "# display simple statistics about the data frame\n",
    "print(menu.describe())\n",
    "\n",
    "# determine number of items and create barplot\n",
    "print(\"Question 1:\")\n",
    "print(\"Total number of items:\", len(menu.Item.unique()))\n",
    "menu.groupby('Category')['Item'].count().plot(kind='bar')\n",
    "plt.show()"
   ]
  },
  {
   "cell_type": "code",
   "execution_count": null,
   "id": "6aa04435-5820-4e56-8e45-6eaa3da853ff",
   "metadata": {},
   "outputs": [],
   "source": [
    "# Barplot using matplotlib\n",
    "items_per_category = menu.groupby('Category')['Item'].count()\n",
    "df = items_per_category.reset_index()\n",
    "x = df['Category']\n",
    "y = df['Item']\n",
    "plt.bar(x, y)\n",
    "plt.xticks(rotation=90)\n",
    "plt.ylabel('Items')\n",
    "plt.show()"
   ]
  },
  {
   "cell_type": "markdown",
   "id": "48223469",
   "metadata": {},
   "source": [
    "### Question 2"
   ]
  },
  {
   "cell_type": "code",
   "execution_count": null,
   "id": "726cb957",
   "metadata": {},
   "outputs": [],
   "source": [
    "# analysis fat per category\n",
    "print(\"Question 2:\")\n",
    "menu.boxplot(column=['Total Fat (% Daily Value)'], by=['Category'], rot=90)\n",
    "plt.show()\n",
    "\n",
    "\"\"\"\n",
    "That created a boxplot using Pandas. To do it using matplotlib:\n",
    "categories = []\n",
    "values = []\n",
    "for lbl, grp in menu.groupby('Category'):\n",
    "    categories.append(lbl)\n",
    "    values.append(grp['Total Fat (% Daily Value)'].tolist())\n",
    "plt.boxplot(values, tick_labels = categories)\n",
    "plt.xticks(rotation=90)\n",
    "plt.show()\n",
    "\"\"\"\n",
    "\n",
    "grp_by_category = menu[['Category', 'Total Fat (% Daily Value)','Trans Fat','Saturated Fat (% Daily Value)', 'Cholesterol (% Daily Value)' ]].groupby(['Category']).max() #extracting the wanted columns, grouping by categories and calculating the max\n",
    "grp_by_category.reset_index(inplace=True) #resetting the index (otherwise category is the new index and it messes up with merge)\n",
    "grp_by_category.columns=['Category', 'Max_Fat', 'Max_Trans_Fat', 'Max_Sat_Fat', 'Max_Cholestrol'] #renaming the columns\n",
    "print(grp_by_category) #displaying the new dataframe\n",
    "\n",
    "df = menu.merge(grp_by_category) #merging the two dataframes by the only common column (\"Category\")\n",
    "mask = df['Total Fat (% Daily Value)'] == df.Max_Fat #creating the mask that will be used for the selection\n",
    "fatty_menu = df.loc[mask, ['Category','Item','Total Fat (% Daily Value)','Cholesterol (% Daily Value)']] #selection the items that correspond to the max of total fat (%daily value) per category\n",
    "print(fatty_menu) #displaying the dataframe\n",
    "\n",
    "trans_menu = df.loc[(df['Trans Fat'] == df.Max_Trans_Fat) & (df['Trans Fat']>0)][['Category','Item','Total Fat (% Daily Value)','Trans Fat','Saturated Fat (% Daily Value)','Cholesterol (% Daily Value)']] #creating a new filter\n",
    "print(trans_menu.sort_values(by='Trans Fat',ascending=False)) #displaying the dataframe sorted by Trans Fat (decreasing order)\n"
   ]
  },
  {
   "cell_type": "markdown",
   "id": "0caf03c4",
   "metadata": {},
   "source": [
    "### Question 3"
   ]
  },
  {
   "cell_type": "code",
   "execution_count": null,
   "id": "ec803ce4",
   "metadata": {},
   "outputs": [],
   "source": [
    "# top 10 vitamin C\n",
    "print(\"Question 3:\")\n",
    "pd.pivot_table(menu, index=['Item'], values=['Vitamin C (% Daily Value)']).sort_values(['Vitamin C (% Daily Value)'], ascending=False)[:10].plot(kind=\"bar\")\n",
    "plt.show()"
   ]
  },
  {
   "cell_type": "markdown",
   "id": "f7acca9e",
   "metadata": {},
   "source": [
    "### Question 4"
   ]
  },
  {
   "cell_type": "code",
   "execution_count": null,
   "id": "da744cb8",
   "metadata": {},
   "outputs": [],
   "source": [
    "# nutrition feature comparison\n",
    "print(\"Question 4:\")\n",
    "selection = menu.loc[:,['Calories', 'Total Fat', 'Saturated Fat', 'Cholesterol', 'Sodium', 'Carbohydrates', 'Sugars', 'Protein']]\n",
    "pd.plotting.scatter_matrix(selection, diagonal='kde', figsize=(12,12), grid=True)\n",
    "plt.show()"
   ]
  },
  {
   "cell_type": "markdown",
   "id": "5c9984b1-9637-42f0-92af-6bd5aa631d43",
   "metadata": {},
   "source": [
    "## Unit 4.2: Working with date and time\n",
    "\n",
    "### Date manipulations challenge"
   ]
  },
  {
   "cell_type": "code",
   "execution_count": null,
   "id": "bfe7373b-9de1-4e6e-93ea-b4c297691071",
   "metadata": {},
   "outputs": [],
   "source": [
    "from datetime import date\n",
    "\n",
    "# 1. How do we create a `date` object using a string? I.e., how do we create the date object that corresponds to '1785-01-07'?\n",
    "\n",
    "# Failed attempt 1: setting a variable of a date object is not allowed\n",
    "# my_date = date.today()\n",
    "# my_date.year = 1785\n",
    "# my_date.month = 1\n",
    "# my_date.day = 7\n",
    "\n",
    "# Successful attempt 2: but this is not reading from a string!\n",
    "print('By hand:', date(year=1785, month=1, day=7))\n",
    "\n",
    "# Successful attempt 3: parsing the string\n",
    "date_string =  '1785-01-07'\n",
    "parts = date_string.split('-')\n",
    "parts = [int(part) for part in parts]\n",
    "print('With string parsing:', date(year=parts[0], month=parts[1], day=parts[2]))\n",
    "\n",
    "# Successful attempt 4: using the datetime functionalities\n",
    "print('With date.fromisoformat:', date.fromisoformat(date_string))\n",
    "\n",
    "# Successful attempt 5: not relying on ISO format\n",
    "from datetime import datetime\n",
    "date_string = '7 January 1785'\n",
    "print('With datetime.strptime:', datetime.strptime(date_string, '%d %B %Y').date())\n",
    "\n",
    "# 2. How do I create a `date` object that is exactly like an existing `date` object, \n",
    "# but with a different month? For example, \n",
    "# let's say you have `date(1785,1,7)` and you want to get a new object with the same date \n",
    "# but for the current year?\n",
    "\n",
    "old_date = date(1785,1,7)\n",
    "\n",
    "# Failed attempt 1: setting a variable of a date object is not allowed\n",
    "# old_date.year = 2025\n",
    "\n",
    "# Successful attempt 2: but this requires typing the current year, and it's long to type\n",
    "new_date = date(year=2025, month=old_date.month, day=old_date.day)\n",
    "print('With date constructor:', new_date)\n",
    "\n",
    "# Successful attempt 3: no more magic numbers, but still too much typing\n",
    "this_year = date.today().year\n",
    "new_date = date(year=this_year, month=old_date.month, day=old_date.day)\n",
    "print('With date constructor and no magic numbers:', new_date)\n",
    "\n",
    "# Successful attempt 4: with datetime functionalities\n",
    "new_date = old_date.replace(year=date.today().year)\n",
    "print('With datetime functionalities:', new_date)\n",
    "# NOTE THAT THIS DOES NOT MODIFY old_date\n",
    "\n",
    "# 3. What day of the week were you born?\n",
    "\n",
    "print('I was born on a', date.strftime(date(1985, 5, 14), format='%A'))"
   ]
  },
  {
   "cell_type": "markdown",
   "id": "2eab15c8-b4af-4567-8d92-e240f0455801",
   "metadata": {},
   "source": [
    "### Grant winners challenge"
   ]
  },
  {
   "cell_type": "code",
   "execution_count": null,
   "id": "e4c2a631-45bd-4766-bf75-6cbdb9979bf1",
   "metadata": {},
   "outputs": [],
   "source": [
    "import pandas as pd\n",
    "from datetime import date\n",
    "\n",
    "# Option 1: with Pandas\n",
    "df = pd.read_csv('data/grant_winners.csv', sep=';', parse_dates=['Award date'])\n",
    "print(type(df.loc[0, 'Award date']))\n",
    "\n",
    "# Option 2: with datetime\n",
    "df = pd.read_csv('data/grant_winners.csv', sep=';')\n",
    "df['Award date'] = df['Award date'].apply(date.fromisoformat)\n",
    "print(type(df.loc[0, 'Award date']))"
   ]
  },
  {
   "cell_type": "markdown",
   "id": "a9ca4360-3e73-4c74-b772-07ff8fb0d915",
   "metadata": {},
   "source": [
    "### Question 1"
   ]
  },
  {
   "cell_type": "code",
   "execution_count": null,
   "id": "660c86cf-a244-4b1d-a74d-1bf0051601c8",
   "metadata": {},
   "outputs": [],
   "source": [
    "from datetime import datetime\n",
    "\n",
    "given_date = datetime(2020, 2, 25)\n",
    "print(\"Given date is\")\n",
    "print(given_date.strftime('%A %d %B %Y'))"
   ]
  },
  {
   "cell_type": "markdown",
   "id": "da0f092b-221c-4587-a71f-1033702169e7",
   "metadata": {},
   "source": [
    "### Question 2"
   ]
  },
  {
   "cell_type": "code",
   "execution_count": null,
   "id": "1f29722f-ca54-4415-8ddc-f41f9ddedfbd",
   "metadata": {},
   "outputs": [],
   "source": [
    "# Option 1: with the time library\n",
    "import time\n",
    "\n",
    "milliseconds = int(round(time.time() * 1000))\n",
    "print(milliseconds)\n",
    "\n",
    "# Option 2: with the datetime library\n",
    "from datetime import datetime\n",
    "print(datetime.now().timestamp() * 1000)"
   ]
  },
  {
   "cell_type": "markdown",
   "id": "d4185793-a44b-41b7-8277-a08b44003bfc",
   "metadata": {},
   "source": [
    "### Question 3"
   ]
  },
  {
   "cell_type": "code",
   "execution_count": null,
   "id": "4e101ca7-1a95-4f9e-9f6f-2a991163deb2",
   "metadata": {},
   "outputs": [],
   "source": [
    "from datetime import datetime\n",
    "\n",
    "# 2020-02-25\n",
    "date_1 = datetime(2020, 2, 25).date()\n",
    "# 2020-09-17\n",
    "date_2 = datetime(2020, 9, 17).date()\n",
    "\n",
    "delta = None\n",
    "if date_1 > date_2:\n",
    "    print(\"date_1 is greater\")\n",
    "    delta = date_1 - date_2\n",
    "else:\n",
    "    print(\"date_2 is greater\")\n",
    "    delta = date_2 - date_1\n",
    "print(\"Difference is\", delta.days, \"days\")"
   ]
  },
  {
   "cell_type": "markdown",
   "id": "7b395a79-3039-4804-84ce-6c3de653d92d",
   "metadata": {},
   "source": [
    "### Question 4"
   ]
  },
  {
   "cell_type": "code",
   "execution_count": null,
   "id": "a984580a-4b7f-44fe-bf68-ccfff55ce224",
   "metadata": {},
   "outputs": [],
   "source": [
    "import pandas as pd\n",
    "from datetime import date, datetime\n",
    "\n",
    "df = pd.read_csv('data/grant_winners.csv', sep=';')\n",
    "df['Award date'] = df['Award date'].apply(date.fromisoformat)\n",
    "start_date = date(2022,9,1)\n",
    "end_date = date(2024,8,31)\n",
    "selected_df = df[(df['Award date'] >= start_date) & (df['Award date'] <= end_date)]\n",
    "print(selected_df['Title project'].tolist())\n",
    "\n",
    "# Alternative solution using the datetime-parsing option in read_csv\n",
    "df = pd.read_csv('data/grant_winners.csv', sep=';', parse_dates=['Award date'])\n",
    "# Note that Pandas always creates datetime, not date objects; so we need to create datetime objects for the start and end date\n",
    "start_date = datetime(2022,9,1)\n",
    "end_date = datetime(2024,8,31)\n",
    "selected_df = df[(df['Award date'] >= start_date) & (df['Award date'] <= end_date)]\n",
    "print(selected_df['Title project'].tolist())\n",
    "\n",
    "# Alternative solution: ISO dates are chronologically and alphabetically ordered the same way\n",
    "df = pd.read_csv('data/grant_winners.csv', sep=';')\n",
    "selected_df = df[(df['Award date'] >= '2022-09-01') & (df['Award date'] <= '2024-08-31')]\n",
    "print(selected_df['Title project'].tolist())"
   ]
  },
  {
   "cell_type": "markdown",
   "id": "df0936ae-71d0-42da-8393-92825d9f9a49",
   "metadata": {},
   "source": [
    "## Unit 4.3: Matrix computation\n",
    "\n",
    "### Question 0"
   ]
  },
  {
   "cell_type": "code",
   "execution_count": null,
   "id": "5f72a8e3-ad2e-41f0-a20f-b2ef5524dc7a",
   "metadata": {},
   "outputs": [],
   "source": [
    "import numpy as np\n",
    "\n",
    "# 1. Using the two vectors `v_1` and `v_2` at the beginning of this notebook, create a matrix `m` whose rows are `v_1` and `v_2`.\n",
    "v_1 = [0.5, 3, 2.5]\n",
    "v_2 = [-1, 3.5, 2]\n",
    "m = np.array([v_1, v_2])\n",
    "print(m)"
   ]
  },
  {
   "cell_type": "code",
   "execution_count": null,
   "id": "29abe52b-1b9e-4b9f-80aa-ec8adc5101e6",
   "metadata": {},
   "outputs": [],
   "source": [
    "# 2. Print the average position of all flies in the room (i.e., the average of `v_1` and `v_2`). Do it directly on `m`.\n",
    "print(m.mean(axis=0))"
   ]
  },
  {
   "cell_type": "code",
   "execution_count": null,
   "id": "4a4ff095-3dc1-4187-a2a9-c61b7a85f3dc",
   "metadata": {},
   "outputs": [],
   "source": [
    "# 3. Print the distance between the two flies\n",
    "a_1 = np.array(v_1)\n",
    "a_2 = np.array(v_2)\n",
    "a_diff = a_1 - a_2\n",
    "print(np.linalg.norm(a_diff))"
   ]
  },
  {
   "cell_type": "markdown",
   "id": "85229242-1a4a-4f4d-9b85-d25ce4281f25",
   "metadata": {},
   "source": [
    "### Question 1\n",
    "\n",
    "Some items on the menu have 0 sugars, so dividing protein by sugars will result in invalid values. Below we make the assumption that anything that has sugars below 1 actually has sugars *equal* to 1."
   ]
  },
  {
   "cell_type": "code",
   "execution_count": null,
   "id": "64c397b7-ed60-4bfa-8546-bd86f53e2487",
   "metadata": {},
   "outputs": [],
   "source": [
    "import numpy as np\n",
    "import pandas as pd\n",
    "\n",
    "# import menu and display the first two rows of the dataframe\n",
    "menu = pd.read_csv(\"data/mcdonalds_menu.csv\", sep=';')\n",
    "menu.head(5)"
   ]
  },
  {
   "cell_type": "code",
   "execution_count": null,
   "id": "e29ed886-5455-4e68-877d-462e30432207",
   "metadata": {},
   "outputs": [],
   "source": [
    "# display simple statistics about the data frame\n",
    "menu.describe()"
   ]
  },
  {
   "cell_type": "code",
   "execution_count": null,
   "id": "d831813d-1c1c-4d74-9c12-c450f22924a5",
   "metadata": {},
   "outputs": [],
   "source": [
    "# top 3 muscle food\n",
    "menu['Protein/Sugar'] = np.where(menu['Sugars'] < 1, menu['Protein'] / 1, menu['Protein']/menu['Sugars'])\n",
    "menu.sort_values('Protein/Sugar', ascending=False).head(10)[['Category', 'Item', 'Protein', 'Sugars', 'Protein/Sugar']]"
   ]
  },
  {
   "cell_type": "code",
   "execution_count": null,
   "id": "e510716a-078a-475d-8baf-fd64fa58ec5d",
   "metadata": {},
   "outputs": [],
   "source": []
  }
 ],
 "metadata": {
  "kernelspec": {
   "display_name": "Python [conda env:base] *",
   "language": "python",
   "name": "conda-base-py"
  },
  "language_info": {
   "codemirror_mode": {
    "name": "ipython",
    "version": 3
   },
   "file_extension": ".py",
   "mimetype": "text/x-python",
   "name": "python",
   "nbconvert_exporter": "python",
   "pygments_lexer": "ipython3",
   "version": "3.11.4"
  }
 },
 "nbformat": 4,
 "nbformat_minor": 5
}
