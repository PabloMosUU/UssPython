{
 "cells": [
  {
   "cell_type": "markdown",
   "id": "89119a83",
   "metadata": {},
   "source": [
    "# Solutions to Exercises"
   ]
  },
  {
   "cell_type": "markdown",
   "id": "cf4e28bc",
   "metadata": {},
   "source": [
    "## Unit 4.1: Data visualization with matplotlib"
   ]
  },
  {
   "cell_type": "markdown",
   "id": "36139d74-dfc1-47d0-b40f-c6aecf75e186",
   "metadata": {},
   "source": [
    "### Question 0"
   ]
  },
  {
   "cell_type": "code",
   "execution_count": null,
   "id": "8eab1d40-ffd1-4f71-98bd-470ea7026009",
   "metadata": {},
   "outputs": [],
   "source": [
    "import pandas as pd\n",
    "import matplotlib.pyplot as plt\n",
    "\n",
    "# import menu and display the first two rows of the dataframe\n",
    "menu = pd.read_csv(\"data/mcdonalds_menu.csv\")\n",
    "\n",
    "# determine number of items and create barplot\n",
    "print(\"Question 0:\")\n",
    "print(\"Distribution of the calories:\")\n",
    "plt.hist(menu['Calories'])\n",
    "plt.xlabel('Calories')\n",
    "plt.ylabel('Items')\n",
    "plt.show()"
   ]
  },
  {
   "cell_type": "markdown",
   "id": "c108ba07",
   "metadata": {},
   "source": [
    "### Question 1"
   ]
  },
  {
   "cell_type": "code",
   "execution_count": null,
   "id": "10e15332",
   "metadata": {},
   "outputs": [],
   "source": [
    "import pandas as pd\n",
    "import matplotlib.pyplot as plt\n",
    "\n",
    "# import menu and display the first two rows of the dataframe\n",
    "menu = pd.read_csv(\"data/mcdonalds_menu.csv\")\n",
    "print(menu.head(5))\n",
    "\n",
    "# display simple statistics about the data frame\n",
    "print(menu.describe())\n",
    "\n",
    "# determine number of items and create barplot\n",
    "print(\"Question 1:\")\n",
    "print(\"Total number of items:\", len(menu.Item.unique()))\n",
    "menu.groupby('Category')['Item'].count().plot(kind='bar')\n",
    "plt.show()"
   ]
  },
  {
   "cell_type": "markdown",
   "id": "48223469",
   "metadata": {},
   "source": [
    "### Question 2"
   ]
  },
  {
   "cell_type": "code",
   "execution_count": null,
   "id": "726cb957",
   "metadata": {},
   "outputs": [],
   "source": [
    "# analysis fat per category\n",
    "print(\"Question 2:\")\n",
    "menu.boxplot(column=['Total Fat (% Daily Value)'], by=['Category'], rot=90)\n",
    "plt.show()\n",
    "\n",
    "grp_by_category = menu[['Category', 'Total Fat (% Daily Value)','Trans Fat','Saturated Fat (% Daily Value)', 'Cholesterol (% Daily Value)' ]].groupby(['Category']).max() #extracting the wanted columns, grouping by categories and calculating the max\n",
    "grp_by_category.reset_index(inplace=True) #resetting the index (otherwise category is the new index and it messes up with merge)\n",
    "grp_by_category.columns=['Category', 'Max_Fat', 'Max_Trans_Fat', 'Max_Sat_Fat', 'Max_Cholestrol'] #renaming the columns\n",
    "print(grp_by_category) #displaying the new dataframe\n",
    "\n",
    "df = menu.merge(grp_by_category) #merging the two dataframes by the only common column (\"Category\")\n",
    "mask = df['Total Fat (% Daily Value)'] == df.Max_Fat #creating the mask that will be used for the selection\n",
    "fatty_menu = df.loc[mask, ['Category','Item','Total Fat (% Daily Value)','Cholesterol (% Daily Value)']] #selection the items that correspond to the max of total fat (%daily value) per category\n",
    "print(fatty_menu) #displaying the dataframe\n",
    "\n",
    "trans_menu = df.loc[(df['Trans Fat'] == df.Max_Trans_Fat) & (df['Trans Fat']>0)][['Category','Item','Total Fat (% Daily Value)','Trans Fat','Saturated Fat (% Daily Value)','Cholesterol (% Daily Value)']] #creating a new filter\n",
    "print(trans_menu.sort_values(by='Trans Fat',ascending=False)) #displaying the dataframe sorted by Trans Fat (decreasing order)\n"
   ]
  },
  {
   "cell_type": "markdown",
   "id": "0caf03c4",
   "metadata": {},
   "source": [
    "### Question 3"
   ]
  },
  {
   "cell_type": "code",
   "execution_count": null,
   "id": "ec803ce4",
   "metadata": {},
   "outputs": [],
   "source": [
    "# top 10 vitamin C\n",
    "print(\"Question 3:\")\n",
    "pd.pivot_table(menu, index=['Item'], values=['Vitamin C (% Daily Value)']).sort_values(['Vitamin C (% Daily Value)'], ascending=False)[:10].plot(kind=\"bar\")\n",
    "plt.show()"
   ]
  },
  {
   "cell_type": "markdown",
   "id": "f7acca9e",
   "metadata": {},
   "source": [
    "### Question 4"
   ]
  },
  {
   "cell_type": "code",
   "execution_count": null,
   "id": "da744cb8",
   "metadata": {},
   "outputs": [],
   "source": [
    "# nutrition feature comparison\n",
    "print(\"Question 4:\")\n",
    "selection = menu.loc[:,['Calories', 'Total Fat', 'Saturated Fat', 'Cholesterol', 'Sodium', 'Carbohydrates', 'Sugars', 'Protein']]\n",
    "pd.plotting.scatter_matrix(selection, diagonal='kde', figsize=(12,12), grid=True)\n",
    "plt.show()"
   ]
  },
  {
   "cell_type": "markdown",
   "id": "5c9984b1-9637-42f0-92af-6bd5aa631d43",
   "metadata": {},
   "source": [
    "## Unit 4.2: Working with date and time\n",
    "\n",
    "### Question 1"
   ]
  },
  {
   "cell_type": "code",
   "execution_count": null,
   "id": "660c86cf-a244-4b1d-a74d-1bf0051601c8",
   "metadata": {},
   "outputs": [],
   "source": [
    "from datetime import datetime\n",
    "\n",
    "given_date = datetime(2020, 2, 25)\n",
    "print(\"Given date is\")\n",
    "print(given_date.strftime('%A %d %B %Y'))"
   ]
  },
  {
   "cell_type": "markdown",
   "id": "da0f092b-221c-4587-a71f-1033702169e7",
   "metadata": {},
   "source": [
    "### Question 2"
   ]
  },
  {
   "cell_type": "code",
   "execution_count": null,
   "id": "1f29722f-ca54-4415-8ddc-f41f9ddedfbd",
   "metadata": {},
   "outputs": [],
   "source": [
    "import time\n",
    "\n",
    "milliseconds = int(round(time.time() * 1000))\n",
    "print(milliseconds)"
   ]
  },
  {
   "cell_type": "markdown",
   "id": "d4185793-a44b-41b7-8277-a08b44003bfc",
   "metadata": {},
   "source": [
    "### Question 3"
   ]
  },
  {
   "cell_type": "code",
   "execution_count": null,
   "id": "4e101ca7-1a95-4f9e-9f6f-2a991163deb2",
   "metadata": {},
   "outputs": [],
   "source": [
    "from datetime import datetime\n",
    "\n",
    "# 2020-02-25\n",
    "date_1 = datetime(2020, 2, 25).date()\n",
    "# 2020-09-17\n",
    "date_2 = datetime(2020, 9, 17).date()\n",
    "\n",
    "delta = None\n",
    "if date_1 > date_2:\n",
    "    print(\"date_1 is greater\")\n",
    "    delta = date_1 - date_2\n",
    "else:\n",
    "    print(\"date_2 is greater\")\n",
    "    delta = date_2 - date_1\n",
    "print(\"Difference is\", delta.days, \"days\")"
   ]
  },
  {
   "cell_type": "markdown",
   "id": "7b395a79-3039-4804-84ce-6c3de653d92d",
   "metadata": {},
   "source": [
    "### Question 4"
   ]
  },
  {
   "cell_type": "code",
   "execution_count": null,
   "id": "a984580a-4b7f-44fe-bf68-ccfff55ce224",
   "metadata": {},
   "outputs": [],
   "source": [
    "import pandas as pd\n",
    "from datetime import date\n",
    "\n",
    "df = pd.read_csv('data/grant_winners.csv')\n",
    "df['Award date'] = df['Award date'].apply(date.fromisoformat)\n",
    "start_date = date(2022,9,1)\n",
    "end_date = date(2024,8,31)\n",
    "selected_df = df[(df['Award date'] >= start_date) & (df['Award date'] <= end_date)]\n",
    "print(selected_df['Title project'].tolist())"
   ]
  },
  {
   "cell_type": "markdown",
   "id": "df0936ae-71d0-42da-8393-92825d9f9a49",
   "metadata": {},
   "source": [
    "## Unit 4.3: Matrix computation\n",
    "\n",
    "### Question 0"
   ]
  },
  {
   "cell_type": "code",
   "execution_count": null,
   "id": "5f72a8e3-ad2e-41f0-a20f-b2ef5524dc7a",
   "metadata": {},
   "outputs": [],
   "source": [
    "import numpy as np\n",
    "\n",
    "# 1. Using the two vectors `v_1` and `v_2` at the beginning of this notebook, create a matrix `m` whose rows are `v_1` and `v_2`.\n",
    "v_1 = [0.5, 3, 2.5]\n",
    "v_2 = [-1, 3.5, 2]\n",
    "m = np.array([v_1, v_2])\n",
    "print(m)"
   ]
  },
  {
   "cell_type": "code",
   "execution_count": null,
   "id": "29abe52b-1b9e-4b9f-80aa-ec8adc5101e6",
   "metadata": {},
   "outputs": [],
   "source": [
    "# 2. Print the average position of all flies in the room (i.e., the average of `v_1` and `v_2`). Do it directly on `m`.\n",
    "print(m.mean(axis=0))"
   ]
  },
  {
   "cell_type": "code",
   "execution_count": null,
   "id": "4a4ff095-3dc1-4187-a2a9-c61b7a85f3dc",
   "metadata": {},
   "outputs": [],
   "source": [
    "# 3. Print the distance between the two flies\n",
    "a_1 = np.array(v_1)\n",
    "a_2 = np.array(v_2)\n",
    "a_diff = a_1 - a_2\n",
    "print(np.linalg.norm(a_diff))"
   ]
  },
  {
   "cell_type": "markdown",
   "id": "85229242-1a4a-4f4d-9b85-d25ce4281f25",
   "metadata": {},
   "source": [
    "### Question 1"
   ]
  },
  {
   "cell_type": "code",
   "execution_count": null,
   "id": "64c397b7-ed60-4bfa-8546-bd86f53e2487",
   "metadata": {},
   "outputs": [],
   "source": [
    "import numpy as np\n",
    "import pandas as pd\n",
    "\n",
    "# import menu and display the first two rows of the dataframe\n",
    "menu = pd.read_csv(\"data/mcdonalds_menu.csv\")\n",
    "print(menu.head(5))\n",
    "\n",
    "# display simple statistics about the data frame\n",
    "print(menu.describe())\n",
    "\n",
    "# top 3 muscle food\n",
    "menu['Protein/Sugar'] = np.where(menu['Sugars'] < 1, menu['Sugars'], menu['Protein']/menu['Sugars'])\n",
    "print(menu.sort_values('Protein/Sugar', ascending=False).head(3))"
   ]
  }
 ],
 "metadata": {
  "kernelspec": {
   "display_name": "Python 3 (ipykernel)",
   "language": "python",
   "name": "python3"
  },
  "language_info": {
   "codemirror_mode": {
    "name": "ipython",
    "version": 3
   },
   "file_extension": ".py",
   "mimetype": "text/x-python",
   "name": "python",
   "nbconvert_exporter": "python",
   "pygments_lexer": "ipython3",
   "version": "3.12.3"
  }
 },
 "nbformat": 4,
 "nbformat_minor": 5
}
