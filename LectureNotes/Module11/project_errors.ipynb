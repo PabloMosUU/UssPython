{
 "cells": [
  {
   "cell_type": "code",
   "execution_count": null,
   "metadata": {},
   "outputs": [],
   "source": [
    "def get_absolute_value(some_number):\n",
    "    def is_negative(value):\n",
    "        if value < 0:\n",
    "            return True\n",
    "        else:\n",
    "            return False\n",
    "    if is_negative(some_number):\n",
    "        return (-1) * some_number\n",
    "    else:\n",
    "        return some_number\n",
    "\n",
    "print(get_absolute_value(3))\n",
    "    \n",
    "print(is_negative(-1))"
   ]
  },
  {
   "cell_type": "code",
   "execution_count": null,
   "metadata": {},
   "outputs": [],
   "source": [
    "while a < 5:\n",
    "    print('decreasing')\n",
    "  a = a - 1"
   ]
  },
  {
   "cell_type": "code",
   "execution_count": null,
   "metadata": {},
   "outputs": [],
   "source": [
    "global_int = 7\n",
    "global_list = [1, 2, 3]\n",
    "\n",
    "def modify_numbers(local_list):\n",
    "    global_int = 6\n",
    "    global_list.append(4)\n",
    "    return global_int\n",
    "\n",
    "modify_numbers(global_list)\n",
    "\n",
    "print(global_int, global_list)"
   ]
  },
  {
   "cell_type": "code",
   "execution_count": null,
   "metadata": {},
   "outputs": [],
   "source": []
  }
 ],
 "metadata": {
  "kernelspec": {
   "display_name": "Python 3",
   "language": "python",
   "name": "python3"
  },
  "language_info": {
   "codemirror_mode": {
    "name": "ipython",
    "version": 3
   },
   "file_extension": ".py",
   "mimetype": "text/x-python",
   "name": "python",
   "nbconvert_exporter": "python",
   "pygments_lexer": "ipython3",
   "version": "3.8.12"
  }
 },
 "nbformat": 4,
 "nbformat_minor": 4
}
