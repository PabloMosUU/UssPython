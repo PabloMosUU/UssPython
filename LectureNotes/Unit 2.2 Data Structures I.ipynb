{
 "cells": [
  {
   "cell_type": "markdown",
   "metadata": {},
   "source": [
    "# Unit 2.2: Data Structures I\n",
    "\n",
    "This notebook is based on Anna-Lena Lamprecht's CoTaPP repository (https://github.com/annalenalamprecht/CoTaPP). Some modifications were made."
   ]
  },
  {
   "cell_type": "markdown",
   "metadata": {},
   "source": [
    "Last unit we discussed functions, modules and packages, had a quick look at the Python’s standard library and the Python Package Index.\n",
    "\n",
    "In this unit we will cover two very important data structures in Python (the list and the tuple) that will allow us to work with more powerful data items than just the individual numbers, strings and Booleans that we have used so far. \n",
    "\n",
    "Next unit we will cover more data structures (dictionaries and sets)."
   ]
  },
  {
   "cell_type": "markdown",
   "metadata": {},
   "source": [
    "## Data Structures in Python \n",
    "We have already seen the four basic data types that Python provides: string, integer, float and boolean. Data structures are more than data types, they are used to represent more complex types of data. There are four built-in data structures in Python: lists, tuples, dictionaries and sets. They are all special kinds of variables that can store more than just one value. In this unit we will study lists and tuples.\n",
    "\n",
    "In lists, elements have a defined order. Lists are *mutable* data structures, meaning that it is possible to add, edit or delete elements. Lists allow for duplicates. Finally, lists are iterable, that is, a for-loop can automatically go through all their elements.\n",
    "\n",
    "Tuple are almost exactly like lists, except that they are immutable, i.e., you can't change them after creation.\n",
    "\n",
    "| Data Structure | Ordered | Mutable | Unique | Iterable |\n",
    "|----------------|:-------:|:-------:|:------:|:--------:|\n",
    "| List           |   Yes   |   Yes   |   No   |    Yes   |\n",
    "| Tuple          |   Yes   |    No   |   No   |    Yes   |\n",
    "| Dictionary     |    ?    |   ?     |   ?    |    ?     |\n",
    "| Set            |    ?    |   ?     |   ?    |    ?     |\n",
    "\n",
    "We will complete this table next lecture."
   ]
  },
  {
   "cell_type": "markdown",
   "metadata": {},
   "source": [
    "### Lists\n",
    "\n",
    "Here is an example of a list in Python, containing the first 12 [Fibonacci numbers](https://en.wikipedia.org/wiki/Fibonacci_number):"
   ]
  },
  {
   "cell_type": "code",
   "execution_count": null,
   "metadata": {},
   "outputs": [],
   "source": [
    "fibonacci_numbers = [1, 1, 2, 3, 5, 8, 13, 21, 34, 55, 89, 144] "
   ]
  },
  {
   "cell_type": "markdown",
   "metadata": {},
   "source": [
    "That is, lists can simply be defined by comma-separated lists of values in square brackets:\n",
    "\n",
    "```\n",
    "<list_name> = [<value1>, <value2>, …, <valueN>]\n",
    "```\n",
    "\n",
    "Lists can also contain values of different types, for example:"
   ]
  },
  {
   "cell_type": "code",
   "execution_count": null,
   "metadata": {},
   "outputs": [],
   "source": [
    "person_details = [\"Bob\", \"Smith\", \"22.05.1987\", 1.6, 4094379] "
   ]
  },
  {
   "cell_type": "markdown",
   "metadata": {},
   "source": [
    "Individual elements of lists can be accessed by giving their position (index) in the list in square brackets directly behind the name of the variable:\n",
    "\n",
    "```\n",
    "<list_name>[<index>]\n",
    "```\n",
    "\n",
    "For historical technical reasons the first index of a list is not 1, but 0, and accordingly the last index is its length – 1. For example, we can print the 7th Fibonacci number (13) by:"
   ]
  },
  {
   "cell_type": "code",
   "execution_count": null,
   "metadata": {},
   "outputs": [],
   "source": [
    "print(fibonacci_numbers[6]) "
   ]
  },
  {
   "cell_type": "markdown",
   "metadata": {},
   "source": [
    "Or Bob's last name by:"
   ]
  },
  {
   "cell_type": "code",
   "execution_count": null,
   "metadata": {},
   "outputs": [],
   "source": [
    "print(person_details[1]) "
   ]
  },
  {
   "cell_type": "markdown",
   "metadata": {},
   "source": [
    "Conversely, a new value can be assigned to a list element, for example a new last name for Bob:"
   ]
  },
  {
   "cell_type": "code",
   "execution_count": null,
   "metadata": {},
   "outputs": [],
   "source": [
    "person_details[1] = \"Tailor\" "
   ]
  },
  {
   "cell_type": "markdown",
   "metadata": {},
   "source": [
    "Resulting in a changed list:"
   ]
  },
  {
   "cell_type": "code",
   "execution_count": null,
   "metadata": {},
   "outputs": [],
   "source": [
    "print(person_details) "
   ]
  },
  {
   "cell_type": "markdown",
   "metadata": {},
   "source": [
    "We can delete an element from the list, for example:"
   ]
  },
  {
   "cell_type": "code",
   "execution_count": null,
   "metadata": {},
   "outputs": [],
   "source": [
    "del person_details[4] "
   ]
  },
  {
   "cell_type": "markdown",
   "metadata": {},
   "source": [
    "Resulting in:"
   ]
  },
  {
   "cell_type": "code",
   "execution_count": null,
   "metadata": {},
   "outputs": [],
   "source": [
    "print(person_details) "
   ]
  },
  {
   "cell_type": "markdown",
   "metadata": {},
   "source": [
    "The operators ```in``` and ```not in``` can be used to check if a particular values is contained in a list (or not):"
   ]
  },
  {
   "cell_type": "code",
   "execution_count": null,
   "metadata": {},
   "outputs": [],
   "source": [
    "if \"Bob\" in person_details:\n",
    "    print(\"Bob is there.\")\n",
    "if \"John\" in person_details:\n",
    "    print(\"John is there.\")\n",
    "if \"Bob\" not in person_details:\n",
    "    print(\"Bob is not there.\")\n",
    "if \"John\" not in person_details:\n",
    "    print(\"John is not there.\")"
   ]
  },
  {
   "cell_type": "markdown",
   "metadata": {},
   "source": [
    "Using the ```len``` function we can get the length of a list:"
   ]
  },
  {
   "cell_type": "code",
   "execution_count": null,
   "metadata": {},
   "outputs": [],
   "source": [
    "print(len(person_details))"
   ]
  },
  {
   "cell_type": "markdown",
   "metadata": {},
   "source": [
    "Lists can also be used as iterable objects for for-loops, which are in fact a convenient way for going through the elements of a list. Here is an example:"
   ]
  },
  {
   "cell_type": "code",
   "execution_count": null,
   "metadata": {},
   "outputs": [],
   "source": [
    "numbers = [2, 4, 6, 8, 10]\n",
    "for n in numbers:\n",
    "    print(n)"
   ]
  },
  {
   "cell_type": "markdown",
   "metadata": {},
   "source": [
    "Nesting for-loops into each other is also easy with lists. If we want, for example, to determine all matches to be played in a \"Province League\" between the provinces in Ireland (Gaelic football or Rugby or …) the following piece of code is sufficient:"
   ]
  },
  {
   "cell_type": "code",
   "execution_count": null,
   "metadata": {},
   "outputs": [],
   "source": [
    "teams = [\"Connacht\", \"Ulster\", \"Munster\", \"Leinster\"]\n",
    "for home in teams:\n",
    "    for guest in teams:\n",
    "        if home != guest:\n",
    "            print(f\"{home} : {guest}\") "
   ]
  },
  {
   "cell_type": "markdown",
   "metadata": {},
   "source": [
    "Lists in Python are *ordered*, meaning that its elements are stored and retrieved in a specific order. You might want to *sort* a list, i.e., make the ordering of the list match the natural ordering given by the nature of its elements. For example, you might want to sort a list of strings in alphabetical order. The simplest way to do this in Python is with the ```sort()``` function for lists:"
   ]
  },
  {
   "cell_type": "code",
   "execution_count": null,
   "metadata": {},
   "outputs": [],
   "source": [
    "names = [\"Hieke\", \"Alexander\", \"Sergey\", \"Anna-Lena\", \"Amir\"]\n",
    "print(names)\n",
    "names.sort()\n",
    "print(names)"
   ]
  },
  {
   "cell_type": "markdown",
   "metadata": {},
   "source": [
    "Note here that the list is sorted by calling ```names.sort()```, and not ```sort(names)``` as you might have expected. The reason is that the method ```sort()``` is provided by the list class, hence it can be called on all instances of list, like ```names``` in our example. In contrast, a method like ```print()``` is not connected to a particular object, and is just called by itself.\n",
    "\n",
    "There are a few other useful object methods available for lists:\n",
    "\n",
    "\n",
    "  ```<list>.index(<value>)``` returns the index of the first occurrence of the value in the list\n",
    " \n",
    "  ```<list>.append(<value>)``` appends the value to the list as new element\n",
    " \n",
    "  ```<list>.remove(<value>)``` removes the (first) element with the value from the list\n",
    " \n",
    "\n",
    "Here is a simple random example:"
   ]
  },
  {
   "cell_type": "code",
   "execution_count": null,
   "metadata": {},
   "outputs": [],
   "source": [
    "numbers = [4, 31, 34, 2, 3, 13, 53, 54, 2]\n",
    "print(numbers)\n",
    "print(f\"Index(2): {numbers.index(2)}\")\n",
    "numbers.append(99)\n",
    "print(numbers)\n",
    "numbers.remove(2)\n",
    "print(numbers)\n",
    "print(f\"Index(2): {numbers.index(2)}\")"
   ]
  },
  {
   "cell_type": "markdown",
   "metadata": {},
   "source": [
    "Maybe you have wondered if lists can also contain others lists. Yes, there are also lists of lists. Here is an example, doing the opposite of sorting, namely creating a random running order of presentations:"
   ]
  },
  {
   "cell_type": "code",
   "execution_count": null,
   "metadata": {},
   "outputs": [],
   "source": [
    "import random\n",
    "\n",
    "presentations = [[\"Bob\", \"World Heritage Sites in Montenegro\"], \\\n",
    "                 [\"Elise\", \"The discography of Lecrae\"], \\\n",
    "                 [\"Evelyne\", \"Amphibian species in the American state of Texas\"], \\\n",
    "                 [\"Harry\", \"Notable individuals who have been affiliated with Pomona College\"], \\\n",
    "                 [\"Jack\", \"27 local nature reserves in Cambridgeshire\"], \\\n",
    "                 [\"Linda\", \"The 2018 Atlantic hurricane season\"], \\\n",
    "                 [\"Michael\", \"The chief minister of Jharkhand\"], \\\n",
    "                 [\"Paul\", \"The cartography of Jerusalem\"]]\n",
    "\n",
    "random.shuffle(presentations)\n",
    "\n",
    "i = 0\n",
    "print(\"Presentations on Tuesday, April 3:\")\n",
    "while i < len(presentations)/2:\n",
    "    print(f\"\\t {presentations[i][0]}: {presentations[i][1]}\")\n",
    "    i += 1\n",
    "print(\"Presentations on Thursday, April 4:\")\n",
    "while i < len(presentations):\n",
    "    print(f\"\\t {presentations[i][0]}: {presentations[i][1]}\")\n",
    "    i += 1"
   ]
  },
  {
   "cell_type": "markdown",
   "metadata": {},
   "source": [
    "We can also use slicing to split the above list in two. Slicing allows to refer to a whole range of indexes instead to just a single one. A slicing expression has the following basic form, referring to all elements from the first index to the one before the last index:\n",
    "\n",
    "```\n",
    "<list>[<first_index>:<last_index>]\n",
    "```\n",
    "    \n",
    "That can for instance be used to replace the while loops in the example above by for-loops:"
   ]
  },
  {
   "cell_type": "code",
   "execution_count": null,
   "metadata": {},
   "outputs": [],
   "source": [
    "print(\"Presentations on Tuesday, April 3:\")\n",
    "for presentation in presentations[0:len(presentations)//2]:\n",
    "    print(f\"\\t {presentation[0]}: {presentation[1]}\")   \n",
    "    \n",
    "print(\"Presentations on Thursday, April 4:\")\n",
    "for presentation in presentations[len(presentations)//2:8]:\n",
    "    print(f\"\\t {presentation[0]}: {presentation[1]}\") "
   ]
  },
  {
   "cell_type": "markdown",
   "metadata": {},
   "source": [
    "When copying lists, whether completely or partially with the slicing operators, it needs to be taken into account that copying of complex objects like lists behaves a bit differently than the copying of simple variable values. If the usual assignment operator (=) is used, only the reference to the list is copied, meaning that all changes to the original list are also visible in the copied list, because they refer to the same object. When using the slicing operator or a dedicated `copy()` function, the (respective) elements of the list are copied into a new object that is independent from the original. This is sometimes also called a *shallow copy*. If the list contains a reference to another list or complex object, however, only the reference will be copied. Therefore, in this case a *deep copy* needs to be made in order to copy the whole list completely. The following code illustrates the difference:"
   ]
  },
  {
   "cell_type": "code",
   "execution_count": null,
   "metadata": {},
   "outputs": [],
   "source": [
    "import copy\n",
    "\n",
    "short_list = [\"1\", \"2\", \"3\"]\n",
    "long_list = [\"a\", \"b\", \"c\", \"d\", \"e\", \"f\", \"g\", short_list]\n",
    "\n",
    "# assignment\n",
    "assigned_list = long_list\n",
    "print(assigned_list)\n",
    "del short_list[0]\n",
    "del long_list[3]\n",
    "print(assigned_list)\n",
    "\n",
    "# (shallow) copy\n",
    "copied_list = copy.copy(long_list)\n",
    "print(copied_list)\n",
    "del short_list[0]\n",
    "del long_list[3]\n",
    "print(copied_list)\n",
    "\n",
    "# deep copy\n",
    "deep_copied_list = copy.deepcopy(long_list)\n",
    "print(deep_copied_list)\n",
    "del short_list[0]\n",
    "del long_list[3]\n",
    "print(deep_copied_list)\n"
   ]
  },
  {
   "cell_type": "markdown",
   "metadata": {},
   "source": [
    "The main reason for not doing deep copies of lists by default is that they are typically slower and in many cases not necessary.\n",
    "\n",
    "Finally two more notes on indexing in Python: So far we have seen forward indexing, from 0 to len(list)-1, which is also common in a lot of other programming languages. Python allows additionally also for backward indexing, where the last element in the list is indexed with –1, and the first with –len(list). For example, consider the list of Fibonacci numbers from above again:"
   ]
  },
  {
   "cell_type": "code",
   "execution_count": null,
   "metadata": {},
   "outputs": [],
   "source": [
    "fibonacci_numbers = [1, 1, 2, 3, 5, 8, 13, 21, 34, 55, 89, 144]"
   ]
  },
  {
   "cell_type": "markdown",
   "metadata": {},
   "source": [
    "The first 1 has index 0, or alternatively index –12. The 144 has index 11, or alternatively –1. The 5 can be indexed by 4 or –8:"
   ]
  },
  {
   "cell_type": "code",
   "execution_count": null,
   "metadata": {},
   "outputs": [],
   "source": [
    "print(f\"{fibonacci_numbers[0]} == {fibonacci_numbers[-12]}\")\n",
    "print(f\"{fibonacci_numbers[11]} == {fibonacci_numbers[-1]}\")\n",
    "print(f\"{fibonacci_numbers[4]} == {fibonacci_numbers[-8]}\")"
   ]
  },
  {
   "cell_type": "markdown",
   "metadata": {},
   "source": [
    "And then there is the so-called unspecified index that can be used with slicing. If the first index of the slice is left unspecified, it refers to all elements in the list from the beginning to the second index - 1. If the second index is left unspecified, it refers to the first index and all remaining elements after it:"
   ]
  },
  {
   "cell_type": "code",
   "execution_count": null,
   "metadata": {},
   "outputs": [],
   "source": [
    "print(fibonacci_numbers[:6])\n",
    "print(fibonacci_numbers[6:])"
   ]
  },
  {
   "cell_type": "markdown",
   "metadata": {},
   "source": [
    "### Tuples\n",
    "Tuples are actually very similar to lists, just that they are immutable and cannot be changed. Thus, they only support operations that read from them, but no operations that would change or delete the data structure.\n",
    "In practice tuples are frequently obtained as a result from library functions, but they can also be created directly, by using round brackets:\n",
    "\n",
    "```\n",
    "<tuple_name> = (<value1>, <value2>, …, <valueN>)\n",
    "```\n",
    "\n",
    "For example:\n"
   ]
  },
  {
   "cell_type": "code",
   "execution_count": null,
   "metadata": {},
   "outputs": [],
   "source": [
    "sample = (\"Thursday\", \"lunch\", \"pasta\", 3.95)\n",
    "print(sample)"
   ]
  },
  {
   "cell_type": "markdown",
   "metadata": {},
   "source": [
    "All reading operations (such as indexing, slicing, iteration…) work in the same way as on lists, for example:"
   ]
  },
  {
   "cell_type": "code",
   "execution_count": null,
   "metadata": {},
   "outputs": [],
   "source": [
    "print(sample[0])\n",
    "print(sample[len(sample)//2:])\n",
    "\n",
    "for s in sample:\n",
    "    print(s)"
   ]
  },
  {
   "cell_type": "markdown",
   "metadata": {},
   "source": [
    "However, writing operations are not possible on tuples, that is, no changing of elements, no deletions, no appending, no sorting, etc."
   ]
  },
  {
   "cell_type": "code",
   "execution_count": null,
   "metadata": {},
   "outputs": [],
   "source": [
    "s = (1, 2, 3)\n",
    "s[0] = 10"
   ]
  },
  {
   "cell_type": "markdown",
   "metadata": {},
   "source": [
    "In practice, tuples are frequently used for example by web services or other APIs to return results. You cannot manipulate these directly, but of course access them and copy the contained values to other data structures. Being read-only data structures also makes operations on tuples faster than on lists, so when working with large collections of data that does not change, the use of tuples might be preferred over lists. Furthermore, tuples are also used to make functions return more than one value. For example:"
   ]
  },
  {
   "cell_type": "code",
   "execution_count": null,
   "metadata": {},
   "outputs": [],
   "source": [
    "def integer_division(a,b):\n",
    "    quotient = a//b\n",
    "    remainder = a%b\n",
    "    return quotient, remainder\n",
    "\n",
    "print(integer_division(20,6))"
   ]
  },
  {
   "cell_type": "markdown",
   "metadata": {},
   "source": [
    "Note that the return statement does not explicitly define the pair of numbers as a tuple, but any comma-separated list of return values as shown here will automatically be turned into a tuple."
   ]
  },
  {
   "cell_type": "markdown",
   "metadata": {},
   "source": [
    "## List comprehension\n",
    "\n",
    "Many Python developers employ a technique called [*list comprehension*](https://docs.python.org/3/tutorial/datastructures.html#list-comprehensions). With list comprehension, a Celsius-to-Fahrenheit conversion of a list of temperatures could be implemented in a single line, as follows:"
   ]
  },
  {
   "cell_type": "code",
   "execution_count": null,
   "metadata": {},
   "outputs": [],
   "source": [
    "temps = [34.5, 23.6, 78.7, 34.3, 99.9, 23.7, 42.6]\n",
    "temps_f = [ (9/5) * x + 32 for x in temps ]\n",
    "print(temps_f)"
   ]
  },
  {
   "cell_type": "markdown",
   "metadata": {},
   "source": [
    "List comprehension can also be used to filter values. For example, to select only temperatures above 50 degrees:"
   ]
  },
  {
   "cell_type": "code",
   "execution_count": null,
   "metadata": {},
   "outputs": [],
   "source": [
    "temps_50plus = [ x for x in temps if x >= 50 ]\n",
    "print(temps_50plus)"
   ]
  },
  {
   "cell_type": "markdown",
   "metadata": {},
   "source": [
    "And you can do both operations at the same time. For example, convert temperatures to Fahrenheit only if they are above 50 degrees:"
   ]
  },
  {
   "cell_type": "code",
   "execution_count": null,
   "metadata": {},
   "outputs": [],
   "source": [
    "[(9/5) * x + 32 for x in temps if x >= 50]"
   ]
  },
  {
   "cell_type": "markdown",
   "metadata": {},
   "source": [
    "List comprehensions have the following basic form:\n",
    "\n",
    "```[``` *expression* ```for``` *var* ```in``` *iterable* ```if``` *condition* ```]```\n",
    "    \n",
    "Additionally, ```if``` statements can be included to express further constraints. The result is a list with the results from evaluating the expression in the context of the ```for``` and ```if``` clauses in the comprehension statement."
   ]
  },
  {
   "cell_type": "markdown",
   "metadata": {},
   "source": [
    "## Exercises"
   ]
  },
  {
   "cell_type": "markdown",
   "metadata": {},
   "source": [
    "### 1. Ackermann Function (★★★★☆)\n",
    "The Ackermann function (named after the German mathematician Wilhelm Friedrich Ackermann) grows rapidly already for small inputs. It exists in different variants, one of the common definitions is the following (for two nonnegative integers m and n):\n",
    "\n",
    "![](img/ackermann.png)\n",
    "\n",
    "Define and implement a (recursive) function ackermann(m,n) that computes the Ackermann function value for two nonnegative integers m and n. Then, write a test program that computes the results for calling the function with growing m and n of the same value, starting with m = n = 0 and incrementing by 1 in each iteration. The output should be something like: \n",
    "```\n",
    "ackermann(0,0) = 1\n",
    "ackermann(1,1) = 3\n",
    "ackermann(2,2) = 7\n",
    "[...]\n",
    "```\n",
    "What is the last value that your program computes before you get a `RecursionError`? (Hint: It might be that the outputs in the IPython console in Spyder are too verbose to see anything. You can alternatively run your program from the command line to see more.) What does this error mean?"
   ]
  },
  {
   "cell_type": "markdown",
   "metadata": {},
   "source": [
    "### 2. String Reverse (★★★★☆)\n",
    "Strings can be indexed like lists, that is, an expression like <string>[<index>] returns the character at the corresponding position in the string. The first character of the string has index 0, and the last is at position len(<string>)-1. A sub-sequence of a string can be obtained by specifying a range of indexes. For example, <string>[1:len(<string>)] will return a string containing all characters but the first of the original string.\n",
    "    \n",
    "Implement three different variants of a function for reversing a string:\n",
    "1. reverse_recursive(string), solving the problem recursively\n",
    "2. reverse_while(string), solving the problem using a while-loop\n",
    "3. reverse_for(string), solving the problem using a for-loop\n",
    "    \n",
    "You can use the following code to test your functions. The last output should be \"True\".\n",
    "```\n",
    "# test program\n",
    "string_to_reverse = \"This is just a test.\"\n",
    "print(reverse_recursive(string_to_reverse))\n",
    "print(reverse_while(string_to_reverse))\n",
    "print(reverse_for(string_to_reverse))\n",
    "print(reverse_recursive(string_to_reverse) == reverse_while(string_to_reverse) == reverse_for(string_to_reverse))\n",
    "```"
   ]
  },
  {
   "cell_type": "markdown",
   "metadata": {},
   "source": [
    "### 3. Irish League (★★★☆☆)\n",
    "\n",
    "Consider again the \"Irish League\" example from the lecture:\n",
    "```\n",
    "teams = [\"Connacht\", \"Ulster\", \"Munster\", \"Leinster\"]\n",
    "for home in teams:\n",
    "    for guest in teams:\n",
    "        if home != guest:\n",
    "            print(home, \":\", guest)\n",
    "```\n",
    "\n",
    "Add another list at the beginning:\n",
    "```\n",
    "dates = [\"June 1\", \"June 2\", \"June 3\", \"June 4\", \"June 5\", \"June 6\", \\\n",
    "         \"June 7\", \"June 8\", \"June 9\", \"June 10\", \"June 11\", \"June 12\"]\n",
    "```\n",
    "Then adapt the code so that it does not only print the pairings, but also the date on which the match shall take place (using the dates in the list in the order they appear there). The output should then be:\n",
    "```\n",
    "Connacht : Ulster (June 1)\n",
    "Connacht : Munster (June 2)\n",
    "Connacht : Leinster (June 3)\n",
    "Ulster : Connacht (June 4)\n",
    "Ulster : Munster (June 5)\n",
    "Ulster : Leinster (June 6)\n",
    "Munster : Connacht (June 7)\n",
    "Munster : Ulster (June 8)\n",
    "Munster : Leinster (June 9)\n",
    "Leinster : Connacht (June 10)\n",
    "Leinster : Ulster (June 11)\n",
    "Leinster : Munster (June 12)\n",
    "```"
   ]
  },
  {
   "cell_type": "markdown",
   "metadata": {},
   "source": [
    "### 4. List of Fibonacci Numbers (★★★★☆)\n",
    "Implement a `function fib(n)` that returns a list with the first n Fibonacci numbers. If `n==0`, it should directly return the list `[1]`, if `n==1`, it should return `[1,1]`, and if `n>1` it should use `[1,1]` as a start and compute Fibonacci numbers 2 to n by always adding the two predecessors in the list. \n",
    "You can use the following code to test your function:\n",
    "```\n",
    "print(fib(0))\n",
    "print(fib(1))\n",
    "print(fib(2))\n",
    "print(fib(12))\n",
    "```\n",
    "The output should be:\n",
    "```\n",
    "[1]\n",
    "[1, 1]\n",
    "[1, 1, 2]\n",
    "[1, 1, 2, 3, 5, 8, 13, 21, 34, 55, 89, 144, 233]\n",
    "```"
   ]
  },
  {
   "cell_type": "markdown",
   "metadata": {},
   "source": [
    "### 5. List versus tuple (★★☆☆☆)\n",
    "Write a Python function called ```modify_elements``` that takes in either a ```list``` or a ```tuple``` as input. The function should modify the elements of the input sequence by doubling each element in-place.\n",
    "\n",
    "Here's an example of the expected behavior:\n",
    "\n",
    "    numbers_list = [1, 2, 3, 4, 5]\n",
    "    modify_elements(numbers_list)\n",
    "    print(numbers_list)  # Output: [2, 4, 6, 8, 10]\n",
    "\n",
    "    numbers_tuple = (1, 2, 3, 4, 5)\n",
    "    modify_elements(numbers_tuple)\n",
    "    print(numbers_tuple)  # Output: (1, 2, 3, 4, 5)\n",
    "\n",
    "In this example, the ```modify_elements``` function is called twice: once with a list and once with a tuple. For the list, the elements are modified in-place, and the resulting list is [2, 4, 6, 8, 10]. However, when the function is called with a tuple, it should not modify the elements because tuples are immutable. Therefore, the tuple remains unchanged as (1, 2, 3, 4, 5)."
   ]
  },
  {
   "cell_type": "markdown",
   "metadata": {},
   "source": [
    "### 6. Extract Even Numbers (★☆☆☆☆)\n",
    "\n",
    "Write a Python function called ```extract_even``` that takes in a list of numbers as input. The function should use list comprehension to create a new list containing only the even numbers from the input list.\n",
    "\n",
    "Here's an example of the expected behavior:\n",
    "\n",
    "    numbers = [1, 2, 3, 4, 5, 6, 7, 8, 9, 10]\n",
    "    result = extract_even(numbers)\n",
    "    print(result)  # Output: [2, 4, 6, 8, 10]\n",
    "\n",
    "In this example, the input list is ```[1, 2, 3, 4, 5, 6, 7, 8, 9, 10]```. The ```extract_even``` function uses list comprehension to create a new list that contains only the even numbers from the input list. Therefore, the function should return ```[2, 4, 6, 8, 10]```."
   ]
  }
 ],
 "metadata": {
  "kernelspec": {
   "display_name": "Python 3 (ipykernel)",
   "language": "python",
   "name": "python3"
  },
  "language_info": {
   "codemirror_mode": {
    "name": "ipython",
    "version": 3
   },
   "file_extension": ".py",
   "mimetype": "text/x-python",
   "name": "python",
   "nbconvert_exporter": "python",
   "pygments_lexer": "ipython3",
   "version": "3.8.12"
  }
 },
 "nbformat": 4,
 "nbformat_minor": 4
}
