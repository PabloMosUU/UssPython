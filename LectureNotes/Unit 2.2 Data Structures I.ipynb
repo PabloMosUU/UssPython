{
 "cells": [
  {
   "cell_type": "markdown",
   "metadata": {},
   "source": [
    "# Module 7: Recursion, Data Structures I\n",
    "March 1, 2023"
   ]
  },
  {
   "cell_type": "markdown",
   "metadata": {},
   "source": [
    "Last time we discussed functions, modules and packages, had a quick look at the Python’s standard library and the Python Package Index.\n",
    "\n",
    "Today we will introduce the principle of recursion and recursive function definitions.\n",
    "\n",
    "We will also cover a very important data structure in Python (the list) that will allow us to work with more powerful data items than just the individual numbers, strings and Booleans that we have used so far. \n",
    "\n",
    "Next time we will cover more data structures (tuples, dictionaries, sets). We will also discuss the important difference between call by value and call by reference."
   ]
  },
  {
   "cell_type": "markdown",
   "metadata": {},
   "source": [
    "## Recursion\n",
    "\n",
    "See Recursion.\n",
    "\n",
    "Just a joke, but it points to the basic idea of recursion: self-reference. You may recall recursive function definitions from mathematics, for instance:\n",
    "\n",
    "x$^n$ = x * x$^{n-1}$ if n > 0, and 1 if n = 0\n",
    "\n",
    "That is, the problem is solved by referring to a smaller instance of the same problem, until it is so small that it is trivial. For example, with this definition 3$^5$ is calculated as follows:\n",
    "\n",
    "3$^5$ = 3 * 3$^4$ = 3 * 3 * 3$^3$ = 3  * 3 * 3 * 3$^2$ = 3 * 3 * 3 * 3 * 3$^1$ = 3 * 3 * 3 * 3 * 3 * 3$^0$ =  3 * 3 * 3 * 3 * 3 * 1 =  3 * 3 * 3 * 3 * 3 = 3 * 3 * 3 * 9 = 3 * 3 * 27 = 3 * 81 = 243\n",
    "\n",
    "For an in-depth introduction to recursion in programming, you can see the UML diagrams and video in this link:\n",
    "\n",
    "https://www.freecodecamp.org/news/how-recursion-works-explained-with-flowcharts-and-a-video-de61f40cb7f9/\n",
    "\n",
    "Recursions in Python (and other programming languages as well) follow the same principle, but the definition in code looks a bit different:"
   ]
  },
  {
   "cell_type": "code",
   "execution_count": null,
   "metadata": {},
   "outputs": [],
   "source": [
    "# recursive function to compute x**n\n",
    "def pow(x,n):\n",
    "    if n > 0:\n",
    "        return x * pow(x,n-1)\n",
    "    else:\n",
    "        return 1\n",
    "        \n",
    "# main program calling the function\n",
    "x = int(input(\"Please enter x: \"))\n",
    "n = int(input(\"Please enter n: \"))\n",
    "x_to_the_power_of_n = pow(x,n)\n",
    "print(f\"{x} ** {n} = {x_to_the_power_of_n}\")"
   ]
  },
  {
   "cell_type": "markdown",
   "metadata": {},
   "source": [
    "Internally, the following calls and returns of pow(x,n) happen at runtime:\n",
    "\n",
    "```\n",
    "pow(3,5)\n",
    "    pow(3,4)\n",
    "        pow(3,3)\n",
    "            pow(3,2)\n",
    "                pow(3,1)\n",
    "                    pow(3,0)\n",
    "                    return 1\n",
    "                return 3\n",
    "            return 9\n",
    "        return 27\n",
    "    return 81\n",
    "return 243\n",
    "```"
   ]
  },
  {
   "cell_type": "markdown",
   "metadata": {},
   "source": [
    "Now let us look at an example for which there is not already an operator in Python. For example, the Fibonacci number for an integer n is defined as:\n",
    "\n",
    "fib(n) = fib(n-1) + fib(n-2)  if n > 1, 1 if n = 1 and 0 if n = 0\n",
    "\n",
    "In Python:"
   ]
  },
  {
   "cell_type": "code",
   "execution_count": null,
   "metadata": {},
   "outputs": [],
   "source": [
    "def fib(n):\n",
    "    if n > 1:\n",
    "        return fib(n-1) + fib(n-2)\n",
    "    elif n == 1:\n",
    "        return 1\n",
    "    else:\n",
    "        return 0\n",
    "    \n",
    "n = int(input(\"Please enter an integer number: \"))\n",
    "print(f\"fib({n}) = {fib(n)}\")"
   ]
  },
  {
   "cell_type": "markdown",
   "metadata": {},
   "source": [
    "Same function, but here the base cases come first, then, the recursive case:"
   ]
  },
  {
   "cell_type": "code",
   "execution_count": null,
   "metadata": {},
   "outputs": [],
   "source": [
    "def fib(n):\n",
    "    if n == 0:\n",
    "        return 0\n",
    "    elif n == 1:\n",
    "        return 1\n",
    "    else:\n",
    "        return fib(n-1) + fib(n-2)\n",
    "    \n",
    "n = int(input(\"Please enter an integer number: \"))\n",
    "print(f\"fib({n}) = {fib(n)}\")"
   ]
  },
  {
   "cell_type": "markdown",
   "metadata": {},
   "source": [
    "The call stack here is a bit more complex than above (only shown for fib(4) to keep it short):"
   ]
  },
  {
   "cell_type": "markdown",
   "metadata": {},
   "source": [
    "```\n",
    "fib(4)  \n",
    "    fib(3)\n",
    "        fib(2)\n",
    "            fib(1)\n",
    "            return 1\n",
    "            fib(0)\n",
    "            return 0\n",
    "        return 1\n",
    "        fib(1)\n",
    "        return 1\n",
    "    return 2\n",
    "    fib(2)\n",
    "        fib(1)\n",
    "        return 1\n",
    "        fib(0)\n",
    "        return 0\n",
    "    return 1\n",
    "return 3\n",
    "```\n"
   ]
  },
  {
   "cell_type": "markdown",
   "metadata": {},
   "source": [
    "A *call stack* is a mechanism for an interpreter (like Python) to keep track of its place in a script that calls multiple functions — what function is currently being run and what functions are called from within that function.\n",
    "\n",
    "Here is another, non-mathematical example:"
   ]
  },
  {
   "cell_type": "code",
   "execution_count": null,
   "metadata": {},
   "outputs": [],
   "source": [
    "def walk_up_and_down(floors):\n",
    "    if floors > 0:\n",
    "        print(\"Walk one floor up.\")\n",
    "        walk_up_and_down(floors-1)\n",
    "        print(\"Walk one floor down.\")\n",
    "    else:\n",
    "        print(\"Reached the top floor!\")\n",
    "        \n",
    "walk_up_and_down(3)"
   ]
  },
  {
   "cell_type": "markdown",
   "metadata": {},
   "source": [
    "The call stack here is straightforward again. Note that also without an explicit \"return value\" statement, the function returns control to its caller when it is finished, but then without returning a value:\n",
    "```\n",
    "walk_up_and_down(3)\n",
    "    walk_up_and_down(2)\n",
    "        walk_up_and_down(1)\n",
    "            walk_up_and_down(0)\n",
    "            (return)\n",
    "        (return)\n",
    "    (return)\n",
    "(return)\n",
    "```\n",
    "```\n",
    "walk_up_and_down(3)\n",
    "    [Walk one floor up.]\n",
    "    walk_up_and_down(2)\n",
    "        [Walk one floor up.]\n",
    "        walk_up_and_down(1)\n",
    "            [Walk one floor up.]\n",
    "            walk_up_and_down(0)\n",
    "            [Reached the top floor!]\n",
    "            (return)\n",
    "            [Walk one floor down.]\n",
    "        (return)\n",
    "        [Walk one floor down.]\n",
    "    (return)\n",
    "    [Walk one floor down.]\n",
    "(return)\n",
    "```\n",
    "\n",
    "Each recursion can be implemented by an iterative loop, and vice versa. For the walking-up-and-down example, a corresponding iterative version is:"
   ]
  },
  {
   "cell_type": "code",
   "execution_count": null,
   "metadata": {},
   "outputs": [],
   "source": [
    "def walk_up_and_down_iteratively(floors):\n",
    "    i = 0\n",
    "    while i < floors:\n",
    "        print(\"Walk one floor up.\")\n",
    "        i = i + 1\n",
    "    print(\"Reached the top floor!\")\n",
    "    while i > 0:\n",
    "        print(\"Walk one floor down.\")\n",
    "        i = i - 1\n",
    "        \n",
    "walk_up_and_down_iteratively(3)"
   ]
  },
  {
   "cell_type": "markdown",
   "metadata": {},
   "source": [
    "Generally, iterative implementations tend to be faster (because they do not have to create several instances of the same method), but sometimes a recursive solution is more elegant (though maybe more difficult to understand)."
   ]
  },
  {
   "cell_type": "markdown",
   "metadata": {},
   "source": [
    "## Data Structures in Python \n",
    "We have already seen the four basic data types that Python provides: string, integer, float and boolean. Data structures are more than data types, they are used to represent more complex types of data. There are four built-in data structures in Python: lists, tuples, dictionaries and sets. They are all special kinds of variables that can store more than just one value. Today we will study lists.\n",
    "\n",
    "In lists, elements have a defined order. Lists are *mutable* data structures, meaning that it is possible to add, edit or delete elements. Lists allow for duplicates. Finally, lists are iterable, that is, a for-loop can automatically go through all their elements.\n",
    "\n",
    "| Data Structure | Ordered | Mutable | Unique | Iterable |\n",
    "|----------------|:-------:|:-------:|:------:|:--------:|\n",
    "| List           |   Yes   |   Yes   |   No   |    Yes   |\n",
    "| Tuple          |    ?    |   ?     |   ?    |    ?     |\n",
    "| Dictionary     |    ?    |   ?     |   ?    |    ?     |\n",
    "| Set            |    ?    |   ?     |   ?    |    ?     |\n",
    "\n",
    "We will complete this table next lecture."
   ]
  },
  {
   "cell_type": "markdown",
   "metadata": {},
   "source": [
    "### Lists\n",
    "\n",
    "Here is an example of a list in Python, containing the first 12 [Fibonacci numbers](https://en.wikipedia.org/wiki/Fibonacci_number):"
   ]
  },
  {
   "cell_type": "code",
   "execution_count": null,
   "metadata": {},
   "outputs": [],
   "source": [
    "fibonacci_numbers = [1, 1, 2, 3, 5, 8, 13, 21, 34, 55, 89, 144] "
   ]
  },
  {
   "cell_type": "markdown",
   "metadata": {},
   "source": [
    "That is, lists can simply be defined by comma-separated lists of values in square brackets:\n",
    "\n",
    "```\n",
    "<list_name> = [<value1>, <value2>, …, <valueN>]\n",
    "```\n",
    "\n",
    "Lists can also contain values of different types, for example:"
   ]
  },
  {
   "cell_type": "code",
   "execution_count": null,
   "metadata": {},
   "outputs": [],
   "source": [
    "person_details = [\"Bob\", \"Smith\", \"22.05.1987\", 1.6, 4094379] "
   ]
  },
  {
   "cell_type": "markdown",
   "metadata": {},
   "source": [
    "Individual elements of lists can be accessed by giving their position (index) in the list in square brackets directly behind the name of the variable:\n",
    "\n",
    "```\n",
    "<list_name>[<index>]\n",
    "```\n",
    "\n",
    "For historical technical reasons the first index of a list is not 1, but 0, and accordingly the last index is its length – 1. For example, we can print the 7th Fibonacci number (13) by:"
   ]
  },
  {
   "cell_type": "code",
   "execution_count": null,
   "metadata": {},
   "outputs": [],
   "source": [
    "print(fibonacci_numbers[6]) "
   ]
  },
  {
   "cell_type": "markdown",
   "metadata": {},
   "source": [
    "Or Bob's last name by:"
   ]
  },
  {
   "cell_type": "code",
   "execution_count": null,
   "metadata": {},
   "outputs": [],
   "source": [
    "print(person_details[1]) "
   ]
  },
  {
   "cell_type": "markdown",
   "metadata": {},
   "source": [
    "Conversely, a new value can be assigned to a list element, for example a new last name for Bob:"
   ]
  },
  {
   "cell_type": "code",
   "execution_count": null,
   "metadata": {},
   "outputs": [],
   "source": [
    "person_details[1] = \"Tailor\" "
   ]
  },
  {
   "cell_type": "markdown",
   "metadata": {},
   "source": [
    "Resulting in a changed list:"
   ]
  },
  {
   "cell_type": "code",
   "execution_count": null,
   "metadata": {},
   "outputs": [],
   "source": [
    "print(person_details) "
   ]
  },
  {
   "cell_type": "markdown",
   "metadata": {},
   "source": [
    "We can delete an element from the list, for example:"
   ]
  },
  {
   "cell_type": "code",
   "execution_count": null,
   "metadata": {},
   "outputs": [],
   "source": [
    "del person_details[4] "
   ]
  },
  {
   "cell_type": "markdown",
   "metadata": {},
   "source": [
    "Resulting in:"
   ]
  },
  {
   "cell_type": "code",
   "execution_count": null,
   "metadata": {},
   "outputs": [],
   "source": [
    "print(person_details) "
   ]
  },
  {
   "cell_type": "markdown",
   "metadata": {},
   "source": [
    "The operators \"in\" and \"not in\" can be used to check if a particular values is contained in a list (or not):"
   ]
  },
  {
   "cell_type": "code",
   "execution_count": null,
   "metadata": {},
   "outputs": [],
   "source": [
    "if \"Bob\" in person_details:\n",
    "    print(\"Bob is there.\")\n",
    "if \"John\" in person_details:\n",
    "    print(\"John is there.\")\n",
    "if \"Bob\" not in person_details:\n",
    "    print(\"Bob is not there.\")\n",
    "if \"John\" not in person_details:\n",
    "    print(\"John is not there.\")"
   ]
  },
  {
   "cell_type": "markdown",
   "metadata": {},
   "source": [
    "Using the ```len``` function we can get the length of a list:"
   ]
  },
  {
   "cell_type": "code",
   "execution_count": null,
   "metadata": {},
   "outputs": [],
   "source": [
    "print(len(person_details))"
   ]
  },
  {
   "cell_type": "markdown",
   "metadata": {},
   "source": [
    "Lists can also be used as iterable objects for for-loops, which are in fact a convenient way for going through the elements of a list. Here is an example:"
   ]
  },
  {
   "cell_type": "code",
   "execution_count": null,
   "metadata": {},
   "outputs": [],
   "source": [
    "numbers = [2, 4, 6, 8, 10]\n",
    "for n in numbers:\n",
    "    print(n)"
   ]
  },
  {
   "cell_type": "markdown",
   "metadata": {},
   "source": [
    "Nesting for-loops into each other is also easy with lists. If we want, for example, to determine all matches to be played in a \"Province League\" between the provinces in Ireland (Gaelic football or Rugby or …) the following piece of code is sufficient:"
   ]
  },
  {
   "cell_type": "code",
   "execution_count": null,
   "metadata": {},
   "outputs": [],
   "source": [
    "teams = [\"Connacht\", \"Ulster\", \"Munster\", \"Leinster\"]\n",
    "for home in teams:\n",
    "    for guest in teams:\n",
    "        if home != guest:\n",
    "            print(f\"{home} : {guest}\") "
   ]
  },
  {
   "cell_type": "markdown",
   "metadata": {},
   "source": [
    "Lists in Python are *ordered*, meaning that its elements are stored and retrieved in a specific order. You might want to *sort* a list, i.e., make the ordering of the list match the natural ordering given by the nature of its elements. For example, you might want to sort a list of strings in alphabetical order. The simplest way to do this in Python is with the ```sort()``` function for lists:"
   ]
  },
  {
   "cell_type": "code",
   "execution_count": null,
   "metadata": {},
   "outputs": [],
   "source": [
    "names = [\"Hieke\", \"Alexander\", \"Sergey\", \"Anna-Lena\", \"Amir\"]\n",
    "print(names)\n",
    "names.sort()\n",
    "print(names)"
   ]
  },
  {
   "cell_type": "markdown",
   "metadata": {},
   "source": [
    "Note here that the list is sorted by calling ```names.sort()```, and not ```sort(names)``` as you might have expected. The reason is that the methods ```sort()``` is provided by the list class, hence it can be called on all instances of list, like ```names``` in our example. In contrast, a method like print() is not connected to a particular object, and is just called by itself.\n",
    "\n",
    "There are a few other useful object methods available for lists:\n",
    "\n",
    "\n",
    "  ```<list>.index(<value>)``` returns the index of the first occurrence of the value in the list\n",
    " \n",
    "  ```<list>.append(<value>)``` appends the value to the list as new element\n",
    " \n",
    "  ```<list>.remove(<value>)``` removes the (first) element with the value from the list\n",
    " \n",
    "\n",
    "Here is a simple random example:"
   ]
  },
  {
   "cell_type": "code",
   "execution_count": null,
   "metadata": {},
   "outputs": [],
   "source": [
    "numbers = [4, 31, 34, 2, 3, 13, 53, 54, 2]\n",
    "print(numbers)\n",
    "print(f\"Index(2): {numbers.index(2)}\")\n",
    "numbers.append(99)\n",
    "print(numbers)\n",
    "numbers.remove(2)\n",
    "print(numbers)\n",
    "print(f\"Index(2): {numbers.index(2)}\")"
   ]
  },
  {
   "cell_type": "markdown",
   "metadata": {},
   "source": [
    "Maybe you have wondered if lists can also contain others lists. Yes, there are also lists of lists. Here is an example, doing the opposite of sorting, namely creating a random running order of presentations:"
   ]
  },
  {
   "cell_type": "code",
   "execution_count": null,
   "metadata": {},
   "outputs": [],
   "source": [
    "import random\n",
    "\n",
    "presentations = [[\"Bob\", \"World Heritage Sites in Montenegro\"], \\\n",
    "                 [\"Elise\", \"The discography of Lecrae\"], \\\n",
    "                 [\"Evelyne\", \"Amphibian species in the American state of Texas\"], \\\n",
    "                 [\"Harry\", \"Notable individuals who have been affiliated with Pomona College\"], \\\n",
    "                 [\"Jack\", \"27 local nature reserves in Cambridgeshire\"], \\\n",
    "                 [\"Linda\", \"The 2018 Atlantic hurricane season\"], \\\n",
    "                 [\"Michael\", \"The chief minister of Jharkhand\"], \\\n",
    "                 [\"Paul\", \"The cartography of Jerusalem\"]]\n",
    "\n",
    "random.shuffle(presentations)\n",
    "\n",
    "i = 0\n",
    "print(\"Presentations on Tuesday, April 3:\")\n",
    "while i < len(presentations)/2:\n",
    "    print(f\"\\t {presentations[i][0]}: {presentations[i][1]}\")\n",
    "    i += 1\n",
    "print(\"Presentations on Thursday, April 4:\")\n",
    "while i < len(presentations):\n",
    "    print(f\"\\t {presentations[i][0]}: {presentations[i][1]}\")\n",
    "    i += 1"
   ]
  },
  {
   "cell_type": "markdown",
   "metadata": {},
   "source": [
    "We can also use slicing to split the above list in two. Slicing allows to refer to a whole range of indexes instead to just a single one. A slicing expression has the following basic form, referring to all elements from the first index to the one before the last index:\n",
    "\n",
    "```\n",
    "<list>[<first_index>:<last_index>]\n",
    "```\n",
    "    \n",
    "That can for instance be used to replace the while loops in the example above by for-loops:"
   ]
  },
  {
   "cell_type": "code",
   "execution_count": null,
   "metadata": {},
   "outputs": [],
   "source": [
    "print(\"Presentations on Tuesday, April 3:\")\n",
    "for presentation in presentations[0:len(presentations)//2]:\n",
    "    print(f\"\\t {presentation[0]}: {presentation[1]}\")   \n",
    "    \n",
    "print(\"Presentations on Thursday, April 4:\")\n",
    "for presentation in presentations[len(presentations)//2:8]:\n",
    "    print(f\"\\t {presentation[0]}: {presentation[1]}\") "
   ]
  },
  {
   "cell_type": "markdown",
   "metadata": {},
   "source": [
    "When copying lists, whether completely or partially with the slicing operators, it needs to be taken into account that copying of complex objects like lists behaves a bit differently than the copying of simple variable values. If the usual assignment operator (=) is used, only the reference to the list is copied, meaning that all changes to the original list are also visible in the copied list, because they refer to the same object. When using the slicing operator or a dedicated `copy()` function, the (respective) elements of the list are copied into a new object that is independent from the original. This is sometimes also called a \"shallow copy\". If the list contains a reference to another list or complex object, however, only the reference will be copied. Therefore, in this case \"deep copy\" needs to be made in order to copy the whole list completely. The following code illustrates the difference:"
   ]
  },
  {
   "cell_type": "code",
   "execution_count": null,
   "metadata": {},
   "outputs": [],
   "source": [
    "import copy\n",
    "\n",
    "short_list = [\"1\", \"2\", \"3\"]\n",
    "long_list = [\"a\", \"b\", \"c\", \"d\", \"e\", \"f\", \"g\", short_list]\n",
    "\n",
    "# assignment\n",
    "assigned_list = long_list\n",
    "print(assigned_list)\n",
    "del short_list[0]\n",
    "del long_list[3]\n",
    "print(assigned_list)\n",
    "\n",
    "# (shallow) copy\n",
    "copied_list = copy.copy(long_list)\n",
    "print(copied_list)\n",
    "del short_list[0]\n",
    "del long_list[3]\n",
    "print(copied_list)\n",
    "\n",
    "# deep copy\n",
    "deep_copied_list = copy.deepcopy(long_list)\n",
    "print(deep_copied_list)\n",
    "del short_list[0]\n",
    "del long_list[3]\n",
    "print(deep_copied_list)\n"
   ]
  },
  {
   "cell_type": "markdown",
   "metadata": {},
   "source": [
    "The main reason for not doing deep copies of lists by default is that they are typically slower and in many cases not necessary.\n",
    "\n",
    "Finally two more notes on indexing in Python: So far we have seen forward indexing, from 0 to len(list)-1, is it is common also in a lot of other programming languages. Python allows additionally also for backward indexing, where the last element in the list is indexed with –1, and the first with –len(list). For example, consider the list of Fibonacci numbers from above again:"
   ]
  },
  {
   "cell_type": "code",
   "execution_count": null,
   "metadata": {},
   "outputs": [],
   "source": [
    "fibonacci_numbers = [1, 1, 2, 3, 5, 8, 13, 21, 34, 55, 89, 144]"
   ]
  },
  {
   "cell_type": "markdown",
   "metadata": {},
   "source": [
    "The first 1 has index 0, or alternatively index –12. The 144 has index 11, or alternatively –1. The 5 can be indexed by 4 or –8:"
   ]
  },
  {
   "cell_type": "code",
   "execution_count": null,
   "metadata": {},
   "outputs": [],
   "source": [
    "print(f\"{fibonacci_numbers[0]} == {fibonacci_numbers[-12]}\")\n",
    "print(f\"{fibonacci_numbers[11]} == {fibonacci_numbers[-1]}\")\n",
    "print(f\"{fibonacci_numbers[4]} == {fibonacci_numbers[-8]}\")"
   ]
  },
  {
   "cell_type": "markdown",
   "metadata": {},
   "source": [
    "And then there is the so-called unspecified index that can be used with slicing. If the first index of the slice is left unspecified, it refers to all elements in the list from the beginning to the second index - 1. If the second index is left unspecified, it refers to the first index and all remaining elements after it:"
   ]
  },
  {
   "cell_type": "code",
   "execution_count": null,
   "metadata": {},
   "outputs": [],
   "source": [
    "print(fibonacci_numbers[:6])\n",
    "print(fibonacci_numbers[6:])"
   ]
  },
  {
   "cell_type": "markdown",
   "metadata": {},
   "source": [
    "## Exercises\n",
    "\n",
    "Please use Quarterfall to submit and check your answers. "
   ]
  },
  {
   "cell_type": "markdown",
   "metadata": {},
   "source": [
    "### 1. Ackermann Function (★★★★☆)\n",
    "The Ackermann function (named after the German mathematician Wilhelm Friedrich Ackermann) grows rapidly already for small inputs. It exists in different variants, one of the common definitions is the following (for two nonnegative integers m and n):\n",
    "\n",
    "![](img/ackermann.png)\n",
    "\n",
    "Define and implement a (recursive) function ackermann(m,n) that computes the Ackermann function value for two nonnegative integers m and n. Then, write a test program that computes the results for calling the function with growing m and n of the same value, starting with m = n = 0 and incrementing by 1 in each iteration. The output should be something like: \n",
    "```\n",
    "ackermann(0,0) = 1\n",
    "ackermann(1,1) = 3\n",
    "ackermann(2,2) = 7\n",
    "[...]\n",
    "```\n",
    "What is the last value that your program computes before you get a `RecursionError`? (Hint: It might be that the outputs in the IPython console in Spyder are too verbose to see anything. You can alternatively run your program from the command line to see more.) What does this error mean?"
   ]
  },
  {
   "cell_type": "markdown",
   "metadata": {},
   "source": [
    "### 2. String Reverse (★★★★☆)\n",
    "Strings can be indexed like lists, that is, an expression like <string>[<index>] returns the character at the corresponding position in the string. The first character of the string has index 0, and the last is at position len(<string>)-1. A sub-sequence of a string can be obtained by specifying a range of indexes. For example, <string>[1:len(<string>)] will return a string containing all characters but the first of the original string.\n",
    "    \n",
    "Implement three different variants of a function for reversing a string:\n",
    "1. reverse_recursive(string), solving the problem recursively\n",
    "2. reverse_while(string), solving the problem using a while-loop\n",
    "3. reverse_for(string), solving the problem using a for-loop\n",
    "    \n",
    "You can use the following code to test your functions. The last output should be \"True\".\n",
    "```\n",
    "# test program\n",
    "string_to_reverse = \"This is just a test.\"\n",
    "print(reverse_recursive(string_to_reverse))\n",
    "print(reverse_while(string_to_reverse))\n",
    "print(reverse_for(string_to_reverse))\n",
    "print(reverse_recursive(string_to_reverse) == reverse_while(string_to_reverse) == reverse_for(string_to_reverse))\n",
    "```"
   ]
  },
  {
   "cell_type": "markdown",
   "metadata": {},
   "source": [
    "### 3. Irish League (★★★☆☆)\n",
    "\n",
    "Consider again the \"Irish League\" example from the lecture:\n",
    "```\n",
    "teams = [\"Connacht\", \"Ulster\", \"Munster\", \"Leinster\"]\n",
    "for home in teams:\n",
    "    for guest in teams:\n",
    "        if home != guest:\n",
    "            print(home, \":\", guest)\n",
    "```\n",
    "\n",
    "Add another list at the beginning:\n",
    "```\n",
    "dates = [\"June 1\", \"June 2\", \"June 3\", \"June 4\", \"June 5\", \"June 6\", \\\n",
    "         \"June 7\", \"June 8\", \"June 9\", \"June 10\", \"June 11\", \"June 12\"]\n",
    "```\n",
    "Then adapt the code so that it does not only print the pairings, but also the date on which the match shall take place (using the dates in the list in the order they appear there). The output should then be:\n",
    "```\n",
    "Connacht : Ulster (June 1)\n",
    "Connacht : Munster (June 2)\n",
    "Connacht : Leinster (June 3)\n",
    "Ulster : Connacht (June 4)\n",
    "Ulster : Munster (June 5)\n",
    "Ulster : Leinster (June 6)\n",
    "Munster : Connacht (June 7)\n",
    "Munster : Ulster (June 8)\n",
    "Munster : Leinster (June 9)\n",
    "Leinster : Connacht (June 10)\n",
    "Leinster : Ulster (June 11)\n",
    "Leinster : Munster (June 12)\n",
    "```"
   ]
  },
  {
   "cell_type": "markdown",
   "metadata": {},
   "source": [
    "### 4. List of Fibonacci Numbers (★★★★☆)\n",
    "Implement a `function fib(n)` that returns a list with the first n Fibonacci numbers. If `n==0`, it should directly return the list `[1]`, if `n==1`, it should return `[1,1]`, and if `n>1` it should use `[1,1]` as a start and compute Fibonacci numbers 2 to n by always adding the two predecessors in the list. \n",
    "You can use the following code to test your function:\n",
    "```\n",
    "print(fib(0))\n",
    "print(fib(1))\n",
    "print(fib(2))\n",
    "print(fib(12))\n",
    "```\n",
    "The output should be:\n",
    "```\n",
    "[1]\n",
    "[1, 1]\n",
    "[1, 1, 2]\n",
    "[1, 1, 2, 3, 5, 8, 13, 21, 34, 55, 89, 144, 233]\n",
    "```"
   ]
  }
 ],
 "metadata": {
  "kernelspec": {
   "display_name": "Python 3",
   "language": "python",
   "name": "python3"
  },
  "language_info": {
   "codemirror_mode": {
    "name": "ipython",
    "version": 3
   },
   "file_extension": ".py",
   "mimetype": "text/x-python",
   "name": "python",
   "nbconvert_exporter": "python",
   "pygments_lexer": "ipython3",
   "version": "3.8.12"
  }
 },
 "nbformat": 4,
 "nbformat_minor": 4
}
