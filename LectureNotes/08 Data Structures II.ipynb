{
 "cells": [
  {
   "cell_type": "markdown",
   "metadata": {},
   "source": [
    "# Module 8: Data Structures II\n",
    "March 3, 2023"
   ]
  },
  {
   "cell_type": "markdown",
   "metadata": {},
   "source": [
    "Last time we discussed recursion and the most fundamental data structure in Python: the list.\n",
    "\n",
    "Today we discuss more data structures (tuples, dictionaries, sets). We will also discuss the important difference between call by value and call by reference.\n",
    "\n",
    "Next time we will cover how to read and write files in general, how to deal with CSV files in particular, and how to handle runtime errors that can for example be caused by user inputs or file operations."
   ]
  },
  {
   "cell_type": "markdown",
   "metadata": {},
   "source": [
    "## Data Structures in Python \n",
    "\n",
    "| Data Structure | Ordered | Mutable | Unique | Iterable |\n",
    "|----------------|:-------:|:-------:|:------:|:--------:|\n",
    "| List           |   Yes   |   Yes   |   No   |    Yes   |\n",
    "| Tuple          |   Yes   |    No   |   No   |    Yes   |\n",
    "| Dictionary     |    No   |   Yes   |  Yes*  |    Yes   |\n",
    "| Set            |    No   |   Yes   |   Yes  |    Yes   |\n",
    "\n",
    "*Keys are unique, while values can be repeated (more on this below)"
   ]
  },
  {
   "cell_type": "markdown",
   "metadata": {},
   "source": [
    "### Tuples\n",
    "Tuples are actually very similar to lists, just that they are immutable and cannot be changed. Thus, they only support operations that read from them, but no operations that would change or delete the data structure.\n",
    "In practice tuples are frequently obtained as a result from library functions, but they can also be created directly, by using round brackets:\n",
    "\n",
    "```\n",
    "<tuple_name> = (<value1>, <value2>, …, <valueN>)\n",
    "```\n",
    "\n",
    "For example:\n"
   ]
  },
  {
   "cell_type": "code",
   "execution_count": 1,
   "metadata": {},
   "outputs": [
    {
     "name": "stdout",
     "output_type": "stream",
     "text": [
      "('Thursday', 'lunch', 'pasta', 3.95)\n"
     ]
    }
   ],
   "source": [
    "sample = (\"Thursday\", \"lunch\", \"pasta\", 3.95)\n",
    "print(sample)"
   ]
  },
  {
   "cell_type": "markdown",
   "metadata": {},
   "source": [
    "All reading operations (such as indexing, slicing, iteration…) work in the same way as on lists, for example:"
   ]
  },
  {
   "cell_type": "code",
   "execution_count": 2,
   "metadata": {},
   "outputs": [
    {
     "name": "stdout",
     "output_type": "stream",
     "text": [
      "Thursday\n",
      "('pasta', 3.95)\n",
      "Thursday\n",
      "lunch\n",
      "pasta\n",
      "3.95\n"
     ]
    }
   ],
   "source": [
    "print(sample[0])\n",
    "print(sample[len(sample)//2:])\n",
    "\n",
    "for s in sample:\n",
    "    print(s)"
   ]
  },
  {
   "cell_type": "markdown",
   "metadata": {},
   "source": [
    "However, writing operations are not possible on tuples, that is, no changing of elements, no deletions, no appending, no sorting, etc."
   ]
  },
  {
   "cell_type": "code",
   "execution_count": 3,
   "metadata": {},
   "outputs": [
    {
     "name": "stdout",
     "output_type": "stream",
     "text": [
      "'tuple' object does not support item assignment\n"
     ]
    }
   ],
   "source": [
    "s = (1, 2, 3)\n",
    "try:\n",
    "    s[0] = 10\n",
    "except TypeError as e:\n",
    "    print(e)"
   ]
  },
  {
   "cell_type": "markdown",
   "metadata": {},
   "source": [
    "In practice, tuples are frequently used for example by web services or other APIs to return results. You cannot manipulate these directly, but of course access them and copy the contained values to other data structures. Being read-only data structures also makes operations on tuples faster than on lists, so when working with large collections of data that does not change, the use of tuples might be preferred over lists. Furthermore, tuples are also used to make functions return more than one value. For example:"
   ]
  },
  {
   "cell_type": "code",
   "execution_count": 4,
   "metadata": {},
   "outputs": [
    {
     "name": "stdout",
     "output_type": "stream",
     "text": [
      "(3, 2)\n"
     ]
    }
   ],
   "source": [
    "def integer_division(a,b):\n",
    "    quotient = a//b\n",
    "    remainder = a%b\n",
    "    return quotient, remainder\n",
    "\n",
    "print(integer_division(20,6))"
   ]
  },
  {
   "cell_type": "markdown",
   "metadata": {},
   "source": [
    "Note that the return statement does not explicitly define the pair of numbers as a tuple, but any comma-separated list of return values as shown here will automatically be turned into a tuple."
   ]
  },
  {
   "cell_type": "markdown",
   "metadata": {},
   "source": [
    "### Dictionaries\n",
    "\n",
    "Dictionaries are another complex data structure in Python that can be used to store several values, or more precisely key-value pairs. Keys must be unique and immutable (to be safe it is best to only use simple data types such as strings or numbers as keys), while values can occur repeatedly and be any kind of data type. Dictionaries can be defined as follows:\n",
    "\n",
    "```\n",
    "<dictionary_name> = {<key1>:<value1>,… ,<keyN>:<valueN>}\n",
    "```\n",
    "\n",
    "For example:"
   ]
  },
  {
   "cell_type": "code",
   "execution_count": 5,
   "metadata": {},
   "outputs": [],
   "source": [
    "person_details = {\"First name\":\"Bob\", \"Last name\":\"Smith\", \"Building\":\"BBG\", \"Room\":223} "
   ]
  },
  {
   "cell_type": "markdown",
   "metadata": {},
   "source": [
    "The ```print()``` function can also print out dictionaries, for example:"
   ]
  },
  {
   "cell_type": "code",
   "execution_count": 6,
   "metadata": {},
   "outputs": [
    {
     "name": "stdout",
     "output_type": "stream",
     "text": [
      "{'First name': 'Bob', 'Last name': 'Smith', 'Building': 'BBG', 'Room': 223}\n"
     ]
    }
   ],
   "source": [
    "print(person_details)"
   ]
  },
  {
   "cell_type": "markdown",
   "metadata": {},
   "source": [
    "While in lists a numerical index is used to access the element at a certain position, with dictionaries the key is used to access a particular value. The order of the pairs inside the data structure should not bother the programmer. The basic syntax for accessing a value is:\n",
    "\n",
    "```\n",
    "<dictionary_name>[<key>]\n",
    "```\n",
    "    \n",
    "For example, to print out the first name of the person, we can use the following code:"
   ]
  },
  {
   "cell_type": "code",
   "execution_count": 7,
   "metadata": {},
   "outputs": [
    {
     "name": "stdout",
     "output_type": "stream",
     "text": [
      "First name:Bob\n"
     ]
    }
   ],
   "source": [
    "print(f\"First name:\" + person_details[\"First name\"])"
   ]
  },
  {
   "cell_type": "markdown",
   "metadata": {},
   "source": [
    "To change the value for a key or to add a new key-value pair to a dictionary, the assignment statement can be used, for example:"
   ]
  },
  {
   "cell_type": "code",
   "execution_count": 8,
   "metadata": {},
   "outputs": [],
   "source": [
    "person_details[\"Last name\"] = \"Tailor\"\n",
    "person_details[\"Phone\"] = 1234"
   ]
  },
  {
   "cell_type": "markdown",
   "metadata": {},
   "source": [
    "Resulting in a changed dictionary:"
   ]
  },
  {
   "cell_type": "code",
   "execution_count": 9,
   "metadata": {},
   "outputs": [
    {
     "name": "stdout",
     "output_type": "stream",
     "text": [
      "{'First name': 'Bob', 'Last name': 'Tailor', 'Building': 'BBG', 'Room': 223, 'Phone': 1234}\n"
     ]
    }
   ],
   "source": [
    "print(person_details)"
   ]
  },
  {
   "cell_type": "markdown",
   "metadata": {},
   "source": [
    "Elements can be deleted from a dictionary also via their key, for example:"
   ]
  },
  {
   "cell_type": "code",
   "execution_count": 10,
   "metadata": {},
   "outputs": [],
   "source": [
    "del person_details[\"Building\"]\n",
    "del person_details[\"Room\"]"
   ]
  },
  {
   "cell_type": "markdown",
   "metadata": {},
   "source": [
    "Resulting in:"
   ]
  },
  {
   "cell_type": "code",
   "execution_count": 11,
   "metadata": {},
   "outputs": [
    {
     "name": "stdout",
     "output_type": "stream",
     "text": [
      "{'First name': 'Bob', 'Last name': 'Tailor', 'Phone': 1234}\n"
     ]
    }
   ],
   "source": [
    "print(person_details)"
   ]
  },
  {
   "cell_type": "markdown",
   "metadata": {},
   "source": [
    "Just as lists, also dictionaries know their length, that is, the number of key-value pairs in them:"
   ]
  },
  {
   "cell_type": "code",
   "execution_count": 12,
   "metadata": {},
   "outputs": [
    {
     "name": "stdout",
     "output_type": "stream",
     "text": [
      "3\n"
     ]
    }
   ],
   "source": [
    "print(len(person_details))"
   ]
  },
  {
   "cell_type": "markdown",
   "metadata": {},
   "source": [
    "The operators \"in\" and \"not in\" can be used to check if a **key** is contained in a dictionary (or not):"
   ]
  },
  {
   "cell_type": "code",
   "execution_count": 13,
   "metadata": {},
   "outputs": [
    {
     "name": "stdout",
     "output_type": "stream",
     "text": [
      "True\n",
      "False\n"
     ]
    }
   ],
   "source": [
    "print(\"First name\" in person_details)\n",
    "print(\"Bob\" in person_details)"
   ]
  },
  {
   "cell_type": "markdown",
   "metadata": {},
   "source": [
    "Now let's look at a more comprehensive example with dictionaries. The following small program lets the user enter a number of term-definition pairs for a glossary, then prints the glossary alphabetically sorted by the terms:"
   ]
  },
  {
   "cell_type": "code",
   "execution_count": 14,
   "metadata": {},
   "outputs": [
    {
     "name": "stdin",
     "output_type": "stream",
     "text": [
      "Please enter term:  list\n",
      "Please enter definition:   abstract data type that represents a finite number of ordered values\n",
      "Do you want to add another entry? (y/n)  y\n",
      "Please enter term:  tree\n",
      "Please enter definition:  a widely used abstract data type that represents a hierarchical tree structure with a set of connected nodes.\n",
      "Do you want to add another entry? (y/n)  n\n"
     ]
    },
    {
     "name": "stdout",
     "output_type": "stream",
     "text": [
      "list:  abstract data type that represents a finite number of ordered values\n",
      "tree: a widely used abstract data type that represents a hierarchical tree structure with a set of connected nodes.\n"
     ]
    }
   ],
   "source": [
    "glossary = {}\n",
    "\n",
    "while True:\n",
    "    new_key = input(\"Please enter term: \")\n",
    "    new_value = input(\"Please enter definition: \")\n",
    "    glossary[new_key] = new_value\n",
    "    more_entries = input(\"Do you want to add another entry? (y/n) \")\n",
    "    if more_entries != \"y\":\n",
    "        break\n",
    "        \n",
    "keys = list(glossary.keys())\n",
    "keys.sort()\n",
    "\n",
    "for key in keys:\n",
    "    print(f\"{key}: {glossary[key]}\")"
   ]
  },
  {
   "cell_type": "markdown",
   "metadata": {},
   "source": [
    "As with lists, also with dictionaries there is a difference between a normal \"shallow\" copy through the assignment operator, and a thorough deep copy with the ```copy.deepcopy()``` function."
   ]
  },
  {
   "cell_type": "markdown",
   "metadata": {},
   "source": [
    "### Sets\n",
    "\n",
    "Sets in Python correspond to sets in mathematics. They contain each element only once, and set operations like union and intersection can be performed on them. Sets support membership tests (```in, not in```), but they are unordered and have no index to access individual elements. Sets can be defined as in the following example:"
   ]
  },
  {
   "cell_type": "code",
   "execution_count": 15,
   "metadata": {},
   "outputs": [],
   "source": [
    "set1 = {3,1,2}\n",
    "set2 = set([5,6,4])"
   ]
  },
  {
   "cell_type": "markdown",
   "metadata": {},
   "source": [
    "That is, a list of elements in curly braces defines a set. An empty pair of curly braces is however already reserved for creating an empty dictionary, so alternatively a set can be created as shown in the second line,  but calling the set function with a (possibly empty) list to create a new set.\n",
    "\n",
    "Sets define no order themselves, but commands like print might order the elements:"
   ]
  },
  {
   "cell_type": "code",
   "execution_count": 16,
   "metadata": {},
   "outputs": [
    {
     "name": "stdout",
     "output_type": "stream",
     "text": [
      "{1, 2, 3}\n",
      "{4, 5, 6}\n"
     ]
    }
   ],
   "source": [
    "print(set1)\n",
    "print(set2)"
   ]
  },
  {
   "cell_type": "markdown",
   "metadata": {},
   "source": [
    "Elements can be added and removed from sets with the corresponding functions. Adding and element to a set that is already contained in it will simply have no effect:"
   ]
  },
  {
   "cell_type": "code",
   "execution_count": 17,
   "metadata": {},
   "outputs": [
    {
     "name": "stdout",
     "output_type": "stream",
     "text": [
      "{1, 2, 3}\n",
      "{1, 2, 3, 4}\n"
     ]
    }
   ],
   "source": [
    "set1.add(1)\n",
    "print(set1)\n",
    "set1.add(4)\n",
    "print(set1)"
   ]
  },
  {
   "cell_type": "markdown",
   "metadata": {},
   "source": [
    "The operators |, &, - and ^ can be used to compute the union, intersection, difference and symmetric difference between sets, respectively:"
   ]
  },
  {
   "cell_type": "code",
   "execution_count": 18,
   "metadata": {},
   "outputs": [
    {
     "name": "stdout",
     "output_type": "stream",
     "text": [
      "{1, 2, 3, 4, 5, 6}\n",
      "{4}\n",
      "{5, 6}\n",
      "{1, 2, 3, 5, 6}\n"
     ]
    }
   ],
   "source": [
    "print(set1 | set2)\n",
    "print(set1 & set2)\n",
    "print(set2 - set1) \n",
    "print(set2 ^ set1)  "
   ]
  },
  {
   "cell_type": "markdown",
   "metadata": {},
   "source": [
    "## Call by Reference vs. Call by Value\n",
    "\n",
    "There is an important difference between passing complex data objects (like the data structures discussed this week) as arguments to a function, compared to passing variables of simple types. Have a look at the following code and try to guess what it does before you (execute it and) check the actual output:"
   ]
  },
  {
   "cell_type": "code",
   "execution_count": 19,
   "metadata": {},
   "outputs": [
    {
     "name": "stdout",
     "output_type": "stream",
     "text": [
      "Hello!\n",
      "\t Hello! Hello World!\n",
      "Hello!\n",
      "{}\n",
      "\t {'greeting': 'Hello World!'}\n",
      "{'greeting': 'Hello World!'}\n"
     ]
    }
   ],
   "source": [
    "# function that manipulates the string passed as argument\n",
    "def add_to_string(string, addition):\n",
    "    string = string + addition\n",
    "    print(f\"\\t {string}\")\n",
    "    \n",
    "# function that manipulates the dictionary passed as argument\n",
    "def add_to_dictionary(dictionary, key, value):\n",
    "    dictionary[key] = value\n",
    "    print(f\"\\t {dictionary}\")\n",
    "    \n",
    "#main program\n",
    "a_string = \"Hello!\"\n",
    "print(a_string)\n",
    "add_to_string(a_string, \" Hello World!\")\n",
    "print(a_string)\n",
    "a_dictionary = {}\n",
    "print(a_dictionary)\n",
    "add_to_dictionary(a_dictionary, \"greeting\", \"Hello World!\")\n",
    "print(a_dictionary) "
   ]
  },
  {
   "cell_type": "markdown",
   "metadata": {},
   "source": [
    "A string and a dictionary are defined and then passed to a string and dictionary manipulation function, respectively. The printouts within the functions show the effects of the manipulation. However, the printouts after the function calls show a difference: The string is still the same as before the manipulation, while the dictionary has changed. The reason for this lies in the way that parameters are passed to functions. Passing variables of the basic data types (such as strings, integers, floats and booleans) happens as call-by-value, that is, the current value of the variable is copied to create a new local variable with the same value for use inside the function. Because it is only visible in the scope of the function, however, changes to it will not be visible after the function. To achieve that, the new values would have to be returned by the function and, e.g., assigned to another variable by the calling code.\n",
    "\n",
    "In contrast, passing variables of complex data types (such as lists and dictionaries) happens as call-by-reference. As with shallow copies, only the reference to the (address of the) object in the memory is copied to a new variable and passed as argument, but no (deep) copy of the object itself is created. Thus, manipulations to the object that happen inside a function will also be visible afterwards, also without returning and re-assigning the result of the function. If a function is not supposed to be able to change the object passed as an argument, a (deep) copy needs to be made before it is passed to the function."
   ]
  },
  {
   "cell_type": "markdown",
   "metadata": {},
   "source": [
    "## Exercises\n",
    "\n",
    "Please use Quarterfall to submit and check your answers. "
   ]
  },
  {
   "cell_type": "markdown",
   "metadata": {},
   "source": [
    "### 1. Anagram Test (★★★★☆)\n",
    "An anagram is a word or phrase that is made by rearranging the letters of another word or phrase. For example, \"secure\" is an anagram of \"rescue\".  Write a function is_anagram(word1,word2) that checks if the two words are anagrams of each other. If so, the function should return True, and False otherwise. You can use the following code to test your function:\n",
    "```\n",
    "# Test program\n",
    "print(is_anagram(\"rescue\", \"secure\"))\n",
    "print(is_anagram(\"Rescue\", \"Secure\"))\n",
    "print(is_anagram(\"Rescue\", \"Anchor\"))\n",
    "print(is_anagram(\"Ship\", \"Secure\"))\n",
    "```\n",
    "The output should be:\n",
    "```\n",
    "True\n",
    "True\n",
    "False\n",
    "False\n",
    "```\n",
    "That is, the function should **not** distinguish between upper- and lower-case letters.\n"
   ]
  },
  {
   "cell_type": "markdown",
   "metadata": {},
   "source": [
    "### 2. Room Occupancy (★★★★☆)\n",
    "Imagine a small hostel with four four-bed rooms (with the arbitrarily chosen numbers 101, 102, 201, and 202). You want to write a little program for the hostel staff to help them keep track of the room occupancy and checking guests in and out. The code for the user interaction already exists (see below), but you still need to implement the missing functions:\n",
    "* `print_occupancy` should simply print out a list of all rooms and the guests that are currently checked in.\n",
    "* `check_in` should add a guest to a room. If a non-existing room number is given or if the chosen room is already full, a corresponding message should be printed. It is allowed to have two (or more) guests with the same name in one room. \n",
    "* `check_out` should remove a guest from a room. If a wrong room number or guest name is passed, a corresponding message should be printed. \n",
    "\n",
    "The following code shows how the functions are used. You can also use it to test your implementation:\n",
    "\n",
    "```\n",
    "# Main program\n",
    "room_occupancy = {101:[], 102:[], 201:[], 202:[]} \n",
    "while True:\n",
    "    print(\"These are your options:\")\n",
    "    print(\"1 - View current room occupancy.\")\n",
    "    print(\"2 - Check guest in.\")\n",
    "    print(\"3 - Check guest out.\")\n",
    "    print(\"4 - Exit program.\")\n",
    "    choice = input(\"Please choose what you want to do: \") \n",
    "    if choice == \"1\":\n",
    "        print_occupancy(room_occupancy)\n",
    "    elif choice == \"2\":\n",
    "        guest = input(\"Enter name of guest: \")\n",
    "        room = int(input(\"Enter room number: \"))\n",
    "        check_in(room_occupancy, guest, room)\n",
    "    elif choice == \"3\":\n",
    "        guest = input(\"Enter name of guest: \")\n",
    "        room = int(input(\"Enter room number: \"))\n",
    "        check_out(room_occupancy, guest, room)\n",
    "    elif choice == \"4\":\n",
    "        print(\"Goodbye!\")\n",
    "        break\n",
    "    else:\n",
    "        print(\"Invalid input, try again.\")\n",
    "```"
   ]
  },
  {
   "cell_type": "markdown",
   "metadata": {},
   "source": [
    "### 3. Room Occupancy (★★★★☆)\n",
    "Imagine a small hostel with four four-bed rooms (with the arbitrarily chosen numbers 101, 102, 201, and 202). You want to write a little program for the hostel staff to help them keep track of the room occupancy and checking guests in and out. The code for the user interaction already exists (see below), but you still need to implement the missing functions:\n",
    "* `print_occupancy` should simply print out a list of all rooms and the guests that are currently checked in.\n",
    "* `check_in` should add a guest to a room. If a non-existing room number is given or if the chosen room is already full, a corresponding message should be printed. It is allowed to have two (or more) guests with the same name in one room. \n",
    "* `check_out` should remove a guest from a room. If a wrong room number or guest name is passed, a corresponding message should be printed. \n",
    "\n",
    "The following code shows how the functions are used. You can also use it to test your implementation:\n",
    "\n",
    "```\n",
    "# Main program\n",
    "room_occupancy = {101:[], 102:[], 201:[], 202:[]} \n",
    "while True:\n",
    "    print(\"These are your options:\")\n",
    "    print(\"1 - View current room occupancy.\")\n",
    "    print(\"2 - Check guest in.\")\n",
    "    print(\"3 - Check guest out.\")\n",
    "    print(\"4 - Exit program.\")\n",
    "    choice = input(\"Please choose what you want to do: \") \n",
    "    if choice == \"1\":\n",
    "        print_occupancy(room_occupancy)\n",
    "    elif choice == \"2\":\n",
    "        guest = input(\"Enter name of guest: \")\n",
    "        room = int(input(\"Enter room number: \"))\n",
    "        check_in(room_occupancy, guest, room)\n",
    "    elif choice == \"3\":\n",
    "        guest = input(\"Enter name of guest: \")\n",
    "        room = int(input(\"Enter room number: \"))\n",
    "        check_out(room_occupancy, guest, room)\n",
    "    elif choice == \"4\":\n",
    "        print(\"Goodbye!\")\n",
    "        break\n",
    "    else:\n",
    "        print(\"Invalid input, try again.\")\n",
    "```"
   ]
  }
 ],
 "metadata": {
  "kernelspec": {
   "display_name": "Python 3 (ipykernel)",
   "language": "python",
   "name": "python3"
  },
  "language_info": {
   "codemirror_mode": {
    "name": "ipython",
    "version": 3
   },
   "file_extension": ".py",
   "mimetype": "text/x-python",
   "name": "python",
   "nbconvert_exporter": "python",
   "pygments_lexer": "ipython3",
   "version": "3.8.8"
  }
 },
 "nbformat": 4,
 "nbformat_minor": 4
}
