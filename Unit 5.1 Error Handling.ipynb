{
 "cells": [
  {
   "cell_type": "markdown",
   "metadata": {},
   "source": [
    "# Unit 5.1: Error Handling"
   ]
  },
  {
   "cell_type": "markdown",
   "metadata": {},
   "source": [
    "We have accomplished a lot with Python! We have learned all of the following:\n",
    "\n",
    "- basics of programming: if, while, for\n",
    "- functions, modules, libraries\n",
    "- data structures: lists, sets, dictionaries\n",
    "- object-oriented programming\n",
    "- file input/output\n",
    "- data analysis: pandas, matplotlib, numpy\n",
    "- datetime\n",
    "\n",
    "But all of this assumes that programs just work, without unexpected consequences.\n",
    "\n",
    "We will now look at how to make programs more robust against errors that come from “the outside”."
   ]
  },
  {
   "cell_type": "markdown",
   "metadata": {},
   "source": [
    "There are basically two kinds of errors that can be detected by the Python interpreter: syntax (aka parsing) errors and exceptions (aka runtime or execution-time errors). ```SyntaxErrors``` are caused by syntactically incorrect code (like invalid variable names, forgotten indentations, braces, quotation marks or colons, etc.; integrated development environments (IDEs) will often already point them out to you). They are fixed by correcting the code accordingly. Syntactically correct code can however still cause exceptions during execution. For example, a division by zero will result in a ```ZeroDivisonError```, and a type mismatch between ```str``` and ```int``` will result in a ```TypeError```. We say that an exception is **thrown** at runtime when the respective error occurs, and we can add code to **catch** and handle it if that happens (and thus prevent the program from simply crashing). That is done by the try-and-except construct in Python. Simply put, it defines what should be tried, and what happens if that goes wrong:\n",
    "\n",
    "```\n",
    "try:\n",
    "    # do something\n",
    "except SomeError:\n",
    "    # do something to react on error\n",
    "```\n",
    "\n",
    "where, instead of ```SomeError```, you should write the specific type of error you are trying to catch. For example, a `ValueError` is thrown when the user's input is not convertible into an integer, so we can catch it and display an error message accordingly:"
   ]
  },
  {
   "cell_type": "code",
   "execution_count": null,
   "metadata": {},
   "outputs": [],
   "source": [
    "try:\n",
    "    x = int(input(\"Please enter a number: \"))\n",
    "except ValueError:\n",
    "    print(\"That was no valid number.\")\n",
    "print(x)"
   ]
  },
  {
   "cell_type": "markdown",
   "metadata": {},
   "source": [
    "In this case, it would in practice be handy if the user is asked to try again, until the user enters a valid input. Maybe even encapsulated into a function, to have a specific, error-handling reader available for reuse:"
   ]
  },
  {
   "cell_type": "code",
   "execution_count": null,
   "metadata": {},
   "outputs": [],
   "source": [
    "def read_integer(prompt):\n",
    "    while True:\n",
    "        try:\n",
    "            x = int(input(prompt))\n",
    "            return x\n",
    "        except ValueError:\n",
    "            print(\"That was no valid number. Try again.\")\n",
    "            \n",
    "# in main program:\n",
    "number = read_integer(\"Please enter a number:\" )\n",
    "print('The number entered was', number)"
   ]
  },
  {
   "cell_type": "markdown",
   "metadata": {},
   "source": [
    "When handling files, it can easily happen that the path to the file to be opened is not correct, and the file cannot be opened. Then the ```FileNotFoundError``` can be caught to prevent the program from crashing because of that:"
   ]
  },
  {
   "cell_type": "code",
   "execution_count": null,
   "metadata": {},
   "outputs": [],
   "source": [
    "filename = input(\"Enter file name: \")\n",
    "while True:\n",
    "    try:\n",
    "        with open(filename) as file:\n",
    "            print(file.read())\n",
    "            # In practice, you would have some more interesting code right here\n",
    "        break\n",
    "    except FileNotFoundError:\n",
    "        print(\"File not found. Please try again.\")\n",
    "        filename = input(\"Enter file name: \")"
   ]
  },
  {
   "cell_type": "markdown",
   "metadata": {},
   "source": [
    "There are several built-in exceptions in Python. We cannot go through them all, but you find them listed at https://docs.python.org/3/library/exceptions.html.\n",
    "\n",
    "Often several things can potentially go wrong, so that it makes sense to catch several exceptions:"
   ]
  },
  {
   "cell_type": "code",
   "execution_count": null,
   "metadata": {},
   "outputs": [],
   "source": [
    "try:\n",
    "    number1 = int(input(\"Enter number 1: \"))\n",
    "    number2 = int(input(\"Enter number 2: \"))\n",
    "    print(number1 * number2)\n",
    "    print(number1 / number2)\n",
    "except (ZeroDivisionError, ValueError):\n",
    "    print(\"Something went wrong with the calculation.\")"
   ]
  },
  {
   "cell_type": "markdown",
   "metadata": {},
   "source": [
    "Or in a more specific variant, distinguishing between division by zero and all other kinds of errors:"
   ]
  },
  {
   "cell_type": "code",
   "execution_count": null,
   "metadata": {},
   "outputs": [],
   "source": [
    "try:\n",
    "    number1 = int(input(\"Enter number 1: \"))\n",
    "    number2 = int(input(\"Enter number 2: \"))\n",
    "    print(number1 * number2)\n",
    "    print(number1 / number2)\n",
    "except ZeroDivisionError:\n",
    "    print(\"Division by 0!\")\n",
    "except:\n",
    "    print(\"Something went wrong with the calculation.\")"
   ]
  },
  {
   "cell_type": "markdown",
   "metadata": {},
   "source": [
    "As you can maybe guess from the previous example, an except clause with no specific error defined will catch all (remaining) errors that happen in the try clause. In such a case, it is often useful to assign a name to the exception that is caught, so that the error-handling code can check its type or get the underlying error message, to deal with the exception accordingly. For example:"
   ]
  },
  {
   "cell_type": "code",
   "execution_count": null,
   "metadata": {},
   "outputs": [],
   "source": [
    "number1 = read_integer(\"Enter number 1: \")\n",
    "number2 = read_integer(\"Enter number 2: \")\n",
    "try:\n",
    "    print(number1 * number2)\n",
    "    print(number1 / number2)\n",
    "except Exception as err:\n",
    "    print(\"Error handling for:\", err)"
   ]
  },
  {
   "cell_type": "markdown",
   "metadata": {},
   "source": [
    "Finally, note that with the ```raise``` statement it is also possible to let your own code throw an exception:"
   ]
  },
  {
   "cell_type": "code",
   "execution_count": null,
   "metadata": {},
   "outputs": [],
   "source": [
    "temperature = read_integer(\"Enter temperature: \")\n",
    "try:\n",
    "    if 0 < temperature < 100:\n",
    "        print(\"Water is liquid.\")\n",
    "    else:\n",
    "        raise Exception(\"incompatible temperature\", temperature)\n",
    "except Exception as err:\n",
    "    print(err) "
   ]
  },
  {
   "cell_type": "markdown",
   "metadata": {},
   "source": [
    "In practice it needs a bit of experience to decide how and where to implement error-handling behavior in a software. In the scope of the projects that you are working on in this course, it would not be feasible to surround each individual statement by try-and-except clauses. As a practical rule, error-handling should be implemented at places where things can easily go wrong, such as reading input from the user (even users with a lot of goodwill make typos), handling files (working with file systems is always prone to unexpected behavior) or accessing online resources and services (communication with them can be affected by network problems etc.). Generally, the less control the programmer (or their code) has over what happens, the more error-handling is a good idea."
   ]
  },
  {
   "cell_type": "markdown",
   "metadata": {},
   "source": [
    "### Challenge!\n",
    "\n",
    "![](img/activity_small.png)  \n",
    "\n",
    "The following code takes a list of Dutch municipalities and prints only those with an average household income above 40000"
   ]
  },
  {
   "cell_type": "code",
   "execution_count": null,
   "metadata": {},
   "outputs": [],
   "source": [
    "import csv\n",
    "\n",
    "def print_selected_municipalities():\n",
    "    with open(\"data/dutch_municipalities.csv\", \"r\") as csvfile:\n",
    "        csvreader = csv.DictReader(csvfile, delimiter='\\t')\n",
    "        for row in csvreader:\n",
    "            if int(row[\"avg_household_income_2012\"]) > 40000:\n",
    "                print(row[\"municipality\"], ':', row[\"province\"])"
   ]
  },
  {
   "cell_type": "markdown",
   "metadata": {},
   "source": [
    "You will notice that, if you run this program, it will throw an error:"
   ]
  },
  {
   "cell_type": "code",
   "execution_count": null,
   "metadata": {},
   "outputs": [],
   "source": [
    "print_selected_municipalities()"
   ]
  },
  {
   "cell_type": "markdown",
   "metadata": {},
   "source": [
    "Modify the code to handle the case when the average household income is missing."
   ]
  },
  {
   "cell_type": "markdown",
   "metadata": {},
   "source": [
    "## Exercises\n",
    "\n",
    "Solve the exercises below and add adequate try-and-except error handling to your code.\n",
    "Include it in all code that you write from now on, at least when dealing with user inputs, file reading/writing operations, and accessing resources or services on the web."
   ]
  },
  {
   "cell_type": "markdown",
   "metadata": {},
   "source": [
    "### 1. Interview Anonymization (★☆☆☆☆)\n",
    "Imagine you are a journalist, and you have written a text about an interview with somebody. Because the person wants to remain unrecognized, you have written a function to replace their name with the word ANONYMOUS everywhere in the text before it gets published. The function will fail if you pass it a value that is not a string. Implement error handing so that, in case a non-string value is passed, the program outputs the string INVALID."
   ]
  },
  {
   "cell_type": "code",
   "execution_count": null,
   "metadata": {},
   "outputs": [],
   "source": [
    "def anonymize(sentence):\n",
    "    return sentence.replace('Samira', 'ANONYMOUS')\n",
    "\n",
    "print(anonymize('Samira works with Samira'))\n",
    "print(anonymize('Samira works with Pablo'))\n",
    "print(anonymize(7))"
   ]
  },
  {
   "cell_type": "markdown",
   "metadata": {},
   "source": [
    "Expected output:\n",
    "\n",
    "`ANONYMOUS works with ANONYMOUS` \\\n",
    "`ANONYMOUS works with Pablo`\\\n",
    "`INVALID`"
   ]
  },
  {
   "cell_type": "markdown",
   "metadata": {},
   "source": [
    "### 2. Randomized Story-Telling (★★★★☆)\n",
    "One of the simple pen-and-paper games I remember from my childhood days goes as follows: A paper sheet is divided into four columns for the questions “Who?”, “Does what?”, “How?” and “Where?”. The first player would write down a person in the first column, then fold it away, the second would fill in a verb, fold it away, etc. After the fourth column has been filled, the complete sentence is read out. It could then be something like “My brother is showering excessively at the gas station.”\n",
    "\n",
    "Write a program that creates a user-defined number of such random sentences. The file ```inputs.csv``` contains a list of possible answers to all of the four questions. Take the values from there. Feel free to add further words to the CSV file to create more variation. The output of the program should be something like:\n",
    "```\n",
    "How many sentences do you want to create? 3\n",
    "My granny is dancing massively at the fair.\n",
    "The butcher is travelling aggressively in bed.\n",
    "My grandpa is reading nicely in the bathroom.\n",
    "```"
   ]
  },
  {
   "cell_type": "markdown",
   "metadata": {},
   "source": [
    "### 3. Population and Universities per Province (★★★★☆)\n",
    "Write a Python program that reads in the CSV file ```dutch_municipalities.csv``` that we already used in the lecture. Sum up the population and universities for each province and write the result into a new CSV file ```dutch_provinces.csv```, in alphabetical order of the province names. Its content should look like:\n",
    "```\n",
    "province,population,universities\n",
    "Drenthe,488892.0,0\n",
    "Flevoland,400179.0,0\n",
    "Friesland,580537.0,0\n",
    "Gelderland,1993851.0,2\n",
    "Groningen,495508.0,1\n",
    "Limburg,1119751.0,1\n",
    "Noord-Brabant,2390214.0,2\n",
    "Noord-Holland,2766854.0,2\n",
    "Overijssel,1139754.0,1\n",
    "Utrecht,1254034.0,1\n",
    "Zeeland,380619.0,0\n",
    "Zuid-Holland,3579503.0,3\n",
    "```"
   ]
  }
 ],
 "metadata": {
  "kernelspec": {
   "display_name": "Python 3 (ipykernel)",
   "language": "python",
   "name": "python3"
  },
  "language_info": {
   "codemirror_mode": {
    "name": "ipython",
    "version": 3
   },
   "file_extension": ".py",
   "mimetype": "text/x-python",
   "name": "python",
   "nbconvert_exporter": "python",
   "pygments_lexer": "ipython3",
   "version": "3.12.3"
  }
 },
 "nbformat": 4,
 "nbformat_minor": 4
}
